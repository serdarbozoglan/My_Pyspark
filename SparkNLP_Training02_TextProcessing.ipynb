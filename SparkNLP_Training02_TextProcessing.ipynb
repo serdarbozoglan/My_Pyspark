{
  "nbformat": 4,
  "nbformat_minor": 0,
  "metadata": {
    "colab": {
      "name": "SparkNLP_Training02_TextProcessing.ipynb",
      "provenance": [],
      "collapsed_sections": [],
      "toc_visible": true,
      "authorship_tag": "ABX9TyMm/XQLCnL7HMEsUcQa9fEd",
      "include_colab_link": true
    },
    "kernelspec": {
      "name": "python3",
      "display_name": "Python 3"
    },
    "accelerator": "GPU"
  },
  "cells": [
    {
      "cell_type": "markdown",
      "metadata": {
        "id": "view-in-github",
        "colab_type": "text"
      },
      "source": [
        "<a href=\"https://colab.research.google.com/github/serdarbozoglan/My_Pyspark/blob/master/SparkNLP_Training02_TextProcessing.ipynb\" target=\"_parent\"><img src=\"https://colab.research.google.com/assets/colab-badge.svg\" alt=\"Open In Colab\"/></a>"
      ]
    },
    {
      "cell_type": "markdown",
      "metadata": {
        "id": "F68jb_FSWn_q",
        "colab_type": "text"
      },
      "source": [
        "# Code is from GitHub\n",
        "\n",
        "https://github.com/JohnSnowLabs/spark-nlp-workshop/blob/master/tutorials/Certification_Trainings/Public/2.Text_Preprocessing_with_SparkNLP_Annotators_Transformers.ipynb"
      ]
    },
    {
      "cell_type": "code",
      "metadata": {
        "id": "k_E0GxcFrATu",
        "colab_type": "code",
        "outputId": "0bd6f926-8104-46a8-dae9-11cbb011c28e",
        "colab": {
          "base_uri": "https://localhost:8080/",
          "height": 394
        }
      },
      "source": [
        "import os\n",
        "\n",
        "# Install java\n",
        "! apt-get install -y openjdk-8-jdk-headless -qq > /dev/null\n",
        "os.environ[\"JAVA_HOME\"] = \"/usr/lib/jvm/java-8-openjdk-amd64\"\n",
        "os.environ[\"PATH\"] = os.environ[\"JAVA_HOME\"] + \"/bin:\" + os.environ[\"PATH\"]\n",
        "! java -version\n",
        "\n",
        "# Install pyspark\n",
        "! pip install --ignore-installed pyspark==2.4.4\n",
        "\n",
        "# Install Spark NLP\n",
        "! pip install --ignore-installed spark-nlp==2.4.5"
      ],
      "execution_count": 1,
      "outputs": [
        {
          "output_type": "stream",
          "text": [
            "openjdk version \"1.8.0_242\"\n",
            "OpenJDK Runtime Environment (build 1.8.0_242-8u242-b08-0ubuntu3~18.04-b08)\n",
            "OpenJDK 64-Bit Server VM (build 25.242-b08, mixed mode)\n",
            "Collecting pyspark==2.4.4\n",
            "\u001b[?25l  Downloading https://files.pythonhosted.org/packages/87/21/f05c186f4ddb01d15d0ddc36ef4b7e3cedbeb6412274a41f26b55a650ee5/pyspark-2.4.4.tar.gz (215.7MB)\n",
            "\u001b[K     |████████████████████████████████| 215.7MB 70kB/s \n",
            "\u001b[?25hCollecting py4j==0.10.7\n",
            "\u001b[?25l  Downloading https://files.pythonhosted.org/packages/e3/53/c737818eb9a7dc32a7cd4f1396e787bd94200c3997c72c1dbe028587bd76/py4j-0.10.7-py2.py3-none-any.whl (197kB)\n",
            "\u001b[K     |████████████████████████████████| 204kB 53.6MB/s \n",
            "\u001b[?25hBuilding wheels for collected packages: pyspark\n",
            "  Building wheel for pyspark (setup.py) ... \u001b[?25l\u001b[?25hdone\n",
            "  Created wheel for pyspark: filename=pyspark-2.4.4-py2.py3-none-any.whl size=216130388 sha256=b6f69b742a13c9b22c318bf646d7501273d575705c0ea86e57bca30512657f5c\n",
            "  Stored in directory: /root/.cache/pip/wheels/ab/09/4d/0d184230058e654eb1b04467dbc1292f00eaa186544604b471\n",
            "Successfully built pyspark\n",
            "Installing collected packages: py4j, pyspark\n",
            "Successfully installed py4j-0.10.7 pyspark-2.4.4\n",
            "Collecting spark-nlp==2.4.5\n",
            "\u001b[?25l  Downloading https://files.pythonhosted.org/packages/31/46/5c5a2bda407f693126386da5378f132e5e163fa6dfa46109548270348786/spark_nlp-2.4.5-py2.py3-none-any.whl (110kB)\n",
            "\u001b[K     |████████████████████████████████| 112kB 13.1MB/s \n",
            "\u001b[?25hInstalling collected packages: spark-nlp\n",
            "Successfully installed spark-nlp-2.4.5\n"
          ],
          "name": "stdout"
        }
      ]
    },
    {
      "cell_type": "code",
      "metadata": {
        "id": "JYfRI1sCIlOZ",
        "colab_type": "code",
        "colab": {}
      },
      "source": [
        "import pandas as pd"
      ],
      "execution_count": 0,
      "outputs": []
    },
    {
      "cell_type": "markdown",
      "metadata": {
        "id": "8lmOKqb3wYmi",
        "colab_type": "text"
      },
      "source": [
        "## Start Spark"
      ]
    },
    {
      "cell_type": "code",
      "metadata": {
        "id": "rBXyJUAyrSXP",
        "colab_type": "code",
        "outputId": "54c2d262-0fc7-4758-bb21-9fcf59eebebb",
        "colab": {
          "base_uri": "https://localhost:8080/",
          "height": 51
        }
      },
      "source": [
        "import sparknlp\n",
        "spark = sparknlp.start()\n",
        "\n",
        "print('Spark NLP Version : ', sparknlp.version())\n",
        "print('Apache Spark Version :', spark.version)"
      ],
      "execution_count": 4,
      "outputs": [
        {
          "output_type": "stream",
          "text": [
            "Spark NLP Version :  2.4.5\n",
            "Apache Spark Version : 2.4.4\n"
          ],
          "name": "stdout"
        }
      ]
    },
    {
      "cell_type": "code",
      "metadata": {
        "id": "kir2DrS2sr58",
        "colab_type": "code",
        "colab": {
          "base_uri": "https://localhost:8080/",
          "height": 224
        },
        "outputId": "46dc4145-eadf-43a9-b68c-3dfb43171a4c"
      },
      "source": [
        "!wget https://gist.githubusercontent.com/vkocaman/e091605f012ffc1efc0fcda170919602/raw/fae33d25bd026375b2aaf1194b68b9da559c4ac4/annotators.csv"
      ],
      "execution_count": 6,
      "outputs": [
        {
          "output_type": "stream",
          "text": [
            "--2020-04-20 13:06:50--  https://gist.githubusercontent.com/vkocaman/e091605f012ffc1efc0fcda170919602/raw/fae33d25bd026375b2aaf1194b68b9da559c4ac4/annotators.csv\n",
            "Resolving gist.githubusercontent.com (gist.githubusercontent.com)... 151.101.0.133, 151.101.64.133, 151.101.128.133, ...\n",
            "Connecting to gist.githubusercontent.com (gist.githubusercontent.com)|151.101.0.133|:443... connected.\n",
            "HTTP request sent, awaiting response... 200 OK\n",
            "Length: 3136 (3.1K) [text/plain]\n",
            "Saving to: ‘annotators.csv’\n",
            "\n",
            "\rannotators.csv        0%[                    ]       0  --.-KB/s               \rannotators.csv      100%[===================>]   3.06K  --.-KB/s    in 0s      \n",
            "\n",
            "2020-04-20 13:06:50 (49.3 MB/s) - ‘annotators.csv’ saved [3136/3136]\n",
            "\n"
          ],
          "name": "stdout"
        }
      ]
    },
    {
      "cell_type": "code",
      "metadata": {
        "id": "Z5QV1YKgs_iY",
        "colab_type": "code",
        "colab": {}
      },
      "source": [
        "import pandas as pd\n",
        "\n",
        "df = pd.read_csv('annotators.csv')"
      ],
      "execution_count": 0,
      "outputs": []
    },
    {
      "cell_type": "code",
      "metadata": {
        "id": "P9602dQBtG7I",
        "colab_type": "code",
        "colab": {
          "base_uri": "https://localhost:8080/",
          "height": 855
        },
        "outputId": "d65f7076-321a-4f2c-a169-3bd2e91650ee"
      },
      "source": [
        "df"
      ],
      "execution_count": 9,
      "outputs": [
        {
          "output_type": "execute_result",
          "data": {
            "text/html": [
              "<div>\n",
              "<style scoped>\n",
              "    .dataframe tbody tr th:only-of-type {\n",
              "        vertical-align: middle;\n",
              "    }\n",
              "\n",
              "    .dataframe tbody tr th {\n",
              "        vertical-align: top;\n",
              "    }\n",
              "\n",
              "    .dataframe thead th {\n",
              "        text-align: right;\n",
              "    }\n",
              "</style>\n",
              "<table border=\"1\" class=\"dataframe\">\n",
              "  <thead>\n",
              "    <tr style=\"text-align: right;\">\n",
              "      <th></th>\n",
              "      <th>Annotator</th>\n",
              "      <th>Description</th>\n",
              "      <th>Version</th>\n",
              "      <th>Annotator Approach</th>\n",
              "      <th>Annotator Model</th>\n",
              "    </tr>\n",
              "  </thead>\n",
              "  <tbody>\n",
              "    <tr>\n",
              "      <th>0</th>\n",
              "      <td>Tokenizer*</td>\n",
              "      <td>Identifies tokens with tokenization open stand...</td>\n",
              "      <td>Opensource</td>\n",
              "      <td>-</td>\n",
              "      <td>+</td>\n",
              "    </tr>\n",
              "    <tr>\n",
              "      <th>1</th>\n",
              "      <td>Normalizer*</td>\n",
              "      <td>Removes all dirty characters from text</td>\n",
              "      <td>Opensource</td>\n",
              "      <td>-</td>\n",
              "      <td>+</td>\n",
              "    </tr>\n",
              "    <tr>\n",
              "      <th>2</th>\n",
              "      <td>Stemmer*</td>\n",
              "      <td>Returns hard'-stems out of words with the obje...</td>\n",
              "      <td>Opensource</td>\n",
              "      <td>+</td>\n",
              "      <td>-</td>\n",
              "    </tr>\n",
              "    <tr>\n",
              "      <th>3</th>\n",
              "      <td>Lemmatizer*</td>\n",
              "      <td>Retrieves lemmas out of words with the objecti...</td>\n",
              "      <td>Opensource</td>\n",
              "      <td>-</td>\n",
              "      <td>+</td>\n",
              "    </tr>\n",
              "    <tr>\n",
              "      <th>4</th>\n",
              "      <td>RegexMatcher*</td>\n",
              "      <td>Uses a reference file to match a set of regula...</td>\n",
              "      <td>Opensource</td>\n",
              "      <td>+</td>\n",
              "      <td>+</td>\n",
              "    </tr>\n",
              "    <tr>\n",
              "      <th>5</th>\n",
              "      <td>TextMatcher*</td>\n",
              "      <td>Annotator to match entire phrases (by token) p...</td>\n",
              "      <td>Opensource</td>\n",
              "      <td>+</td>\n",
              "      <td>+</td>\n",
              "    </tr>\n",
              "    <tr>\n",
              "      <th>6</th>\n",
              "      <td>Chunker*</td>\n",
              "      <td>Matches a pattern of part'-of'-speech tags in ...</td>\n",
              "      <td>Opensource</td>\n",
              "      <td>+</td>\n",
              "      <td>-</td>\n",
              "    </tr>\n",
              "    <tr>\n",
              "      <th>7</th>\n",
              "      <td>DateMatcher*</td>\n",
              "      <td>Reads from different forms of date and time ex...</td>\n",
              "      <td>Opensource</td>\n",
              "      <td>+</td>\n",
              "      <td>-</td>\n",
              "    </tr>\n",
              "    <tr>\n",
              "      <th>8</th>\n",
              "      <td>SentenceDetector*</td>\n",
              "      <td>Finds sentence bounds in raw text. Applies rul...</td>\n",
              "      <td>Opensource</td>\n",
              "      <td>+</td>\n",
              "      <td>-</td>\n",
              "    </tr>\n",
              "    <tr>\n",
              "      <th>9</th>\n",
              "      <td>DeepSentenceDetector*</td>\n",
              "      <td>Finds sentence bounds in raw text. Applies a N...</td>\n",
              "      <td>Opensource</td>\n",
              "      <td>+</td>\n",
              "      <td>-</td>\n",
              "    </tr>\n",
              "    <tr>\n",
              "      <th>10</th>\n",
              "      <td>POSTagger</td>\n",
              "      <td>Sets a Part'-Of'-Speech tag to each word withi...</td>\n",
              "      <td>Opensource</td>\n",
              "      <td>+</td>\n",
              "      <td>+</td>\n",
              "    </tr>\n",
              "    <tr>\n",
              "      <th>11</th>\n",
              "      <td>ViveknSentimentDetector</td>\n",
              "      <td>Scores a sentence for a sentiment</td>\n",
              "      <td>Opensource</td>\n",
              "      <td>+</td>\n",
              "      <td>+</td>\n",
              "    </tr>\n",
              "    <tr>\n",
              "      <th>12</th>\n",
              "      <td>SentimentDetector*</td>\n",
              "      <td>Scores a sentence for a sentiment</td>\n",
              "      <td>Opensource</td>\n",
              "      <td>+</td>\n",
              "      <td>+</td>\n",
              "    </tr>\n",
              "    <tr>\n",
              "      <th>13</th>\n",
              "      <td>WordEmbeddings*</td>\n",
              "      <td>Word Embeddings lookup annotator that maps tok...</td>\n",
              "      <td>Opensource</td>\n",
              "      <td>+</td>\n",
              "      <td>+</td>\n",
              "    </tr>\n",
              "    <tr>\n",
              "      <th>14</th>\n",
              "      <td>BertEmbeddings*</td>\n",
              "      <td>Bert Embeddings that maps tokens to vectors in...</td>\n",
              "      <td>Opensource</td>\n",
              "      <td>+</td>\n",
              "      <td>-</td>\n",
              "    </tr>\n",
              "    <tr>\n",
              "      <th>15</th>\n",
              "      <td>NerCrf</td>\n",
              "      <td>Named Entity recognition annotator allows for ...</td>\n",
              "      <td>Opensource</td>\n",
              "      <td>+</td>\n",
              "      <td>+</td>\n",
              "    </tr>\n",
              "    <tr>\n",
              "      <th>16</th>\n",
              "      <td>NerDL</td>\n",
              "      <td>This Named Entity recognition annotator allows...</td>\n",
              "      <td>Opensource</td>\n",
              "      <td>+</td>\n",
              "      <td>+</td>\n",
              "    </tr>\n",
              "    <tr>\n",
              "      <th>17</th>\n",
              "      <td>NorvigSweeting</td>\n",
              "      <td>This annotator retrieves tokens and makes corr...</td>\n",
              "      <td>Opensource</td>\n",
              "      <td>+</td>\n",
              "      <td>+</td>\n",
              "    </tr>\n",
              "    <tr>\n",
              "      <th>18</th>\n",
              "      <td>SymmetricDelete</td>\n",
              "      <td>This spell checker is inspired on Symmetric De...</td>\n",
              "      <td>Opensource</td>\n",
              "      <td>+</td>\n",
              "      <td>+</td>\n",
              "    </tr>\n",
              "    <tr>\n",
              "      <th>19</th>\n",
              "      <td>ContextSpellChecker</td>\n",
              "      <td>Utilizes tensorflow to do context based spell ...</td>\n",
              "      <td>Opensource</td>\n",
              "      <td>+</td>\n",
              "      <td>+</td>\n",
              "    </tr>\n",
              "    <tr>\n",
              "      <th>20</th>\n",
              "      <td>DependencyParser</td>\n",
              "      <td>Unlabeled parser that finds a grammatical rela...</td>\n",
              "      <td>Opensource</td>\n",
              "      <td>+</td>\n",
              "      <td>+</td>\n",
              "    </tr>\n",
              "    <tr>\n",
              "      <th>21</th>\n",
              "      <td>TypedDependencyParser</td>\n",
              "      <td>Labeled parser that finds a grammatical relati...</td>\n",
              "      <td>Opensource</td>\n",
              "      <td>+</td>\n",
              "      <td>+</td>\n",
              "    </tr>\n",
              "    <tr>\n",
              "      <th>22</th>\n",
              "      <td>AssertionLogReg</td>\n",
              "      <td>It will classify each clinically relevant name...</td>\n",
              "      <td>Licensed</td>\n",
              "      <td>+</td>\n",
              "      <td>+</td>\n",
              "    </tr>\n",
              "    <tr>\n",
              "      <th>23</th>\n",
              "      <td>AssertionDL</td>\n",
              "      <td>It will classify each clinically relevant name...</td>\n",
              "      <td>Licensed</td>\n",
              "      <td>+</td>\n",
              "      <td>+</td>\n",
              "    </tr>\n",
              "    <tr>\n",
              "      <th>24</th>\n",
              "      <td>EntityResolver</td>\n",
              "      <td>Assigns a ICD10 (International Classification ...</td>\n",
              "      <td>Licensed</td>\n",
              "      <td>+</td>\n",
              "      <td>+</td>\n",
              "    </tr>\n",
              "    <tr>\n",
              "      <th>25</th>\n",
              "      <td>DeIdentification</td>\n",
              "      <td>Identifies potential pieces of content with pe...</td>\n",
              "      <td>Licensed</td>\n",
              "      <td>+</td>\n",
              "      <td>+</td>\n",
              "    </tr>\n",
              "  </tbody>\n",
              "</table>\n",
              "</div>"
            ],
            "text/plain": [
              "                  Annotator  ... Annotator Model\n",
              "0                Tokenizer*  ...               +\n",
              "1               Normalizer*  ...               +\n",
              "2                  Stemmer*  ...               -\n",
              "3               Lemmatizer*  ...               +\n",
              "4             RegexMatcher*  ...               +\n",
              "5              TextMatcher*  ...               +\n",
              "6                  Chunker*  ...               -\n",
              "7              DateMatcher*  ...               -\n",
              "8         SentenceDetector*  ...               -\n",
              "9     DeepSentenceDetector*  ...               -\n",
              "10                POSTagger  ...               +\n",
              "11  ViveknSentimentDetector  ...               +\n",
              "12       SentimentDetector*  ...               +\n",
              "13          WordEmbeddings*  ...               +\n",
              "14          BertEmbeddings*  ...               -\n",
              "15                   NerCrf  ...               +\n",
              "16                    NerDL  ...               +\n",
              "17           NorvigSweeting  ...               +\n",
              "18          SymmetricDelete  ...               +\n",
              "19      ContextSpellChecker  ...               +\n",
              "20         DependencyParser  ...               +\n",
              "21    TypedDependencyParser  ...               +\n",
              "22          AssertionLogReg  ...               +\n",
              "23              AssertionDL  ...               +\n",
              "24           EntityResolver  ...               +\n",
              "25         DeIdentification  ...               +\n",
              "\n",
              "[26 rows x 5 columns]"
            ]
          },
          "metadata": {
            "tags": []
          },
          "execution_count": 9
        }
      ]
    },
    {
      "cell_type": "code",
      "metadata": {
        "id": "BQWTtXmztHAG",
        "colab_type": "code",
        "colab": {
          "base_uri": "https://localhost:8080/",
          "height": 119
        },
        "outputId": "6ca272c1-4496-4ecd-cc5c-a7448fba7310"
      },
      "source": [
        "text = 'Peter Parker is a nice guy and lives in New York.'\n",
        "\n",
        "# spark is our session varaible we have created above as 'spark' = sparknlp.start() \n",
        "spark_df = spark.createDataFrame(([[text]])).toDF('text')\n",
        "spark_df.show(truncate=False)"
      ],
      "execution_count": 14,
      "outputs": [
        {
          "output_type": "stream",
          "text": [
            "+-------------------------------------------------+\n",
            "|text                                             |\n",
            "+-------------------------------------------------+\n",
            "|Peter Parker is a nice guy and lives in New York.|\n",
            "+-------------------------------------------------+\n",
            "\n"
          ],
          "name": "stdout"
        }
      ]
    },
    {
      "cell_type": "code",
      "metadata": {
        "id": "7fDrCP3MtHGW",
        "colab_type": "code",
        "colab": {
          "base_uri": "https://localhost:8080/",
          "height": 479
        },
        "outputId": "7a3bb89a-6ed4-429e-f2de-edab4bf24f4f"
      },
      "source": [
        "spark_df = spark.createDataFrame(df)\n",
        "spark_df.show(truncate=False)"
      ],
      "execution_count": 17,
      "outputs": [
        {
          "output_type": "stream",
          "text": [
            "+-----------------------+-----------------------------------------------------------------------------------------------------------------------------------------------------------------------------------------------------------+----------+------------------+---------------+\n",
            "|Annotator              |Description                                                                                                                                                                                                |Version   |Annotator Approach|Annotator Model|\n",
            "+-----------------------+-----------------------------------------------------------------------------------------------------------------------------------------------------------------------------------------------------------+----------+------------------+---------------+\n",
            "|Tokenizer*             |Identifies tokens with tokenization open standards                                                                                                                                                         |Opensource|-                 |+              |\n",
            "|Normalizer*            |Removes all dirty characters from text                                                                                                                                                                     |Opensource|-                 |+              |\n",
            "|Stemmer*               |Returns hard'-stems out of words with the objective of retrieving the meaningful part of the word                                                                                                          |Opensource|+                 |-              |\n",
            "|Lemmatizer*            |Retrieves lemmas out of words with the objective of returning a base dictionary word                                                                                                                       |Opensource|-                 |+              |\n",
            "|RegexMatcher*          |Uses a reference file to match a set of regular expressions and put them inside a provided key.                                                                                                            |Opensource|+                 |+              |\n",
            "|TextMatcher*           |Annotator to match entire phrases (by token) provided in a file against a Document                                                                                                                         |Opensource|+                 |+              |\n",
            "|Chunker*               |Matches a pattern of part'-of'-speech tags in order to return meaningful phrases from document                                                                                                             |Opensource|+                 |-              |\n",
            "|DateMatcher*           |Reads from different forms of date and time expressions and converts them to a provided date format                                                                                                        |Opensource|+                 |-              |\n",
            "|SentenceDetector*      |Finds sentence bounds in raw text. Applies rules from Pragmatic Segmenter                                                                                                                                  |Opensource|+                 |-              |\n",
            "|DeepSentenceDetector*  |Finds sentence bounds in raw text. Applies a Named Entity Recognition DL model                                                                                                                             |Opensource|+                 |-              |\n",
            "|POSTagger              |Sets a Part'-Of'-Speech tag to each word within a sentence.                                                                                                                                                |Opensource|+                 |+              |\n",
            "|ViveknSentimentDetector|Scores a sentence for a sentiment                                                                                                                                                                          |Opensource|+                 |+              |\n",
            "|SentimentDetector*     |Scores a sentence for a sentiment                                                                                                                                                                          |Opensource|+                 |+              |\n",
            "|WordEmbeddings*        |Word Embeddings lookup annotator that maps tokens to vectors                                                                                                                                               |Opensource|+                 |+              |\n",
            "|BertEmbeddings*        |Bert Embeddings that maps tokens to vectors in a bidirectional way                                                                                                                                         |Opensource|+                 |-              |\n",
            "|NerCrf                 |Named Entity recognition annotator allows for a generic model to be trained by utilizing a CRF machine learning algorithm                                                                                  |Opensource|+                 |+              |\n",
            "|NerDL                  |This Named Entity recognition annotator allows to train generic NER model based on Neural Networks by utilizing Char CNNs '- BiLSTM '- CRF architecture that achieves state'-of'-the'-art in most datasets.|Opensource|+                 |+              |\n",
            "|NorvigSweeting         |This annotator retrieves tokens and makes corrections automatically if not found in an English dictionary                                                                                                  |Opensource|+                 |+              |\n",
            "|SymmetricDelete        |This spell checker is inspired on Symmetric Delete algorithm                                                                                                                                               |Opensource|+                 |+              |\n",
            "|ContextSpellChecker    |Utilizes tensorflow to do context based spell checking                                                                                                                                                     |Opensource|+                 |+              |\n",
            "+-----------------------+-----------------------------------------------------------------------------------------------------------------------------------------------------------------------------------------------------------+----------+------------------+---------------+\n",
            "only showing top 20 rows\n",
            "\n"
          ],
          "name": "stdout"
        }
      ]
    },
    {
      "cell_type": "code",
      "metadata": {
        "id": "XTxZIKJftHMc",
        "colab_type": "code",
        "colab": {
          "base_uri": "https://localhost:8080/",
          "height": 224
        },
        "outputId": "fdce99de-c5d9-4933-a1a4-b7bbeb00f24f"
      },
      "source": [
        "!wget https://raw.githubusercontent.com/JohnSnowLabs/spark-nlp-workshop/master/jupyter/annotation/english/spark-nlp-basics/sample-sentences-en.txt"
      ],
      "execution_count": 18,
      "outputs": [
        {
          "output_type": "stream",
          "text": [
            "--2020-04-20 13:21:01--  https://raw.githubusercontent.com/JohnSnowLabs/spark-nlp-workshop/master/jupyter/annotation/english/spark-nlp-basics/sample-sentences-en.txt\n",
            "Resolving raw.githubusercontent.com (raw.githubusercontent.com)... 151.101.0.133, 151.101.64.133, 151.101.128.133, ...\n",
            "Connecting to raw.githubusercontent.com (raw.githubusercontent.com)|151.101.0.133|:443... connected.\n",
            "HTTP request sent, awaiting response... 200 OK\n",
            "Length: 284 [text/plain]\n",
            "Saving to: ‘sample-sentences-en.txt’\n",
            "\n",
            "\rsample-sentences-en   0%[                    ]       0  --.-KB/s               \rsample-sentences-en 100%[===================>]     284  --.-KB/s    in 0s      \n",
            "\n",
            "2020-04-20 13:21:01 (17.7 MB/s) - ‘sample-sentences-en.txt’ saved [284/284]\n",
            "\n"
          ],
          "name": "stdout"
        }
      ]
    },
    {
      "cell_type": "code",
      "metadata": {
        "id": "4AILw1n3tHQs",
        "colab_type": "code",
        "colab": {
          "base_uri": "https://localhost:8080/",
          "height": 187
        },
        "outputId": "c0a79e6c-09eb-49bb-c177-f4dbbe1d7492"
      },
      "source": [
        "# When we use read.text --> it reads line by line\n",
        "spark_df1 = spark.read.text('./sample-sentences-en.txt').toDF('text')\n",
        "spark_df1.show(truncate=False)"
      ],
      "execution_count": 27,
      "outputs": [
        {
          "output_type": "stream",
          "text": [
            "+-----------------------------------------------------------------------------+\n",
            "|text                                                                         |\n",
            "+-----------------------------------------------------------------------------+\n",
            "|Peter is a very good person.                                                 |\n",
            "|My life in Russia is very interesting.                                       |\n",
            "|John and Peter are brothers. However they don't support each other that much.|\n",
            "|Lucas Nogal Dunbercker is no longer happy. He has a good car though.         |\n",
            "|Europe is very culture rich. There are huge churches! and big houses!        |\n",
            "+-----------------------------------------------------------------------------+\n",
            "\n"
          ],
          "name": "stdout"
        }
      ]
    },
    {
      "cell_type": "code",
      "metadata": {
        "id": "6BfwFDC7tHTh",
        "colab_type": "code",
        "colab": {
          "base_uri": "https://localhost:8080/",
          "height": 187
        },
        "outputId": "9b76b7bf-4e8e-43d1-892f-be664040a5cb"
      },
      "source": [
        "# Eger sadece 1 column secmek istersek\n",
        "spark_df1.select('text').show(truncate=False)"
      ],
      "execution_count": 28,
      "outputs": [
        {
          "output_type": "stream",
          "text": [
            "+-----------------------------------------------------------------------------+\n",
            "|text                                                                         |\n",
            "+-----------------------------------------------------------------------------+\n",
            "|Peter is a very good person.                                                 |\n",
            "|My life in Russia is very interesting.                                       |\n",
            "|John and Peter are brothers. However they don't support each other that much.|\n",
            "|Lucas Nogal Dunbercker is no longer happy. He has a good car though.         |\n",
            "|Europe is very culture rich. There are huge churches! and big houses!        |\n",
            "+-----------------------------------------------------------------------------+\n",
            "\n"
          ],
          "name": "stdout"
        }
      ]
    },
    {
      "cell_type": "code",
      "metadata": {
        "id": "TdW2SqbDtHPL",
        "colab_type": "code",
        "colab": {
          "base_uri": "https://localhost:8080/",
          "height": 119
        },
        "outputId": "a0bcc90d-6783-467d-b342-ac1841492655"
      },
      "source": [
        "# The wholeTextFiles reads file as whole single document not line by line\n",
        "textFiles = spark.sparkContext.wholeTextFiles(\"./*.txt\", 4)\n",
        "spark_df = textFiles.toDF(schema=['path', 'file_content'])\n",
        "spark_df.show(truncate=30)"
      ],
      "execution_count": 22,
      "outputs": [
        {
          "output_type": "stream",
          "text": [
            "+------------------------------+------------------------------+\n",
            "|                          path|                  file_content|\n",
            "+------------------------------+------------------------------+\n",
            "|file:/content/sample-senten...|Peter is a very good person...|\n",
            "+------------------------------+------------------------------+\n",
            "\n"
          ],
          "name": "stdout"
        }
      ]
    },
    {
      "cell_type": "code",
      "metadata": {
        "id": "ndYs7ofXtHKj",
        "colab_type": "code",
        "colab": {
          "base_uri": "https://localhost:8080/",
          "height": 54
        },
        "outputId": "97eed9c5-65ae-4d7a-8fa3-f533ceb5edb1"
      },
      "source": [
        "spark_df.select('file_content').take(1)"
      ],
      "execution_count": 23,
      "outputs": [
        {
          "output_type": "execute_result",
          "data": {
            "text/plain": [
              "[Row(file_content=\"Peter is a very good person.\\nMy life in Russia is very interesting.\\nJohn and Peter are brothers. However they don't support each other that much.\\nLucas Nogal Dunbercker is no longer happy. He has a good car though.\\nEurope is very culture rich. There are huge churches! and big houses!\")]"
            ]
          },
          "metadata": {
            "tags": []
          },
          "execution_count": 23
        }
      ]
    },
    {
      "cell_type": "markdown",
      "metadata": {
        "id": "LbjHDtQ5yXV2",
        "colab_type": "text"
      },
      "source": [
        "## Document Assambler"
      ]
    },
    {
      "cell_type": "code",
      "metadata": {
        "id": "DOlntx0syWfM",
        "colab_type": "code",
        "colab": {}
      },
      "source": [
        "from sparknlp.base import *"
      ],
      "execution_count": 0,
      "outputs": []
    },
    {
      "cell_type": "code",
      "metadata": {
        "id": "bSUR42_DtHJJ",
        "colab_type": "code",
        "colab": {
          "base_uri": "https://localhost:8080/",
          "height": 207
        },
        "outputId": "e380ca6b-87df-4eca-dd43-290d4d4ec27d"
      },
      "source": [
        "documentAssembler = DocumentAssembler()\\\n",
        ".setInputCol('text')\\\n",
        ".setOutputCol('document')\\\n",
        ".setCleanupMode('shrink') # bosluklari, tab'leri vs temizler\n",
        "\n",
        "doc_df = documentAssembler.transform(spark_df1)\n",
        "doc_df.show(truncate=False)"
      ],
      "execution_count": 29,
      "outputs": [
        {
          "output_type": "stream",
          "text": [
            "+-----------------------------------------------------------------------------+-----------------------------------------------------------------------------------------------------------------------+\n",
            "|text                                                                         |document                                                                                                               |\n",
            "+-----------------------------------------------------------------------------+-----------------------------------------------------------------------------------------------------------------------+\n",
            "|Peter is a very good person.                                                 |[[document, 0, 27, Peter is a very good person., [sentence -> 0], []]]                                                 |\n",
            "|My life in Russia is very interesting.                                       |[[document, 0, 37, My life in Russia is very interesting., [sentence -> 0], []]]                                       |\n",
            "|John and Peter are brothers. However they don't support each other that much.|[[document, 0, 76, John and Peter are brothers. However they don't support each other that much., [sentence -> 0], []]]|\n",
            "|Lucas Nogal Dunbercker is no longer happy. He has a good car though.         |[[document, 0, 67, Lucas Nogal Dunbercker is no longer happy. He has a good car though., [sentence -> 0], []]]         |\n",
            "|Europe is very culture rich. There are huge churches! and big houses!        |[[document, 0, 68, Europe is very culture rich. There are huge churches! and big houses!, [sentence -> 0], []]]        |\n",
            "+-----------------------------------------------------------------------------+-----------------------------------------------------------------------------------------------------------------------+\n",
            "\n"
          ],
          "name": "stdout"
        }
      ]
    },
    {
      "cell_type": "code",
      "metadata": {
        "id": "pWJ8ARy-tHEk",
        "colab_type": "code",
        "colab": {
          "base_uri": "https://localhost:8080/",
          "height": 255
        },
        "outputId": "8455e6d9-8a10-43a3-e37c-9bf028db8713"
      },
      "source": [
        "doc_df.printSchema()\n",
        "# as we can see we have the metadata here"
      ],
      "execution_count": 30,
      "outputs": [
        {
          "output_type": "stream",
          "text": [
            "root\n",
            " |-- text: string (nullable = true)\n",
            " |-- document: array (nullable = true)\n",
            " |    |-- element: struct (containsNull = true)\n",
            " |    |    |-- annotatorType: string (nullable = true)\n",
            " |    |    |-- begin: integer (nullable = false)\n",
            " |    |    |-- end: integer (nullable = false)\n",
            " |    |    |-- result: string (nullable = true)\n",
            " |    |    |-- metadata: map (nullable = true)\n",
            " |    |    |    |-- key: string\n",
            " |    |    |    |-- value: string (valueContainsNull = true)\n",
            " |    |    |-- embeddings: array (nullable = true)\n",
            " |    |    |    |-- element: float (containsNull = false)\n",
            "\n"
          ],
          "name": "stdout"
        }
      ]
    },
    {
      "cell_type": "code",
      "metadata": {
        "id": "dJZ0AHOPtG-Z",
        "colab_type": "code",
        "colab": {
          "base_uri": "https://localhost:8080/",
          "height": 187
        },
        "outputId": "6e521e1d-c6a1-4655-f17f-59705172bf98"
      },
      "source": [
        "doc_df.select('document.result', 'document.begin', 'document.end').show(truncate=False)\n",
        "# each one returns a list type"
      ],
      "execution_count": 31,
      "outputs": [
        {
          "output_type": "stream",
          "text": [
            "+-------------------------------------------------------------------------------+-----+----+\n",
            "|result                                                                         |begin|end |\n",
            "+-------------------------------------------------------------------------------+-----+----+\n",
            "|[Peter is a very good person.]                                                 |[0]  |[27]|\n",
            "|[My life in Russia is very interesting.]                                       |[0]  |[37]|\n",
            "|[John and Peter are brothers. However they don't support each other that much.]|[0]  |[76]|\n",
            "|[Lucas Nogal Dunbercker is no longer happy. He has a good car though.]         |[0]  |[67]|\n",
            "|[Europe is very culture rich. There are huge churches! and big houses!]        |[0]  |[68]|\n",
            "+-------------------------------------------------------------------------------+-----+----+\n",
            "\n"
          ],
          "name": "stdout"
        }
      ]
    },
    {
      "cell_type": "code",
      "metadata": {
        "id": "apLGDxjG1tmn",
        "colab_type": "code",
        "colab": {
          "base_uri": "https://localhost:8080/",
          "height": 34
        },
        "outputId": "9f731763-c410-446d-a3a7-7a06678c0a70"
      },
      "source": [
        "# esas df'te document column uzerinde islem yapiyoruz o yuzden document.result olarak tanimlamaliyiz\n",
        "doc_df.select(\"document.result\").take(1)"
      ],
      "execution_count": 34,
      "outputs": [
        {
          "output_type": "execute_result",
          "data": {
            "text/plain": [
              "[Row(result=['Peter is a very good person.'])]"
            ]
          },
          "metadata": {
            "tags": []
          },
          "execution_count": 34
        }
      ]
    },
    {
      "cell_type": "code",
      "metadata": {
        "id": "ZqchKFhI1tr2",
        "colab_type": "code",
        "colab": {
          "base_uri": "https://localhost:8080/",
          "height": 187
        },
        "outputId": "bc7d3aca-7a46-4592-a1a8-99c3421c4b47"
      },
      "source": [
        "### Expoloding teh dataframe (to view in much better nice view)\n",
        "\n",
        "import pyspark.sql.functions as F\n",
        "\n",
        "doc_df.withColumn(\n",
        "    \"tmp\",\n",
        "    F.explode('document'))\\\n",
        "    .select('tmp.*')\\\n",
        "    .show(truncate=False)"
      ],
      "execution_count": 36,
      "outputs": [
        {
          "output_type": "stream",
          "text": [
            "+-------------+-----+---+-----------------------------------------------------------------------------+---------------+----------+\n",
            "|annotatorType|begin|end|result                                                                       |metadata       |embeddings|\n",
            "+-------------+-----+---+-----------------------------------------------------------------------------+---------------+----------+\n",
            "|document     |0    |27 |Peter is a very good person.                                                 |[sentence -> 0]|[]        |\n",
            "|document     |0    |37 |My life in Russia is very interesting.                                       |[sentence -> 0]|[]        |\n",
            "|document     |0    |76 |John and Peter are brothers. However they don't support each other that much.|[sentence -> 0]|[]        |\n",
            "|document     |0    |67 |Lucas Nogal Dunbercker is no longer happy. He has a good car though.         |[sentence -> 0]|[]        |\n",
            "|document     |0    |68 |Europe is very culture rich. There are huge churches! and big houses!        |[sentence -> 0]|[]        |\n",
            "+-------------+-----+---+-----------------------------------------------------------------------------+---------------+----------+\n",
            "\n"
          ],
          "name": "stdout"
        }
      ]
    },
    {
      "cell_type": "markdown",
      "metadata": {
        "id": "gjHSAXJW3_LS",
        "colab_type": "text"
      },
      "source": [
        "## Sentence Detector"
      ]
    },
    {
      "cell_type": "code",
      "metadata": {
        "id": "LV_aw_Zb1twU",
        "colab_type": "code",
        "colab": {}
      },
      "source": [
        "from sparknlp.annotator import *\n",
        "\n",
        "# we feed the document column coming from Document Assembler\n",
        "\n",
        "sentenceDetector = SentenceDetector().\\\n",
        "setInputCols(['document']).\\\n",
        "setOutputCol('sentences')"
      ],
      "execution_count": 0,
      "outputs": []
    },
    {
      "cell_type": "code",
      "metadata": {
        "id": "tP5_3exK4Dup",
        "colab_type": "code",
        "colab": {
          "base_uri": "https://localhost:8080/",
          "height": 207
        },
        "outputId": "e24086dc-7727-496e-95c0-dbd8346557ab"
      },
      "source": [
        "sent_df = sentenceDetector.transform(doc_df)\n",
        "sent_df.show(truncate=False)"
      ],
      "execution_count": 42,
      "outputs": [
        {
          "output_type": "stream",
          "text": [
            "+-----------------------------------------------------------------------------+-----------------------------------------------------------------------------------------------------------------------+---------------------------------------------------------------------------------------------------------------------------------------------------------------------------------------------------+\n",
            "|text                                                                         |document                                                                                                               |sentences                                                                                                                                                                                          |\n",
            "+-----------------------------------------------------------------------------+-----------------------------------------------------------------------------------------------------------------------+---------------------------------------------------------------------------------------------------------------------------------------------------------------------------------------------------+\n",
            "|Peter is a very good person.                                                 |[[document, 0, 27, Peter is a very good person., [sentence -> 0], []]]                                                 |[[document, 0, 27, Peter is a very good person., [sentence -> 0], []]]                                                                                                                             |\n",
            "|My life in Russia is very interesting.                                       |[[document, 0, 37, My life in Russia is very interesting., [sentence -> 0], []]]                                       |[[document, 0, 37, My life in Russia is very interesting., [sentence -> 0], []]]                                                                                                                   |\n",
            "|John and Peter are brothers. However they don't support each other that much.|[[document, 0, 76, John and Peter are brothers. However they don't support each other that much., [sentence -> 0], []]]|[[document, 0, 27, John and Peter are brothers., [sentence -> 0], []], [document, 29, 76, However they don't support each other that much., [sentence -> 1], []]]                                  |\n",
            "|Lucas Nogal Dunbercker is no longer happy. He has a good car though.         |[[document, 0, 67, Lucas Nogal Dunbercker is no longer happy. He has a good car though., [sentence -> 0], []]]         |[[document, 0, 41, Lucas Nogal Dunbercker is no longer happy., [sentence -> 0], []], [document, 43, 67, He has a good car though., [sentence -> 1], []]]                                           |\n",
            "|Europe is very culture rich. There are huge churches! and big houses!        |[[document, 0, 68, Europe is very culture rich. There are huge churches! and big houses!, [sentence -> 0], []]]        |[[document, 0, 27, Europe is very culture rich., [sentence -> 0], []], [document, 29, 52, There are huge churches!, [sentence -> 1], []], [document, 54, 68, and big houses!, [sentence -> 2], []]]|\n",
            "+-----------------------------------------------------------------------------+-----------------------------------------------------------------------------------------------------------------------+---------------------------------------------------------------------------------------------------------------------------------------------------------------------------------------------------+\n",
            "\n"
          ],
          "name": "stdout"
        }
      ]
    },
    {
      "cell_type": "code",
      "metadata": {
        "id": "244pdka54Dx_",
        "colab_type": "code",
        "colab": {
          "base_uri": "https://localhost:8080/",
          "height": 88
        },
        "outputId": "b3eda7ba-96d7-4d0d-a2e9-7e778a5453d5"
      },
      "source": [
        "# take works as head in pandas\n",
        "sent_df.select('sentences').take(3)"
      ],
      "execution_count": 44,
      "outputs": [
        {
          "output_type": "execute_result",
          "data": {
            "text/plain": [
              "[Row(sentences=[Row(annotatorType='document', begin=0, end=27, result='Peter is a very good person.', metadata={'sentence': '0'}, embeddings=[])]),\n",
              " Row(sentences=[Row(annotatorType='document', begin=0, end=37, result='My life in Russia is very interesting.', metadata={'sentence': '0'}, embeddings=[])]),\n",
              " Row(sentences=[Row(annotatorType='document', begin=0, end=27, result='John and Peter are brothers.', metadata={'sentence': '0'}, embeddings=[]), Row(annotatorType='document', begin=29, end=76, result=\"However they don't support each other that much.\", metadata={'sentence': '1'}, embeddings=[])])]"
            ]
          },
          "metadata": {
            "tags": []
          },
          "execution_count": 44
        }
      ]
    },
    {
      "cell_type": "code",
      "metadata": {
        "id": "F_EEb8IG4D1d",
        "colab_type": "code",
        "colab": {
          "base_uri": "https://localhost:8080/",
          "height": 54
        },
        "outputId": "b83440bd-4225-4fb0-9569-cc9a9c7a0bc7"
      },
      "source": [
        "sample_text =\"\"\"The patient was prescribed 1 capsule of Advil for 5 days . He was seen by the endocrinology \n",
        "service and she was discharged on 40 units of insulin glargine at night , 12 units of insulin lispro \n",
        "with meals , and metformin 1000 mg two times a day . It was determined that all SGLT2 inhibitors should \n",
        "be discontinued indefinitely fro 3 months .\"\"\"\n",
        "sample_text"
      ],
      "execution_count": 47,
      "outputs": [
        {
          "output_type": "execute_result",
          "data": {
            "text/plain": [
              "'The patient was prescribed 1 capsule of Advil for 5 days . He was seen by the endocrinology \\nservice and she was discharged on 40 units of insulin glargine at night , 12 units of insulin lispro \\nwith meals , and metformin 1000 mg two times a day . It was determined that all SGLT2 inhibitors should \\nbe discontinued indefinitely fro 3 months .'"
            ]
          },
          "metadata": {
            "tags": []
          },
          "execution_count": 47
        }
      ]
    },
    {
      "cell_type": "code",
      "metadata": {
        "id": "aQGNO3Ui1tzd",
        "colab_type": "code",
        "colab": {
          "base_uri": "https://localhost:8080/",
          "height": 190
        },
        "outputId": "1875e662-70c8-46e5-b9e6-72bbff0c1fdd"
      },
      "source": [
        "spark_df2 = spark.createDataFrame([[sample_text]]).toDF('text')\n",
        "spark_df2.show(truncate=False)"
      ],
      "execution_count": 49,
      "outputs": [
        {
          "output_type": "stream",
          "text": [
            "+-------------------------------------------------------------------------------------------------------------------------------------------------------------------------------------------------------------------------------------------------------------------------------------------------------------------------------------------------------+\n",
            "|text                                                                                                                                                                                                                                                                                                                                                   |\n",
            "+-------------------------------------------------------------------------------------------------------------------------------------------------------------------------------------------------------------------------------------------------------------------------------------------------------------------------------------------------------+\n",
            "|The patient was prescribed 1 capsule of Advil for 5 days . He was seen by the endocrinology \n",
            "service and she was discharged on 40 units of insulin glargine at night , 12 units of insulin lispro \n",
            "with meals , and metformin 1000 mg two times a day . It was determined that all SGLT2 inhibitors should \n",
            "be discontinued indefinitely fro 3 months .|\n",
            "+-------------------------------------------------------------------------------------------------------------------------------------------------------------------------------------------------------------------------------------------------------------------------------------------------------------------------------------------------------+\n",
            "\n"
          ],
          "name": "stdout"
        }
      ]
    },
    {
      "cell_type": "code",
      "metadata": {
        "id": "mjRTCQl21tu2",
        "colab_type": "code",
        "colab": {
          "base_uri": "https://localhost:8080/",
          "height": 119
        },
        "outputId": "ac6b66c5-df09-4541-bdbe-f434b76cc57a"
      },
      "source": [
        "doc_df1 = documentAssembler.transform(spark_df2)\n",
        "sent_df = sentenceDetector.transform(doc_df1)\n",
        "sent_df.show(truncate=40)"
      ],
      "execution_count": 54,
      "outputs": [
        {
          "output_type": "stream",
          "text": [
            "+----------------------------------------+----------------------------------------+----------------------------------------+\n",
            "|                                    text|                                document|                               sentences|\n",
            "+----------------------------------------+----------------------------------------+----------------------------------------+\n",
            "|The patient was prescribed 1 capsule ...|[[document, 0, 339, The patient was p...|[[document, 0, 57, The patient was pr...|\n",
            "+----------------------------------------+----------------------------------------+----------------------------------------+\n",
            "\n"
          ],
          "name": "stdout"
        }
      ]
    },
    {
      "cell_type": "code",
      "metadata": {
        "id": "Prx2lEI91tqD",
        "colab_type": "code",
        "colab": {
          "base_uri": "https://localhost:8080/",
          "height": 54
        },
        "outputId": "ac915241-e643-44cf-c9d1-ebb0aebcbc3f"
      },
      "source": [
        "sent_df.select('sentences.result').take(1)"
      ],
      "execution_count": 56,
      "outputs": [
        {
          "output_type": "execute_result",
          "data": {
            "text/plain": [
              "[Row(result=['The patient was prescribed 1 capsule of Advil for 5 days .', 'He was seen by the endocrinology service and she was discharged on 40 units of insulin glargine at night , 12 units of insulin lispro with meals , and metformin 1000 mg two times a day .', 'It was determined that all SGLT2 inhibitors should be discontinued indefinitely fro 3 months .'])]"
            ]
          },
          "metadata": {
            "tags": []
          },
          "execution_count": 56
        }
      ]
    },
    {
      "cell_type": "code",
      "metadata": {
        "id": "1mCylQL19BYq",
        "colab_type": "code",
        "colab": {
          "base_uri": "https://localhost:8080/",
          "height": 34
        },
        "outputId": "6cb36b65-c1b5-4a5d-dde8-9acb25703acb"
      },
      "source": [
        "sentenceDetector.setExplodeSentences(True)"
      ],
      "execution_count": 57,
      "outputs": [
        {
          "output_type": "execute_result",
          "data": {
            "text/plain": [
              "SentenceDetector_18a10300d4df"
            ]
          },
          "metadata": {
            "tags": []
          },
          "execution_count": 57
        }
      ]
    },
    {
      "cell_type": "code",
      "metadata": {
        "id": "6ics4Pyp9BiU",
        "colab_type": "code",
        "colab": {
          "base_uri": "https://localhost:8080/",
          "height": 173
        },
        "outputId": "92bcbff6-4ab8-4fd2-bc18-5d17d47725a5"
      },
      "source": [
        "sent_df = sentenceDetector.transform(doc_df1)\n",
        "sent_df.select('sentences.result').show(truncate=False)"
      ],
      "execution_count": 64,
      "outputs": [
        {
          "output_type": "stream",
          "text": [
            "+--------------------------------------------------------------------------------------------------------------------------------------------------------------------------------------------+\n",
            "|result                                                                                                                                                                                      |\n",
            "+--------------------------------------------------------------------------------------------------------------------------------------------------------------------------------------------+\n",
            "|[The patient was prescribed 1 capsule of Advil for 5 days .]                                                                                                                                |\n",
            "|[He was seen by the endocrinology service and she was discharged on 40 units of insulin glargine at night , 12 units of insulin lispro with meals , and metformin 1000 mg two times a day .]|\n",
            "|[It was determined that all SGLT2 inhibitors should be discontinued indefinitely fro 3 months .]                                                                                            |\n",
            "+--------------------------------------------------------------------------------------------------------------------------------------------------------------------------------------------+\n",
            "\n"
          ],
          "name": "stdout"
        }
      ]
    },
    {
      "cell_type": "markdown",
      "metadata": {
        "id": "FlB5szs_95s6",
        "colab_type": "text"
      },
      "source": [
        "## Tokenizer"
      ]
    },
    {
      "cell_type": "code",
      "metadata": {
        "id": "O1RcERSs9BtU",
        "colab_type": "code",
        "colab": {}
      },
      "source": [
        "# #we can also use sentence in InputCols\n",
        "tokenizer = Tokenizer()\\\n",
        "            .setInputCols(['document'])\\\n",
        "            .setOutputCol('token')"
      ],
      "execution_count": 0,
      "outputs": []
    },
    {
      "cell_type": "code",
      "metadata": {
        "id": "8_AsrFtS9B5s",
        "colab_type": "code",
        "colab": {
          "base_uri": "https://localhost:8080/",
          "height": 374
        },
        "outputId": "d3572801-8382-4a88-c8b3-2919836f20ba"
      },
      "source": [
        "text2 = \"Peter Parker (Spiderman) is a nice guy and live ins New York but has no e-mail! and he's gone so far\"\n",
        "text2.split()\n",
        "# There are unwanted chars below which we do not want a part fo token such as () and !"
      ],
      "execution_count": 81,
      "outputs": [
        {
          "output_type": "execute_result",
          "data": {
            "text/plain": [
              "['Peter',\n",
              " 'Parker',\n",
              " '(Spiderman)',\n",
              " 'is',\n",
              " 'a',\n",
              " 'nice',\n",
              " 'guy',\n",
              " 'and',\n",
              " 'live',\n",
              " 'ins',\n",
              " 'New',\n",
              " 'York',\n",
              " 'but',\n",
              " 'has',\n",
              " 'no',\n",
              " 'e-mail!',\n",
              " 'and',\n",
              " \"he's\",\n",
              " 'gone',\n",
              " 'so',\n",
              " 'far']"
            ]
          },
          "metadata": {
            "tags": []
          },
          "execution_count": 81
        }
      ]
    },
    {
      "cell_type": "code",
      "metadata": {
        "id": "vTtPHeQ39CAV",
        "colab_type": "code",
        "colab": {}
      },
      "source": [
        "spark_df = spark.createDataFrame([[text2]]).toDF('text')"
      ],
      "execution_count": 0,
      "outputs": []
    },
    {
      "cell_type": "code",
      "metadata": {
        "id": "yFx1qvSl9CI-",
        "colab_type": "code",
        "colab": {
          "base_uri": "https://localhost:8080/",
          "height": 139
        },
        "outputId": "b60839e8-0b03-4bbb-b03a-0cae49520d5a"
      },
      "source": [
        "doc_df = documentAssembler.transform(spark_df)\n",
        "token_df = tokenizer.fit(doc_df).transform(doc_df)\n",
        "token_df.show(truncate=100)"
      ],
      "execution_count": 83,
      "outputs": [
        {
          "output_type": "stream",
          "text": [
            "+----------------------------------------------------------------------------------------------------+----------------------------------------------------------------------------------------------------+----------------------------------------------------------------------------------------------------+\n",
            "|                                                                                                text|                                                                                            document|                                                                                               token|\n",
            "+----------------------------------------------------------------------------------------------------+----------------------------------------------------------------------------------------------------+----------------------------------------------------------------------------------------------------+\n",
            "|Peter Parker (Spiderman) is a nice guy and live ins New York but has no e-mail! and he's gone so far|[[document, 0, 99, Peter Parker (Spiderman) is a nice guy and live ins New York but has no e-mail...|[[token, 0, 4, Peter, [sentence -> 0], []], [token, 6, 11, Parker, [sentence -> 0], []], [token, ...|\n",
            "+----------------------------------------------------------------------------------------------------+----------------------------------------------------------------------------------------------------+----------------------------------------------------------------------------------------------------+\n",
            "\n"
          ],
          "name": "stdout"
        }
      ]
    },
    {
      "cell_type": "code",
      "metadata": {
        "id": "PBPKONDe9CQT",
        "colab_type": "code",
        "colab": {
          "base_uri": "https://localhost:8080/",
          "height": 54
        },
        "outputId": "d78e5948-6bb7-44eb-977b-6a008e78ecdb"
      },
      "source": [
        "token_df.select('token.result').take(1)"
      ],
      "execution_count": 84,
      "outputs": [
        {
          "output_type": "execute_result",
          "data": {
            "text/plain": [
              "[Row(result=['Peter', 'Parker', '(', 'Spiderman', ')', 'is', 'a', 'nice', 'guy', 'and', 'live', 'ins', 'New', 'York', 'but', 'has', 'no', 'e-mail', '!', 'and', \"he's\", 'gone', 'so', 'far'])]"
            ]
          },
          "metadata": {
            "tags": []
          },
          "execution_count": 84
        }
      ]
    },
    {
      "cell_type": "code",
      "metadata": {
        "id": "vsDoXpTw9CW4",
        "colab_type": "code",
        "colab": {}
      },
      "source": [
        "# Eger tokenizer i custome etmek istersek\n",
        "\n",
        "tokenizer = Tokenizer()\\\n",
        "            .setInputCols(['document'])\\\n",
        "            .setOutputCol('token')\\\n",
        "            .setSplitChars(['-'])\\\n",
        "            .setContextChars(['(', ')', '?', '!'])\\\n",
        "            .addException('New York')"
      ],
      "execution_count": 0,
      "outputs": []
    },
    {
      "cell_type": "code",
      "metadata": {
        "id": "u5qvA-Zj9CU8",
        "colab_type": "code",
        "colab": {
          "base_uri": "https://localhost:8080/",
          "height": 54
        },
        "outputId": "5166d5cd-9300-43a2-93f4-577b2baffbf8"
      },
      "source": [
        "token_df = tokenizer.fit(doc_df).transform(token_df)\n",
        "token_df.select('token.result').take(1)"
      ],
      "execution_count": 87,
      "outputs": [
        {
          "output_type": "execute_result",
          "data": {
            "text/plain": [
              "[Row(result=['Peter', 'Parker', '(', 'Spiderman', ')', 'is', 'a', 'nice', 'guy', 'and', 'live', 'ins', 'New York', 'but', 'has', 'no', 'e', 'mail', '!', 'and', \"he's\", 'gone', 'so', 'far'])]"
            ]
          },
          "metadata": {
            "tags": []
          },
          "execution_count": 87
        }
      ]
    },
    {
      "cell_type": "code",
      "metadata": {
        "colab_type": "code",
        "id": "LD3CdWVuEUR4",
        "colab": {}
      },
      "source": [
        "# # Pay Attention to () for Spiderman\n",
        "tokenizer33 = Tokenizer()\\\n",
        "            .setInputCols(['document'])\\\n",
        "            .setOutputCol('token')\\\n",
        "            .setSplitChars(['-'])\\\n",
        "            .setContextChars(['?', '!'])\\\n",
        "            .addException('New York')"
      ],
      "execution_count": 0,
      "outputs": []
    },
    {
      "cell_type": "code",
      "metadata": {
        "id": "xASRwm9e9CNo",
        "colab_type": "code",
        "colab": {
          "base_uri": "https://localhost:8080/",
          "height": 54
        },
        "outputId": "e1202535-ccee-4bae-a49f-122e9dcb8599"
      },
      "source": [
        "token_df = tokenizer33.fit(doc_df).transform(token_df)\n",
        "token_df.select('token.result').take(1)"
      ],
      "execution_count": 104,
      "outputs": [
        {
          "output_type": "execute_result",
          "data": {
            "text/plain": [
              "[Row(result=['Peter', 'Parker', '(Spiderman)', 'is', 'a', 'nice', 'guy', 'and', 'live', 'ins', 'New York', 'but', 'has', 'no', 'e', 'mail', '!', 'and', \"he's\", 'gone', 'so', 'far'])]"
            ]
          },
          "metadata": {
            "tags": []
          },
          "execution_count": 104
        }
      ]
    },
    {
      "cell_type": "code",
      "metadata": {
        "id": "Cw98GR7Q9CHM",
        "colab_type": "code",
        "colab": {}
      },
      "source": [
        "### Let's Combine Everything in a Pipeline"
      ],
      "execution_count": 0,
      "outputs": []
    },
    {
      "cell_type": "code",
      "metadata": {
        "id": "T-09E8aP9CFA",
        "colab_type": "code",
        "colab": {}
      },
      "source": [
        "from pyspark.ml import Pipeline\n",
        "\n",
        "documentAssembler = DocumentAssembler()\\\n",
        "                    .setInputCol('text')\\\n",
        "                    .setOutputCol('document')\n",
        "\n",
        "sentenceDetector = SentenceDetector()\\\n",
        "                    .setInputCols(['document'])\\\n",
        "                    .setOutputCol('sentences')\n",
        "\n",
        "tokenizer = Tokenizer()\\\n",
        "            .setInputCols(['sentences'])\\\n",
        "            .setOutputCol('token')\n",
        "        \n",
        "nlPipeline = Pipeline(stages=[\n",
        "                              documentAssembler,\n",
        "                              sentenceDetector,\n",
        "                              tokenizer\n",
        "])\n",
        "\n",
        "empty_df = spark.createDataFrame([['']]).toDF('text')\n",
        "\n",
        "pipelineModel = nlPipeline.fit(empty_df)"
      ],
      "execution_count": 0,
      "outputs": []
    },
    {
      "cell_type": "code",
      "metadata": {
        "id": "vENbCgDw9CDQ",
        "colab_type": "code",
        "colab": {
          "base_uri": "https://localhost:8080/",
          "height": 187
        },
        "outputId": "80ea4eae-40f1-455e-f43e-b5fb59e4b214"
      },
      "source": [
        "spark_df = spark.read.text('./sample-sentences-en.txt').toDF('text')\n",
        "spark_df.show(truncate=False)"
      ],
      "execution_count": 108,
      "outputs": [
        {
          "output_type": "stream",
          "text": [
            "+-----------------------------------------------------------------------------+\n",
            "|text                                                                         |\n",
            "+-----------------------------------------------------------------------------+\n",
            "|Peter is a very good person.                                                 |\n",
            "|My life in Russia is very interesting.                                       |\n",
            "|John and Peter are brothers. However they don't support each other that much.|\n",
            "|Lucas Nogal Dunbercker is no longer happy. He has a good car though.         |\n",
            "|Europe is very culture rich. There are huge churches! and big houses!        |\n",
            "+-----------------------------------------------------------------------------+\n",
            "\n"
          ],
          "name": "stdout"
        }
      ]
    },
    {
      "cell_type": "code",
      "metadata": {
        "id": "PZ6OD_ES9B-L",
        "colab_type": "code",
        "colab": {
          "base_uri": "https://localhost:8080/",
          "height": 187
        },
        "outputId": "5c8bbe06-b0b2-44c5-91bd-ee2cc6948440"
      },
      "source": [
        "result = pipelineModel.transform(spark_df)\n",
        "result.show(truncate=20)"
      ],
      "execution_count": 111,
      "outputs": [
        {
          "output_type": "stream",
          "text": [
            "+--------------------+--------------------+--------------------+--------------------+\n",
            "|                text|            document|           sentences|               token|\n",
            "+--------------------+--------------------+--------------------+--------------------+\n",
            "|Peter is a very g...|[[document, 0, 27...|[[document, 0, 27...|[[token, 0, 4, Pe...|\n",
            "|My life in Russia...|[[document, 0, 37...|[[document, 0, 37...|[[token, 0, 1, My...|\n",
            "|John and Peter ar...|[[document, 0, 76...|[[document, 0, 27...|[[token, 0, 3, Jo...|\n",
            "|Lucas Nogal Dunbe...|[[document, 0, 67...|[[document, 0, 41...|[[token, 0, 4, Lu...|\n",
            "|Europe is very cu...|[[document, 0, 68...|[[document, 0, 27...|[[token, 0, 5, Eu...|\n",
            "+--------------------+--------------------+--------------------+--------------------+\n",
            "\n"
          ],
          "name": "stdout"
        }
      ]
    },
    {
      "cell_type": "code",
      "metadata": {
        "id": "_sfhTlmz9B8c",
        "colab_type": "code",
        "colab": {
          "base_uri": "https://localhost:8080/",
          "height": 629
        },
        "outputId": "cf9c5285-5775-4d56-ba18-e844479ecc26"
      },
      "source": [
        "result.printSchema()"
      ],
      "execution_count": 112,
      "outputs": [
        {
          "output_type": "stream",
          "text": [
            "root\n",
            " |-- text: string (nullable = true)\n",
            " |-- document: array (nullable = true)\n",
            " |    |-- element: struct (containsNull = true)\n",
            " |    |    |-- annotatorType: string (nullable = true)\n",
            " |    |    |-- begin: integer (nullable = false)\n",
            " |    |    |-- end: integer (nullable = false)\n",
            " |    |    |-- result: string (nullable = true)\n",
            " |    |    |-- metadata: map (nullable = true)\n",
            " |    |    |    |-- key: string\n",
            " |    |    |    |-- value: string (valueContainsNull = true)\n",
            " |    |    |-- embeddings: array (nullable = true)\n",
            " |    |    |    |-- element: float (containsNull = false)\n",
            " |-- sentences: array (nullable = true)\n",
            " |    |-- element: struct (containsNull = true)\n",
            " |    |    |-- annotatorType: string (nullable = true)\n",
            " |    |    |-- begin: integer (nullable = false)\n",
            " |    |    |-- end: integer (nullable = false)\n",
            " |    |    |-- result: string (nullable = true)\n",
            " |    |    |-- metadata: map (nullable = true)\n",
            " |    |    |    |-- key: string\n",
            " |    |    |    |-- value: string (valueContainsNull = true)\n",
            " |    |    |-- embeddings: array (nullable = true)\n",
            " |    |    |    |-- element: float (containsNull = false)\n",
            " |-- token: array (nullable = true)\n",
            " |    |-- element: struct (containsNull = true)\n",
            " |    |    |-- annotatorType: string (nullable = true)\n",
            " |    |    |-- begin: integer (nullable = false)\n",
            " |    |    |-- end: integer (nullable = false)\n",
            " |    |    |-- result: string (nullable = true)\n",
            " |    |    |-- metadata: map (nullable = true)\n",
            " |    |    |    |-- key: string\n",
            " |    |    |    |-- value: string (valueContainsNull = true)\n",
            " |    |    |-- embeddings: array (nullable = true)\n",
            " |    |    |    |-- element: float (containsNull = false)\n",
            "\n"
          ],
          "name": "stdout"
        }
      ]
    },
    {
      "cell_type": "code",
      "metadata": {
        "id": "wyK-qCgR9B3r",
        "colab_type": "code",
        "colab": {
          "base_uri": "https://localhost:8080/",
          "height": 68
        },
        "outputId": "1d89b82b-bfc1-4e2b-e67c-cc51d79d9b59"
      },
      "source": [
        "result.select('sentences.result').take(3)"
      ],
      "execution_count": 113,
      "outputs": [
        {
          "output_type": "execute_result",
          "data": {
            "text/plain": [
              "[Row(result=['Peter is a very good person.']),\n",
              " Row(result=['My life in Russia is very interesting.']),\n",
              " Row(result=['John and Peter are brothers.', \"However they don't support each other that much.\"])]"
            ]
          },
          "metadata": {
            "tags": []
          },
          "execution_count": 113
        }
      ]
    },
    {
      "cell_type": "code",
      "metadata": {
        "id": "llHKp9nn9B19",
        "colab_type": "code",
        "colab": {
          "base_uri": "https://localhost:8080/",
          "height": 54
        },
        "outputId": "6dd7e7e0-5535-4d77-d482-29ff2a8578fe"
      },
      "source": [
        "result.select('token').take(3)[2]"
      ],
      "execution_count": 115,
      "outputs": [
        {
          "output_type": "execute_result",
          "data": {
            "text/plain": [
              "Row(token=[Row(annotatorType='token', begin=0, end=3, result='John', metadata={'sentence': '0'}, embeddings=[]), Row(annotatorType='token', begin=5, end=7, result='and', metadata={'sentence': '0'}, embeddings=[]), Row(annotatorType='token', begin=9, end=13, result='Peter', metadata={'sentence': '0'}, embeddings=[]), Row(annotatorType='token', begin=15, end=17, result='are', metadata={'sentence': '0'}, embeddings=[]), Row(annotatorType='token', begin=19, end=26, result='brothers', metadata={'sentence': '0'}, embeddings=[]), Row(annotatorType='token', begin=27, end=27, result='.', metadata={'sentence': '0'}, embeddings=[]), Row(annotatorType='token', begin=29, end=35, result='However', metadata={'sentence': '1'}, embeddings=[]), Row(annotatorType='token', begin=37, end=40, result='they', metadata={'sentence': '1'}, embeddings=[]), Row(annotatorType='token', begin=42, end=46, result=\"don't\", metadata={'sentence': '1'}, embeddings=[]), Row(annotatorType='token', begin=48, end=54, result='support', metadata={'sentence': '1'}, embeddings=[]), Row(annotatorType='token', begin=56, end=59, result='each', metadata={'sentence': '1'}, embeddings=[]), Row(annotatorType='token', begin=61, end=65, result='other', metadata={'sentence': '1'}, embeddings=[]), Row(annotatorType='token', begin=67, end=70, result='that', metadata={'sentence': '1'}, embeddings=[]), Row(annotatorType='token', begin=72, end=75, result='much', metadata={'sentence': '1'}, embeddings=[]), Row(annotatorType='token', begin=76, end=76, result='.', metadata={'sentence': '1'}, embeddings=[])])"
            ]
          },
          "metadata": {
            "tags": []
          },
          "execution_count": 115
        }
      ]
    },
    {
      "cell_type": "code",
      "metadata": {
        "id": "giqubqil9Bzr",
        "colab_type": "code",
        "colab": {
          "base_uri": "https://localhost:8080/",
          "height": 68
        },
        "outputId": "21adfc70-f229-4073-ef73-69336eb5f14f"
      },
      "source": [
        "result.select('token.result').take(3)"
      ],
      "execution_count": 116,
      "outputs": [
        {
          "output_type": "execute_result",
          "data": {
            "text/plain": [
              "[Row(result=['Peter', 'is', 'a', 'very', 'good', 'person', '.']),\n",
              " Row(result=['My', 'life', 'in', 'Russia', 'is', 'very', 'interesting', '.']),\n",
              " Row(result=['John', 'and', 'Peter', 'are', 'brothers', '.', 'However', 'they', \"don't\", 'support', 'each', 'other', 'that', 'much', '.'])]"
            ]
          },
          "metadata": {
            "tags": []
          },
          "execution_count": 116
        }
      ]
    },
    {
      "cell_type": "code",
      "metadata": {
        "id": "6cHbVBkTKWwn",
        "colab_type": "code",
        "colab": {
          "base_uri": "https://localhost:8080/",
          "height": 34
        },
        "outputId": "679913cc-49a7-4d1a-9aa4-f5ca51ed1f28"
      },
      "source": [
        "''.join([i for i in \"My name is @# Serdar.\" if i.isalnum() or i==' '])"
      ],
      "execution_count": 123,
      "outputs": [
        {
          "output_type": "execute_result",
          "data": {
            "text/plain": [
              "'My name is  Serdar'"
            ]
          },
          "metadata": {
            "tags": []
          },
          "execution_count": 123
        }
      ]
    },
    {
      "cell_type": "markdown",
      "metadata": {
        "id": "H3iV9xQRIpNM",
        "colab_type": "text"
      },
      "source": [
        "## Normalizer"
      ]
    },
    {
      "cell_type": "code",
      "metadata": {
        "id": "FgOLuvao9Bx-",
        "colab_type": "code",
        "colab": {
          "base_uri": "https://localhost:8080/",
          "height": 34
        },
        "outputId": "d621a51a-eba7-4946-bbe6-ce98664c0d36"
      },
      "source": [
        "import string\n",
        "string.punctuation"
      ],
      "execution_count": 118,
      "outputs": [
        {
          "output_type": "execute_result",
          "data": {
            "text/plain": [
              "'!\"#$%&\\'()*+,-./:;<=>?@[\\\\]^_`{|}~'"
            ]
          },
          "metadata": {
            "tags": []
          },
          "execution_count": 118
        }
      ]
    },
    {
      "cell_type": "code",
      "metadata": {
        "id": "qDIjJNKl9BwG",
        "colab_type": "code",
        "colab": {}
      },
      "source": [
        "from sparknlp.annotator import *\n",
        "\n",
        "normalizer = Normalizer()\\\n",
        "            .setInputCols(['token'])\\\n",
        "            .setOutputCol('normalized')\\\n",
        "            .setLowercase(True)\\\n",
        "            .setCleanupPatterns([\"[^\\w\\d\\s]\"]) #remove punctuations and keep alphanumerics only\n",
        "            # if we do not set ClenaupPatterns it till only keep alphabet letters [^A-Za-z]"
      ],
      "execution_count": 0,
      "outputs": []
    },
    {
      "cell_type": "code",
      "metadata": {
        "id": "m-la_yWY9Brd",
        "colab_type": "code",
        "colab": {}
      },
      "source": [
        "# We're removing sentence annotator\n",
        "\n",
        "\n",
        "documentAssembler = DocumentAssembler()\\\n",
        ".setInputCol(\"text\")\\\n",
        ".setOutputCol(\"document\")\n",
        "\n",
        "tokenizer = Tokenizer() \\\n",
        "    .setInputCols([\"document\"]) \\\n",
        "    .setOutputCol(\"token\")\n",
        "\n",
        "nlPipeline = Pipeline(stages=[\n",
        "                              documentAssembler,\n",
        "                              tokenizer,\n",
        "                              normalizer\n",
        "])\n",
        "empty_df = spark.createDataFrame([['']]).toDF('text')\n",
        "\n",
        "pipelineModel = nlPipeline.fit(empty_df)"
      ],
      "execution_count": 0,
      "outputs": []
    },
    {
      "cell_type": "code",
      "metadata": {
        "id": "5eqzmT-u9Bpr",
        "colab_type": "code",
        "colab": {
          "base_uri": "https://localhost:8080/",
          "height": 187
        },
        "outputId": "9a4484a1-0968-4ce4-e03e-5d80119aa954"
      },
      "source": [
        "result = pipelineModel.transform(spark_df)\n",
        "result.show(truncate=True)"
      ],
      "execution_count": 132,
      "outputs": [
        {
          "output_type": "stream",
          "text": [
            "+--------------------+--------------------+--------------------+--------------------+\n",
            "|                text|            document|               token|          normalized|\n",
            "+--------------------+--------------------+--------------------+--------------------+\n",
            "|Peter is a very g...|[[document, 0, 27...|[[token, 0, 4, Pe...|[[token, 0, 4, pe...|\n",
            "|My life in Russia...|[[document, 0, 37...|[[token, 0, 1, My...|[[token, 0, 1, my...|\n",
            "|John and Peter ar...|[[document, 0, 76...|[[token, 0, 3, Jo...|[[token, 0, 3, jo...|\n",
            "|Lucas Nogal Dunbe...|[[document, 0, 67...|[[token, 0, 4, Lu...|[[token, 0, 4, lu...|\n",
            "|Europe is very cu...|[[document, 0, 68...|[[token, 0, 5, Eu...|[[token, 0, 5, eu...|\n",
            "+--------------------+--------------------+--------------------+--------------------+\n",
            "\n"
          ],
          "name": "stdout"
        }
      ]
    },
    {
      "cell_type": "code",
      "metadata": {
        "id": "AdQ-B2br9BnS",
        "colab_type": "code",
        "colab": {
          "base_uri": "https://localhost:8080/",
          "height": 68
        },
        "outputId": "6fc9bbb9-690e-4647-e1db-0a3e8a1b5eb0"
      },
      "source": [
        "result.select('normalized.result').take(3)"
      ],
      "execution_count": 133,
      "outputs": [
        {
          "output_type": "execute_result",
          "data": {
            "text/plain": [
              "[Row(result=['peter', 'is', 'a', 'very', 'good', 'person']),\n",
              " Row(result=['my', 'life', 'in', 'russia', 'is', 'very', 'interesting']),\n",
              " Row(result=['john', 'and', 'peter', 'are', 'brothers', 'however', 'they', 'dont', 'support', 'each', 'other', 'that', 'much'])]"
            ]
          },
          "metadata": {
            "tags": []
          },
          "execution_count": 133
        }
      ]
    },
    {
      "cell_type": "markdown",
      "metadata": {
        "id": "vyBpsQd1N9Ap",
        "colab_type": "text"
      },
      "source": [
        "## Stopwrods"
      ]
    },
    {
      "cell_type": "code",
      "metadata": {
        "id": "tqo1_Vmf9BlZ",
        "colab_type": "code",
        "colab": {}
      },
      "source": [
        "stopwords_cleaner = StopWordsCleaner()\\\n",
        "                    .setInputCols('token')\\\n",
        "                    .setOutputCol('cleanTokens')\\\n",
        "                    .setCaseSensitive(False)\n",
        "                    #.setStopWords(['no', 'without']) custom stopwords we can use but it will overwrite existing stopwords and will ONLY use this one\n",
        "                    # if we want to  use normalized ones and just want to use from normalised use \"normalized\" in InputCols\n",
        "\n",
        "documentAssembler = DocumentAssembler()\\\n",
        ".setInputCol(\"text\")\\\n",
        ".setOutputCol(\"document\")\n",
        "\n",
        "tokenizer = Tokenizer() \\\n",
        "    .setInputCols([\"document\"]) \\\n",
        "    .setOutputCol(\"token\")\n",
        "\n",
        "nlPipeline = Pipeline(stages=[\n",
        "                              documentAssembler,\n",
        "                              tokenizer,\n",
        "                              stopwords_cleaner\n",
        "])\n",
        "\n",
        "empty_df = spark.createDataFrame([['']]).toDF('text')\n",
        "\n",
        "pipelineModel = nlPipeline.fit(empty_df)"
      ],
      "execution_count": 0,
      "outputs": []
    },
    {
      "cell_type": "code",
      "metadata": {
        "id": "NjcwH_QK9Bf2",
        "colab_type": "code",
        "colab": {
          "base_uri": "https://localhost:8080/",
          "height": 187
        },
        "outputId": "d97a025d-78b2-42da-9e04-f52bee5edbc1"
      },
      "source": [
        "result = pipelineModel.transform(spark_df)\n",
        "result.show(truncate=True)"
      ],
      "execution_count": 147,
      "outputs": [
        {
          "output_type": "stream",
          "text": [
            "+--------------------+--------------------+--------------------+--------------------+\n",
            "|                text|            document|               token|         cleanTokens|\n",
            "+--------------------+--------------------+--------------------+--------------------+\n",
            "|Peter is a very g...|[[document, 0, 27...|[[token, 0, 4, Pe...|[[token, 0, 4, Pe...|\n",
            "|My life in Russia...|[[document, 0, 37...|[[token, 0, 1, My...|[[token, 3, 6, li...|\n",
            "|John and Peter ar...|[[document, 0, 76...|[[token, 0, 3, Jo...|[[token, 0, 3, Jo...|\n",
            "|Lucas Nogal Dunbe...|[[document, 0, 67...|[[token, 0, 4, Lu...|[[token, 0, 4, Lu...|\n",
            "|Europe is very cu...|[[document, 0, 68...|[[token, 0, 5, Eu...|[[token, 0, 5, Eu...|\n",
            "+--------------------+--------------------+--------------------+--------------------+\n",
            "\n"
          ],
          "name": "stdout"
        }
      ]
    },
    {
      "cell_type": "code",
      "metadata": {
        "id": "iyAwIe1-PD3Q",
        "colab_type": "code",
        "colab": {
          "base_uri": "https://localhost:8080/",
          "height": 68
        },
        "outputId": "0a475d0e-43d2-4121-959c-c2259947b96c"
      },
      "source": [
        "result.select('cleanTokens.result').take(3)\n",
        "# We did not include Normalizer so we might see punctuations and uppercase. If we dont want, se should incluce in pipeline"
      ],
      "execution_count": 149,
      "outputs": [
        {
          "output_type": "execute_result",
          "data": {
            "text/plain": [
              "[Row(result=['Peter', 'good', 'person', '.']),\n",
              " Row(result=['life', 'Russia', 'interesting', '.']),\n",
              " Row(result=['John', 'Peter', 'brothers', '.', 'However', 'support', 'much', '.'])]"
            ]
          },
          "metadata": {
            "tags": []
          },
          "execution_count": 149
        }
      ]
    },
    {
      "cell_type": "markdown",
      "metadata": {
        "id": "C8G6uuiMQq1F",
        "colab_type": "text"
      },
      "source": [
        "## Token Assembler"
      ]
    },
    {
      "cell_type": "code",
      "metadata": {
        "id": "iXO3OS4EPD83",
        "colab_type": "code",
        "colab": {
          "base_uri": "https://localhost:8080/",
          "height": 187
        },
        "outputId": "ea142754-dc90-4828-c6b9-bc1ba813cd91"
      },
      "source": [
        "documentAssembler = DocumentAssembler()\\\n",
        ".setInputCol(\"text\")\\\n",
        ".setOutputCol(\"document\")\n",
        "\n",
        "sentenceDetector = SentenceDetector().\\\n",
        "    setInputCols(['document']).\\\n",
        "    setOutputCol('sentences')\n",
        "\n",
        "tokenizer = Tokenizer() \\\n",
        "    .setInputCols([\"sentences\"]) \\\n",
        "    .setOutputCol(\"token\")\n",
        "\n",
        "normalizer = Normalizer() \\\n",
        "    .setInputCols([\"token\"]) \\\n",
        "    .setOutputCol(\"normalized\")\\\n",
        "    .setLowercase(False)\\\n",
        "\n",
        "stopwords_cleaner = StopWordsCleaner()\\\n",
        "      .setInputCols(\"normalized\")\\\n",
        "      .setOutputCol(\"cleanTokens\")\\\n",
        "      .setCaseSensitive(False)\\\n",
        "\n",
        "tokenassembler = TokenAssembler()\\\n",
        "    .setInputCols([\"cleanTokens\"]) \\\n",
        "    .setOutputCol(\"clean_text\")\n",
        "\n",
        "\n",
        "nlpPipeline = Pipeline(stages=[\n",
        "     documentAssembler,\n",
        "    sentenceDetector,\n",
        "     tokenizer,\n",
        "     normalizer,\n",
        "     stopwords_cleaner,\n",
        "     tokenassembler\n",
        " ])\n",
        "\n",
        "\n",
        "empty_df = spark.createDataFrame([['']]).toDF(\"text\")\n",
        "\n",
        "pipelineModel = nlpPipeline.fit(empty_df)\n",
        "\n",
        "result = pipelineModel.transform(spark_df)\n",
        "\n",
        "result.show()"
      ],
      "execution_count": 150,
      "outputs": [
        {
          "output_type": "stream",
          "text": [
            "+--------------------+--------------------+--------------------+--------------------+--------------------+--------------------+--------------------+\n",
            "|                text|            document|           sentences|               token|          normalized|         cleanTokens|          clean_text|\n",
            "+--------------------+--------------------+--------------------+--------------------+--------------------+--------------------+--------------------+\n",
            "|Peter is a very g...|[[document, 0, 27...|[[document, 0, 27...|[[token, 0, 4, Pe...|[[token, 0, 4, Pe...|[[token, 0, 4, Pe...|[[document, 0, 16...|\n",
            "|My life in Russia...|[[document, 0, 37...|[[document, 0, 37...|[[token, 0, 1, My...|[[token, 0, 1, My...|[[token, 3, 6, li...|[[document, 3, 25...|\n",
            "|John and Peter ar...|[[document, 0, 76...|[[document, 0, 27...|[[token, 0, 3, Jo...|[[token, 0, 3, Jo...|[[token, 0, 3, Jo...|[[document, 0, 18...|\n",
            "|Lucas Nogal Dunbe...|[[document, 0, 67...|[[document, 0, 41...|[[token, 0, 4, Lu...|[[token, 0, 4, Lu...|[[token, 0, 4, Lu...|[[document, 0, 34...|\n",
            "|Europe is very cu...|[[document, 0, 68...|[[document, 0, 27...|[[token, 0, 5, Eu...|[[token, 0, 5, Eu...|[[token, 0, 5, Eu...|[[document, 0, 18...|\n",
            "+--------------------+--------------------+--------------------+--------------------+--------------------+--------------------+--------------------+\n",
            "\n"
          ],
          "name": "stdout"
        }
      ]
    },
    {
      "cell_type": "code",
      "metadata": {
        "id": "KlhXLMVwPEDg",
        "colab_type": "code",
        "colab": {
          "base_uri": "https://localhost:8080/",
          "height": 187
        },
        "outputId": "1c0e132a-0af4-445c-c4b3-a7856ffedc15"
      },
      "source": [
        "result.select(['text', 'clean_text.result']).show(truncate=False)"
      ],
      "execution_count": 151,
      "outputs": [
        {
          "output_type": "stream",
          "text": [
            "+-----------------------------------------------------------------------------+------------------------------------------------------+\n",
            "|text                                                                         |result                                                |\n",
            "+-----------------------------------------------------------------------------+------------------------------------------------------+\n",
            "|Peter is a very good person.                                                 |[Peter good person]                                   |\n",
            "|My life in Russia is very interesting.                                       |[life Russia interesting]                             |\n",
            "|John and Peter are brothers. However they don't support each other that much.|[John Peter brothers, However dont support much]      |\n",
            "|Lucas Nogal Dunbercker is no longer happy. He has a good car though.         |[Lucas Nogal Dunbercker longer happy, good car though]|\n",
            "|Europe is very culture rich. There are huge churches! and big houses!        |[Europe culture rich, huge churches, big houses]      |\n",
            "+-----------------------------------------------------------------------------+------------------------------------------------------+\n",
            "\n"
          ],
          "name": "stdout"
        }
      ]
    },
    {
      "cell_type": "code",
      "metadata": {
        "id": "y5fzpaHIPEGm",
        "colab_type": "code",
        "colab": {
          "base_uri": "https://localhost:8080/",
          "height": 255
        },
        "outputId": "b505419a-c3ae-40d2-e986-5f6f7660a34a"
      },
      "source": [
        "import pyspark.sql.functions as F\n",
        "\n",
        "result.withColumn(\n",
        "    \"tmp\",\n",
        "    F.explode('clean_text'))\\\n",
        "    .select(\"tmp.*\").select('begin', 'end', 'result', 'metadata.sentence').show(truncate=False)"
      ],
      "execution_count": 153,
      "outputs": [
        {
          "output_type": "stream",
          "text": [
            "+-----+---+-----------------------------------+--------+\n",
            "|begin|end|result                             |sentence|\n",
            "+-----+---+-----------------------------------+--------+\n",
            "|0    |16 |Peter good person                  |0       |\n",
            "|3    |25 |life Russia interesting            |0       |\n",
            "|0    |18 |John Peter brothers                |0       |\n",
            "|29   |53 |However dont support much          |1       |\n",
            "|0    |34 |Lucas Nogal Dunbercker longer happy|0       |\n",
            "|52   |66 |good car though                    |1       |\n",
            "|0    |18 |Europe culture rich                |0       |\n",
            "|39   |51 |huge churches                      |1       |\n",
            "|58   |67 |big houses                         |2       |\n",
            "+-----+---+-----------------------------------+--------+\n",
            "\n"
          ],
          "name": "stdout"
        }
      ]
    },
    {
      "cell_type": "code",
      "metadata": {
        "id": "c2nUOG-JPEL_",
        "colab_type": "code",
        "colab": {
          "base_uri": "https://localhost:8080/",
          "height": 187
        },
        "outputId": "841eeec8-d29a-41fb-89c1-82d66d2c4cb9"
      },
      "source": [
        "# if we hadn't used Sentence Detector, this would be what we got. (tokenizer gets document instead of sentences column)\n",
        "\n",
        "tokenizer = Tokenizer() \\\n",
        "    .setInputCols([\"document\"]) \\\n",
        "    .setOutputCol(\"token\")\n",
        "\n",
        "\n",
        "nlpPipeline = Pipeline(stages=[\n",
        "     documentAssembler,\n",
        "     tokenizer,\n",
        "     normalizer,\n",
        "     stopwords_cleaner,\n",
        "     tokenassembler\n",
        " ])\n",
        "\n",
        "\n",
        "empty_df = spark.createDataFrame([['']]).toDF(\"text\")\n",
        "\n",
        "pipelineModel = nlpPipeline.fit(empty_df)\n",
        "\n",
        "result = pipelineModel.transform(spark_df)\n",
        "\n",
        "result.select('text', 'clean_text.result').show(truncate=False)"
      ],
      "execution_count": 154,
      "outputs": [
        {
          "output_type": "stream",
          "text": [
            "+-----------------------------------------------------------------------------+-----------------------------------------------------+\n",
            "|text                                                                         |result                                               |\n",
            "+-----------------------------------------------------------------------------+-----------------------------------------------------+\n",
            "|Peter is a very good person.                                                 |[Peter good person]                                  |\n",
            "|My life in Russia is very interesting.                                       |[life Russia interesting]                            |\n",
            "|John and Peter are brothers. However they don't support each other that much.|[John Peter brothers However dont support much]      |\n",
            "|Lucas Nogal Dunbercker is no longer happy. He has a good car though.         |[Lucas Nogal Dunbercker longer happy good car though]|\n",
            "|Europe is very culture rich. There are huge churches! and big houses!        |[Europe culture rich huge churches big houses]       |\n",
            "+-----------------------------------------------------------------------------+-----------------------------------------------------+\n",
            "\n"
          ],
          "name": "stdout"
        }
      ]
    },
    {
      "cell_type": "code",
      "metadata": {
        "id": "6WWw0lB_PEP_",
        "colab_type": "code",
        "colab": {
          "base_uri": "https://localhost:8080/",
          "height": 187
        },
        "outputId": "d732f324-864e-4cb2-cb67-efb704b7e654"
      },
      "source": [
        "result.withColumn(\n",
        "    \"tmp\",\n",
        "    F.explode('clean_text'))\\\n",
        "    .select(\"tmp.*\").select('begin', 'end', 'result', 'metadata.sentence').show(truncate=False)\n",
        "\n",
        "# We get all sentences in a single lien and all sentences assigend as 0, there si no other sentence"
      ],
      "execution_count": 155,
      "outputs": [
        {
          "output_type": "stream",
          "text": [
            "+-----+---+---------------------------------------------------+--------+\n",
            "|begin|end|result                                             |sentence|\n",
            "+-----+---+---------------------------------------------------+--------+\n",
            "|0    |16 |Peter good person                                  |0       |\n",
            "|3    |25 |life Russia interesting                            |0       |\n",
            "|0    |44 |John Peter brothers However dont support much      |0       |\n",
            "|0    |50 |Lucas Nogal Dunbercker longer happy good car though|0       |\n",
            "|0    |43 |Europe culture rich huge churches big houses       |0       |\n",
            "+-----+---+---------------------------------------------------+--------+\n",
            "\n"
          ],
          "name": "stdout"
        }
      ]
    },
    {
      "cell_type": "markdown",
      "metadata": {
        "id": "4UZoUgf5TVZ0",
        "colab_type": "text"
      },
      "source": [
        "## Stemmer"
      ]
    },
    {
      "cell_type": "code",
      "metadata": {
        "id": "Vlnll0z9PEgv",
        "colab_type": "code",
        "colab": {}
      },
      "source": [
        "stemmer = Stemmer() \\\n",
        "    .setInputCols([\"token\"]) \\\n",
        "    .setOutputCol(\"stem\")"
      ],
      "execution_count": 0,
      "outputs": []
    },
    {
      "cell_type": "code",
      "metadata": {
        "id": "fcRo94yYPEj2",
        "colab_type": "code",
        "colab": {}
      },
      "source": [
        "\n",
        "documentAssembler = DocumentAssembler()\\\n",
        ".setInputCol(\"text\")\\\n",
        ".setOutputCol(\"document\")\n",
        "\n",
        "tokenizer = Tokenizer() \\\n",
        "    .setInputCols([\"document\"]) \\\n",
        "    .setOutputCol(\"token\")\n",
        "\n",
        "nlpPipeline = Pipeline(stages=[\n",
        " documentAssembler, \n",
        " tokenizer,\n",
        " stemmer\n",
        " ])\n",
        "\n",
        "empty_df = spark.createDataFrame([['']]).toDF(\"text\")\n",
        "\n",
        "pipelineModel = nlpPipeline.fit(empty_df)"
      ],
      "execution_count": 0,
      "outputs": []
    },
    {
      "cell_type": "code",
      "metadata": {
        "id": "Lz-1Ta_bPEr7",
        "colab_type": "code",
        "colab": {
          "base_uri": "https://localhost:8080/",
          "height": 187
        },
        "outputId": "7a322633-162e-466f-8598-7f9ba58a8eea"
      },
      "source": [
        "\n",
        "result = pipelineModel.transform(spark_df)\n",
        "\n",
        "result.show()"
      ],
      "execution_count": 158,
      "outputs": [
        {
          "output_type": "stream",
          "text": [
            "+--------------------+--------------------+--------------------+--------------------+\n",
            "|                text|            document|               token|                stem|\n",
            "+--------------------+--------------------+--------------------+--------------------+\n",
            "|Peter is a very g...|[[document, 0, 27...|[[token, 0, 4, Pe...|[[token, 0, 4, pe...|\n",
            "|My life in Russia...|[[document, 0, 37...|[[token, 0, 1, My...|[[token, 0, 1, my...|\n",
            "|John and Peter ar...|[[document, 0, 76...|[[token, 0, 3, Jo...|[[token, 0, 3, jo...|\n",
            "|Lucas Nogal Dunbe...|[[document, 0, 67...|[[token, 0, 4, Lu...|[[token, 0, 4, lu...|\n",
            "|Europe is very cu...|[[document, 0, 68...|[[token, 0, 5, Eu...|[[token, 0, 5, eu...|\n",
            "+--------------------+--------------------+--------------------+--------------------+\n",
            "\n"
          ],
          "name": "stdout"
        }
      ]
    },
    {
      "cell_type": "code",
      "metadata": {
        "id": "Tu7pCP4VPExh",
        "colab_type": "code",
        "colab": {
          "base_uri": "https://localhost:8080/",
          "height": 187
        },
        "outputId": "9d2b60f6-1054-4196-f5f9-e996f3c20081"
      },
      "source": [
        "result.select('stem.result').show(truncate=False)"
      ],
      "execution_count": 159,
      "outputs": [
        {
          "output_type": "stream",
          "text": [
            "+-------------------------------------------------------------------------------------------+\n",
            "|result                                                                                     |\n",
            "+-------------------------------------------------------------------------------------------+\n",
            "|[peter, i, a, veri, good, person, .]                                                       |\n",
            "|[my, life, in, russia, i, veri, interest, .]                                               |\n",
            "|[john, and, peter, ar, brother, ., howev, thei, don't, support, each, other, that, much, .]|\n",
            "|[luca, nogal, dunberck, i, no, longer, happi, ., he, ha, a, good, car, though, .]          |\n",
            "|[europ, i, veri, cultur, rich, ., there, ar, huge, church, !, and, big, hous, !]           |\n",
            "+-------------------------------------------------------------------------------------------+\n",
            "\n"
          ],
          "name": "stdout"
        }
      ]
    },
    {
      "cell_type": "code",
      "metadata": {
        "id": "9geXfa9OPEvH",
        "colab_type": "code",
        "colab": {
          "base_uri": "https://localhost:8080/",
          "height": 359
        },
        "outputId": "45453aaa-a5e2-4c76-ea15-95211f926b2d"
      },
      "source": [
        "import pyspark.sql.functions as F\n",
        "\n",
        "result_df = result.select(F.explode(F.arrays_zip('token.result', 'stem.result')).alias(\"cols\")) \\\n",
        ".select(F.expr(\"cols['0']\").alias(\"token\"),\n",
        "        F.expr(\"cols['1']\").alias(\"stem\")).toPandas()\n",
        "\n",
        "result_df.head(10)"
      ],
      "execution_count": 160,
      "outputs": [
        {
          "output_type": "execute_result",
          "data": {
            "text/html": [
              "<div>\n",
              "<style scoped>\n",
              "    .dataframe tbody tr th:only-of-type {\n",
              "        vertical-align: middle;\n",
              "    }\n",
              "\n",
              "    .dataframe tbody tr th {\n",
              "        vertical-align: top;\n",
              "    }\n",
              "\n",
              "    .dataframe thead th {\n",
              "        text-align: right;\n",
              "    }\n",
              "</style>\n",
              "<table border=\"1\" class=\"dataframe\">\n",
              "  <thead>\n",
              "    <tr style=\"text-align: right;\">\n",
              "      <th></th>\n",
              "      <th>token</th>\n",
              "      <th>stem</th>\n",
              "    </tr>\n",
              "  </thead>\n",
              "  <tbody>\n",
              "    <tr>\n",
              "      <th>0</th>\n",
              "      <td>Peter</td>\n",
              "      <td>peter</td>\n",
              "    </tr>\n",
              "    <tr>\n",
              "      <th>1</th>\n",
              "      <td>is</td>\n",
              "      <td>i</td>\n",
              "    </tr>\n",
              "    <tr>\n",
              "      <th>2</th>\n",
              "      <td>a</td>\n",
              "      <td>a</td>\n",
              "    </tr>\n",
              "    <tr>\n",
              "      <th>3</th>\n",
              "      <td>very</td>\n",
              "      <td>veri</td>\n",
              "    </tr>\n",
              "    <tr>\n",
              "      <th>4</th>\n",
              "      <td>good</td>\n",
              "      <td>good</td>\n",
              "    </tr>\n",
              "    <tr>\n",
              "      <th>5</th>\n",
              "      <td>person</td>\n",
              "      <td>person</td>\n",
              "    </tr>\n",
              "    <tr>\n",
              "      <th>6</th>\n",
              "      <td>.</td>\n",
              "      <td>.</td>\n",
              "    </tr>\n",
              "    <tr>\n",
              "      <th>7</th>\n",
              "      <td>My</td>\n",
              "      <td>my</td>\n",
              "    </tr>\n",
              "    <tr>\n",
              "      <th>8</th>\n",
              "      <td>life</td>\n",
              "      <td>life</td>\n",
              "    </tr>\n",
              "    <tr>\n",
              "      <th>9</th>\n",
              "      <td>in</td>\n",
              "      <td>in</td>\n",
              "    </tr>\n",
              "  </tbody>\n",
              "</table>\n",
              "</div>"
            ],
            "text/plain": [
              "    token    stem\n",
              "0   Peter   peter\n",
              "1      is       i\n",
              "2       a       a\n",
              "3    very    veri\n",
              "4    good    good\n",
              "5  person  person\n",
              "6       .       .\n",
              "7      My      my\n",
              "8    life    life\n",
              "9      in      in"
            ]
          },
          "metadata": {
            "tags": []
          },
          "execution_count": 160
        }
      ]
    },
    {
      "cell_type": "markdown",
      "metadata": {
        "id": "89HZ6QVwUhty",
        "colab_type": "text"
      },
      "source": [
        "## Lemmatizer"
      ]
    },
    {
      "cell_type": "code",
      "metadata": {
        "id": "ox6qyXnYPEp_",
        "colab_type": "code",
        "colab": {
          "base_uri": "https://localhost:8080/",
          "height": 204
        },
        "outputId": "01791643-8fd9-48f7-df21-92c01d47d6d2"
      },
      "source": [
        "!wget https://raw.githubusercontent.com/mahavivo/vocabulary/master/lemmas/AntBNC_lemmas_ver_001.txt"
      ],
      "execution_count": 161,
      "outputs": [
        {
          "output_type": "stream",
          "text": [
            "--2020-04-20 16:01:21--  https://raw.githubusercontent.com/mahavivo/vocabulary/master/lemmas/AntBNC_lemmas_ver_001.txt\n",
            "Resolving raw.githubusercontent.com (raw.githubusercontent.com)... 151.101.0.133, 151.101.64.133, 151.101.128.133, ...\n",
            "Connecting to raw.githubusercontent.com (raw.githubusercontent.com)|151.101.0.133|:443... connected.\n",
            "HTTP request sent, awaiting response... 200 OK\n",
            "Length: 1348552 (1.3M) [text/plain]\n",
            "Saving to: ‘AntBNC_lemmas_ver_001.txt’\n",
            "\n",
            "\r          AntBNC_le   0%[                    ]       0  --.-KB/s               \rAntBNC_lemmas_ver_0 100%[===================>]   1.29M  --.-KB/s    in 0.01s   \n",
            "\n",
            "2020-04-20 16:01:21 (128 MB/s) - ‘AntBNC_lemmas_ver_001.txt’ saved [1348552/1348552]\n",
            "\n"
          ],
          "name": "stdout"
        }
      ]
    },
    {
      "cell_type": "code",
      "metadata": {
        "id": "KAZHndJYPEnl",
        "colab_type": "code",
        "colab": {}
      },
      "source": [
        "lemmatizer = Lemmatizer() \\\n",
        "    .setInputCols([\"token\"]) \\\n",
        "    .setOutputCol(\"lemma\") \\\n",
        "    .setDictionary(\"./AntBNC_lemmas_ver_001.txt\", value_delimiter =\"\\t\", key_delimiter = \"->\")"
      ],
      "execution_count": 0,
      "outputs": []
    },
    {
      "cell_type": "code",
      "metadata": {
        "id": "SqrLnV-kPEeq",
        "colab_type": "code",
        "colab": {}
      },
      "source": [
        "documentAssembler = DocumentAssembler()\\\n",
        ".setInputCol(\"text\")\\\n",
        ".setOutputCol(\"document\")\n",
        "\n",
        "tokenizer = Tokenizer() \\\n",
        "    .setInputCols([\"document\"]) \\\n",
        "    .setOutputCol(\"token\")\n",
        "\n",
        "stemmer = Stemmer() \\\n",
        "    .setInputCols([\"token\"]) \\\n",
        "    .setOutputCol(\"stem\")\n",
        "\n",
        "nlpPipeline = Pipeline(stages=[\n",
        " documentAssembler, \n",
        " tokenizer,\n",
        " stemmer,\n",
        " lemmatizer\n",
        " ])\n",
        "\n",
        "empty_df = spark.createDataFrame([['']]).toDF(\"text\")\n",
        "\n",
        "pipelineModel = nlpPipeline.fit(empty_df)"
      ],
      "execution_count": 0,
      "outputs": []
    },
    {
      "cell_type": "code",
      "metadata": {
        "id": "vofAirf6PEcq",
        "colab_type": "code",
        "colab": {
          "base_uri": "https://localhost:8080/",
          "height": 187
        },
        "outputId": "584aa4f7-3c40-405b-da32-4c02e577073d"
      },
      "source": [
        "result = pipelineModel.transform(spark_df)\n",
        "\n",
        "result.show()"
      ],
      "execution_count": 164,
      "outputs": [
        {
          "output_type": "stream",
          "text": [
            "+--------------------+--------------------+--------------------+--------------------+--------------------+\n",
            "|                text|            document|               token|                stem|               lemma|\n",
            "+--------------------+--------------------+--------------------+--------------------+--------------------+\n",
            "|Peter is a very g...|[[document, 0, 27...|[[token, 0, 4, Pe...|[[token, 0, 4, pe...|[[token, 0, 4, Pe...|\n",
            "|My life in Russia...|[[document, 0, 37...|[[token, 0, 1, My...|[[token, 0, 1, my...|[[token, 0, 1, My...|\n",
            "|John and Peter ar...|[[document, 0, 76...|[[token, 0, 3, Jo...|[[token, 0, 3, jo...|[[token, 0, 3, Jo...|\n",
            "|Lucas Nogal Dunbe...|[[document, 0, 67...|[[token, 0, 4, Lu...|[[token, 0, 4, lu...|[[token, 0, 4, Lu...|\n",
            "|Europe is very cu...|[[document, 0, 68...|[[token, 0, 5, Eu...|[[token, 0, 5, eu...|[[token, 0, 5, Eu...|\n",
            "+--------------------+--------------------+--------------------+--------------------+--------------------+\n",
            "\n"
          ],
          "name": "stdout"
        }
      ]
    },
    {
      "cell_type": "code",
      "metadata": {
        "id": "biIBkQZAPEar",
        "colab_type": "code",
        "colab": {
          "base_uri": "https://localhost:8080/",
          "height": 187
        },
        "outputId": "cb03a7cc-984e-4d60-9cb2-930c7ca17b0a"
      },
      "source": [
        "result.select('lemma.result').show(truncate=False)"
      ],
      "execution_count": 165,
      "outputs": [
        {
          "output_type": "stream",
          "text": [
            "+---------------------------------------------------------------------------------------------+\n",
            "|result                                                                                       |\n",
            "+---------------------------------------------------------------------------------------------+\n",
            "|[Peter, be, a, very, good, person, .]                                                        |\n",
            "|[My, life, in, Russia, be, very, interest, .]                                                |\n",
            "|[John, and, Peter, be, brother, ., However, they, don't, support, each, other, that, much, .]|\n",
            "|[Lucas, Nogal, Dunbercker, be, no, long, happy, ., He, have, a, good, car, though, .]        |\n",
            "|[Europe, be, very, culture, rich, ., There, be, huge, church, !, and, big, house, !]         |\n",
            "+---------------------------------------------------------------------------------------------+\n",
            "\n"
          ],
          "name": "stdout"
        }
      ]
    },
    {
      "cell_type": "code",
      "metadata": {
        "id": "GHmtLaMfPEY3",
        "colab_type": "code",
        "colab": {
          "base_uri": "https://localhost:8080/",
          "height": 359
        },
        "outputId": "7e1e15e3-4377-4dc8-da98-d3c5ceb1cfa0"
      },
      "source": [
        "\n",
        "result_df = result.select(F.explode(F.arrays_zip('token.result', 'stem.result',  'lemma.result')).alias(\"cols\")) \\\n",
        ".select(F.expr(\"cols['0']\").alias(\"token\"),\n",
        "        F.expr(\"cols['1']\").alias(\"stem\"),\n",
        "        F.expr(\"cols['2']\").alias(\"lemma\")).toPandas()\n",
        "\n",
        "result_df.head(10)"
      ],
      "execution_count": 166,
      "outputs": [
        {
          "output_type": "execute_result",
          "data": {
            "text/html": [
              "<div>\n",
              "<style scoped>\n",
              "    .dataframe tbody tr th:only-of-type {\n",
              "        vertical-align: middle;\n",
              "    }\n",
              "\n",
              "    .dataframe tbody tr th {\n",
              "        vertical-align: top;\n",
              "    }\n",
              "\n",
              "    .dataframe thead th {\n",
              "        text-align: right;\n",
              "    }\n",
              "</style>\n",
              "<table border=\"1\" class=\"dataframe\">\n",
              "  <thead>\n",
              "    <tr style=\"text-align: right;\">\n",
              "      <th></th>\n",
              "      <th>token</th>\n",
              "      <th>stem</th>\n",
              "      <th>lemma</th>\n",
              "    </tr>\n",
              "  </thead>\n",
              "  <tbody>\n",
              "    <tr>\n",
              "      <th>0</th>\n",
              "      <td>Peter</td>\n",
              "      <td>peter</td>\n",
              "      <td>Peter</td>\n",
              "    </tr>\n",
              "    <tr>\n",
              "      <th>1</th>\n",
              "      <td>is</td>\n",
              "      <td>i</td>\n",
              "      <td>be</td>\n",
              "    </tr>\n",
              "    <tr>\n",
              "      <th>2</th>\n",
              "      <td>a</td>\n",
              "      <td>a</td>\n",
              "      <td>a</td>\n",
              "    </tr>\n",
              "    <tr>\n",
              "      <th>3</th>\n",
              "      <td>very</td>\n",
              "      <td>veri</td>\n",
              "      <td>very</td>\n",
              "    </tr>\n",
              "    <tr>\n",
              "      <th>4</th>\n",
              "      <td>good</td>\n",
              "      <td>good</td>\n",
              "      <td>good</td>\n",
              "    </tr>\n",
              "    <tr>\n",
              "      <th>5</th>\n",
              "      <td>person</td>\n",
              "      <td>person</td>\n",
              "      <td>person</td>\n",
              "    </tr>\n",
              "    <tr>\n",
              "      <th>6</th>\n",
              "      <td>.</td>\n",
              "      <td>.</td>\n",
              "      <td>.</td>\n",
              "    </tr>\n",
              "    <tr>\n",
              "      <th>7</th>\n",
              "      <td>My</td>\n",
              "      <td>my</td>\n",
              "      <td>My</td>\n",
              "    </tr>\n",
              "    <tr>\n",
              "      <th>8</th>\n",
              "      <td>life</td>\n",
              "      <td>life</td>\n",
              "      <td>life</td>\n",
              "    </tr>\n",
              "    <tr>\n",
              "      <th>9</th>\n",
              "      <td>in</td>\n",
              "      <td>in</td>\n",
              "      <td>in</td>\n",
              "    </tr>\n",
              "  </tbody>\n",
              "</table>\n",
              "</div>"
            ],
            "text/plain": [
              "    token    stem   lemma\n",
              "0   Peter   peter   Peter\n",
              "1      is       i      be\n",
              "2       a       a       a\n",
              "3    very    veri    very\n",
              "4    good    good    good\n",
              "5  person  person  person\n",
              "6       .       .       .\n",
              "7      My      my      My\n",
              "8    life    life    life\n",
              "9      in      in      in"
            ]
          },
          "metadata": {
            "tags": []
          },
          "execution_count": 166
        }
      ]
    },
    {
      "cell_type": "markdown",
      "metadata": {
        "id": "0zMjYfl0V_Yk",
        "colab_type": "text"
      },
      "source": [
        "## N-Gram"
      ]
    },
    {
      "cell_type": "code",
      "metadata": {
        "id": "GRTqUjbTPEW9",
        "colab_type": "code",
        "colab": {
          "base_uri": "https://localhost:8080/",
          "height": 207
        },
        "outputId": "baa90fe7-e3ae-4e79-db74-0da9e1ce4a37"
      },
      "source": [
        "ngrams_cum = NGramGenerator() \\\n",
        "            .setInputCols([\"token\"]) \\\n",
        "            .setOutputCol(\"ngrams\") \\\n",
        "            .setN(3) \\\n",
        "            .setEnableCumulative(True)\\\n",
        "            .setDelimiter(\"_\") # Default is space\n",
        "    \n",
        "# .setN(3) means, take bigrams and trigrams.\n",
        "\n",
        "nlpPipeline = Pipeline(stages=[\n",
        " documentAssembler, \n",
        " tokenizer,\n",
        " ngrams_cum\n",
        " ])\n",
        "\n",
        "empty_df = spark.createDataFrame([['']]).toDF(\"text\")\n",
        "\n",
        "pipelineModel = nlpPipeline.fit(empty_df)\n",
        "\n",
        "result = pipelineModel.transform(spark_df)\n",
        "\n",
        "result.select('ngrams.result').show(truncate=200)"
      ],
      "execution_count": 168,
      "outputs": [
        {
          "output_type": "stream",
          "text": [
            "+--------------------------------------------------------------------------------------------------------------------------------------------------------------------------------------------------------+\n",
            "|                                                                                                                                                                                                  result|\n",
            "+--------------------------------------------------------------------------------------------------------------------------------------------------------------------------------------------------------+\n",
            "|                                    [Peter, is, a, very, good, person, ., Peter_is, is_a, a_very, very_good, good_person, person_., Peter_is_a, is_a_very, a_very_good, very_good_person, good_person_.]|\n",
            "|[My, life, in, Russia, is, very, interesting, ., My_life, life_in, in_Russia, Russia_is, is_very, very_interesting, interesting_., My_life_in, life_in_Russia, in_Russia_is, Russia_is_very, is_very_...|\n",
            "|[John, and, Peter, are, brothers, ., However, they, don't, support, each, other, that, much, ., John_and, and_Peter, Peter_are, are_brothers, brothers_., ._However, However_they, they_don't, don't_...|\n",
            "|[Lucas, Nogal, Dunbercker, is, no, longer, happy, ., He, has, a, good, car, though, ., Lucas_Nogal, Nogal_Dunbercker, Dunbercker_is, is_no, no_longer, longer_happy, happy_., ._He, He_has, has_a, a_...|\n",
            "|[Europe, is, very, culture, rich, ., There, are, huge, churches, !, and, big, houses, !, Europe_is, is_very, very_culture, culture_rich, rich_., ._There, There_are, are_huge, huge_churches, churche...|\n",
            "+--------------------------------------------------------------------------------------------------------------------------------------------------------------------------------------------------------+\n",
            "\n"
          ],
          "name": "stdout"
        }
      ]
    },
    {
      "cell_type": "markdown",
      "metadata": {
        "id": "NDrAZy-OWiHA",
        "colab_type": "text"
      },
      "source": [
        "## Text Matcher"
      ]
    },
    {
      "cell_type": "code",
      "metadata": {
        "id": "GzTrzZbRPET3",
        "colab_type": "code",
        "colab": {
          "base_uri": "https://localhost:8080/",
          "height": 204
        },
        "outputId": "1736788f-2ea0-4ac0-a7c3-55a1e7182877"
      },
      "source": [
        "! wget \thttps://s3.amazonaws.com/auxdata.johnsnowlabs.com/public/resources/en/pubmed/pubmed-sample.csv"
      ],
      "execution_count": 169,
      "outputs": [
        {
          "output_type": "stream",
          "text": [
            "--2020-04-20 16:11:48--  https://s3.amazonaws.com/auxdata.johnsnowlabs.com/public/resources/en/pubmed/pubmed-sample.csv\n",
            "Resolving s3.amazonaws.com (s3.amazonaws.com)... 52.216.110.13\n",
            "Connecting to s3.amazonaws.com (s3.amazonaws.com)|52.216.110.13|:443... connected.\n",
            "HTTP request sent, awaiting response... 200 OK\n",
            "Length: 10484510 (10.0M) [text/csv]\n",
            "Saving to: ‘pubmed-sample.csv’\n",
            "\n",
            "pubmed-sample.csv   100%[===================>]  10.00M  16.8MB/s    in 0.6s    \n",
            "\n",
            "2020-04-20 16:11:49 (16.8 MB/s) - ‘pubmed-sample.csv’ saved [10484510/10484510]\n",
            "\n"
          ],
          "name": "stdout"
        }
      ]
    },
    {
      "cell_type": "code",
      "metadata": {
        "id": "oJAKK7DaXfvd",
        "colab_type": "code",
        "colab": {
          "base_uri": "https://localhost:8080/",
          "height": 207
        },
        "outputId": "4e54559b-e5df-4804-f50d-ffb50ec26af8"
      },
      "source": [
        "!head pubmed-sample.csv"
      ],
      "execution_count": 174,
      "outputs": [
        {
          "output_type": "stream",
          "text": [
            "AB,TI\n",
            "\"The human KCNJ9 (Kir 3.3, GIRK3) is a member of the G-protein-activated inwardly rectifying potassium (GIRK) channel family. Here we describe the genomicorganization of the KCNJ9 locus on chromosome 1q21-23 as a candidate gene forType II diabetes mellitus in the Pima Indian population. The gene spansapproximately 7.6 kb and contains one noncoding and two coding exons separated byapproximately 2.2 and approximately 2.6 kb introns, respectively. We identified14 single nucleotide polymorphisms (SNPs), including one that predicts aVal366Ala substitution, and an 8 base-pair (bp) insertion/deletion. Ourexpression studies revealed the presence of the transcript in various humantissues including pancreas, and two major insulin-responsive tissues: fat andskeletal muscle. The characterization of the KCNJ9 gene should facilitate furtherstudies on the function of the KCNJ9 protein and allow evaluation of thepotential role of the locus in Type II diabetes.\",\"Genomic structure and expression of human KCNJ9 (Kir3.3/GIRK3).\"\n",
            "\"BACKGROUND: At present, it is one of the most important issues for the treatment of breast cancer to develop the standard therapy for patients previously treated with anthracyclines and taxanes. With the objective of determining the usefulnessof vinorelbine monotherapy in patients with advanced or recurrent breast cancerafter standard therapy, we evaluated the efficacy and safety of vinorelbine inpatients previously treated with anthracyclines and taxanes. METHODS: Vinorelbinewas administered at a dose level of 25 mg/m(2) intravenously on days 1 and 8 of a3 week cycle. Patients were given three or more cycles in the absence of tumorprogression. A maximum of nine cycles were administered. RESULTS: The responserate in 50 evaluable patients was 20.0% (10 out of 50; 95% confidence interval,10.0-33.7%). Responders plus those who had minor response (MR) or no change (NC) accounted for 58.0% [10 partial responses (PRs) + one MR + 18 NCs out of 50]. TheKaplan-Meier estimate (50% point) of time to progression (TTP) was 115.0 days.The response rate in the visceral organs was 17.3% (nine PRs out of 52). Themajor toxicity was myelosuppression, which was reversible and did not requirediscontinuation of treatment. CONCLUSION: The results of this study show thatvinorelbine monotherapy is useful in patients with advanced or recurrent breastcancer previously exposed to both anthracyclines and taxanes.\",\"Late phase II clinical study of vinorelbine monotherapy in advanced or recurrent breast cancer previously treated with anthracyclines and taxanes.\"\n",
            "\"OBJECTIVE: To investigate the relationship between preoperative atrialfibrillation and early and late clinical outcomes following cardiac surgery.METHODS: A retrospective cohort including all consecutive coronary artery bypass graft and/or valve surgery patients between 1995 and 2005 was identified (n =9796). No patient had a concomitant surgical AF ablation. The association betweenpreoperative atrial fibrillation and in-hospital outcomes was examined. We alsodetermined late death and cardiovascular-related re-hospitalization by linking toadministrative health databases. Median follow-up was 2.9 years (maximum 11years). RESULTS: The prevalence of preoperative atrial fibrillation was 11.3% (n = 1105), ranging from 7.2% in isolated CABG to 30% in valve surgery. In-hospital mortality, stroke, and renal failure were more common in atrial fibrillationpatients (all p < 0.0001), although the association between atrial fibrillationand mortality was not statistically significant in multivariate logisticregression. Longitudinal analyses showed that preoperative atrial fibrillationwas associated with decreased event-free survival (adjusted hazard ratio 1.55,95% confidence interval 1.42-1.70, p < 0.0001). CONCLUSIONS: Preoperative atrial fibrillation is associated with increased late mortality and recurrentcardiovascular events post-cardiac surgery. Effective management strategies foratrial fibrillation need to be explored and may provide an opportunity to improvethe long-term outcomes of cardiac surgical patients.\",\"Preoperative atrial fibrillation decreases event-free survival following cardiac surgery.\"\n",
            "\"Combined EEG/fMRI recording has been used to localize the generators of EEGevents and to identify subject state in cognitive studies and is of increasinginterest. However, the large EEG artifacts induced during fMRI have precludedsimultaneous EEG and fMRI recording, restricting study design. Removing thisartifact is difficult, as it normally exceeds EEG significantly and containscomponents in the EEG frequency range. We have developed a recording system andan artifact reduction method that reduce this artifact effectively. The recordingsystem has large dynamic range to capture both low-amplitude EEG and largeimaging artifact without distortion (resolution 2 microV, range 33.3 mV), 5-kHzsampling, and low-pass filtering prior to the main gain stage. Imaging artifactis reduced by subtracting an averaged artifact waveform, followed by adaptivenoise cancellation to reduce any residual artifact. This method was validated in recordings from five subjects using periodic and continuous fMRI sequences.Spectral analysis revealed differences of only 10 to 18% between EEG recorded in the scanner without fMRI and the corrected EEG. Ninety-nine percent of spikewaves (median 74 microV) added to the recordings were identified in the correctedEEG compared to 12% in the uncorrected EEG. The median noise after artifactreduction was 8 microV. All these measures indicate that most of the artifact wasremoved, with minimal EEG distortion. Using this recording system and artifactreduction method, we have demonstrated that simultaneous EEG/fMRI studies are forthe first time possible, extending the scope of EEG/fMRI studies considerably.\",\"A method for removing imaging artifact from continuous EEG recorded duringfunctional MRI.\"\n",
            "\"Kohlschutter syndrome is a rare neurodegenerative disorder presenting withintractable seizures, developmental regression and characteristic hypoplasticdental enamel indicative of amelogenesis imperfecta. We report a new family with two affected siblings.\",\"Kohlschutter syndrome in siblings.\"\n",
            "\"Statistical analysis of neuroimages is commonly approached with intergroupcomparisons made by repeated application of univariate or multivariate testsperformed on the set of the regions of interest sampled in the acquired images.The use of such large numbers of tests requires application of techniques forcorrection for multiple comparisons. Standard multiple comparison adjustments(such as the Bonferroni) may be overly conservative when data are correlatedand/or not normally distributed. Resampling-based step-down procedures thatsuccessfully account for unknown correlation structures in the data have recentlybeen introduced. We combined resampling step-down procedures with the MinimumVariance Adaptive method, which allows selection of an optimal test statisticfrom a predefined class of statistics for the data under analysis. As shown insimulation studies and analysis of autoradiographic data, the combined technique exhibits a significant increase in statistical power, even for small sample sizes(n = 8, 9, 10).\",\"Selection of an adaptive test statistic for use with multiple comparison analysesof neuroimaging data.\"\n",
            "\"The synthetic DOX-LNA conjugate was characterized by proton nuclear magneticresonance and mass spectrometry. In addition, the purity of the conjugate wasanalyzed by reverse-phase high-performance liquid chromatography. The cellularuptake, intracellular distribution, and cytotoxicity of DOX-LNA were assessed by flow cytometry, fluorescence microscopy, liquid chromatography/electrosprayionization tandem mass spectrometry, and the tetrazolium dye assay using the invitro cell models. The DOX-LNA conjugate showed substantially highertumor-specific cytotoxicity compared with DOX.\",\"Conjugation with alpha-linolenic acid improves cancer cell uptake andcytotoxicity of doxorubicin.\"\n",
            "\"Our objective was to compare three different methods of blood pressuremeasurement through the results of a controlled study aimed at comparing theantihypertensive effects of trandolapril and losartan. Two hundred andtwenty-nine hypertensive patients were randomized in a double-blind parallelgroup study. After a 3-week placebo period, they received either 2 mgtrandolapril or 50 mg losartan once daily for 6 weeks. At the end of both placeboand active treatment periods, three methods of blood pressure measurement wereused: a) office blood pressure (three consecutive measurements); b) home selfblood pressure measurements (SBPM), consisting of three consecutive measurements performed at home in the morning and in the evening for 7 consecutive days; andc) ambulatory blood pressure measurements (ABPM), 24-h BP recordings with threemeasurements per hour. Of the 229 patients, 199 (87%) performed at least 12 validSBPM measurements during both placebo and treatment periods, whereas only 160(70%) performed good quality 24-h ABPM recordings during both periods (P <.0001). One hundred-forty patients performed the three methods of measurementwell. At baseline and with treatment, agreement between office measurements andABPM or SBPM was weak. Conversely, there was a good agreement between ABPM andSBPM. The mean difference (SBP/DBP) between ABPM and SBPM was 4.6 +/- 10.4/3.5+/- 7.1 at baseline and 3.5 +/- 10.0/4.0 +/- 7.0 at the end of the treatmentperiod. The correlation between SBPM and ABPM expressed by the r coefficient and the P values were the following: at baseline 0.79/0.70 (< 0.001/< .0001), withactive treatment 0.74/0.69 (0.0001/.0001). Hourly and 24-h reproducibility ofblood pressure response was quantified by the standard deviation of BP response. Compared with office blood pressure, both global and hourly SBPM responsesexhibited a lower standard deviation. Hourly reproducibility of SBPM response(10.8 mm Hg/6.9 mm Hg) was lower than hourly reproducibility of ABPM response(15.6 mm Hg/11.9 mm Hg). In conclusion, SBPM was easier to perform than ABPM.There was a good agreement between these two methods whereas concordance between SBPM or ABPM and office measurements was weak. As hourly reproducibility of SBPM response is better than reproducibility of both hourly ABPM and office BPresponse, SBPM seems to be the most appropriate method for evaluating residualantihypertensive effect.\",\"Comparison of three blood pressure measurement methods for the evaluation of two antihypertensive drugs: feasibility, agreement, and reproducibility of bloodpressure response.\"\n",
            "\"We conducted a phase II study to assess the efficacy and tolerability ofirinotecan and cisplatin as salvage chemotherapy in patients with advancedgastric adenocarcinoma, progressing after both 5-fluorouracil (5-FU)- andtaxane-containing regimen. Patients with measurable metastatic gastric cancer,progressive after previous chemotherapy that consisted either of a 5-FU-basedregimen followed by second-line chemotherapy containing taxanes or a 5-FU andtaxane combination were treated with irinotecan and cisplatin. Irinotecan 70mg/m(2) was administered on day 1 and day 15; cisplatin 70 mg/m(2) wasadministered on day 1. Treatment was repeated every 4 weeks. For 28 patientsregistered, a total of 94 chemotherapy cycles were administered. The patients'median age was 51 years and 27 (96%) had an ECOG performance status of 1 orbelow. In an intent-to-treat analysis, seven patients (25%) achieved a partialresponse, which maintained for 6.3 months (95% confidence interval 6.2-6.4months). The median progression-free and overall survival were 3.5 and 5.6months, respectively. Major toxic effects included nausea, diarrhea andneurotoxicity. Although there was one possible treatment-related death, toxicity profiles were generally predictable and manageable. We conclude that irinotecanand cisplatin is an active combination for patients with metastatic gastriccancer in whom previous chemotherapy with 5-FU and taxanes has failed.\",\"Salvage chemotherapy with irinotecan and cisplatin in patients with metastaticgastric cancer failing both 5-fluorouracil and taxanes.\"\n"
          ],
          "name": "stdout"
        }
      ]
    },
    {
      "cell_type": "code",
      "metadata": {
        "id": "b7JY4SvwPEKN",
        "colab_type": "code",
        "colab": {
          "base_uri": "https://localhost:8080/",
          "height": 459
        },
        "outputId": "45845ccd-7a0b-4e2a-9146-3f85f9c5205b"
      },
      "source": [
        "import pyspark.sql.functions as F\n",
        "\n",
        "pubMedDF = spark.read\\\n",
        "                .option(\"header\", \"true\")\\\n",
        "                .csv(\"./pubmed-sample.csv\")\\\n",
        "                .filter(\"AB IS NOT null\")\\\n",
        "                .withColumnRenamed(\"AB\", \"text\")\\\n",
        "                .drop(\"TI\")\n",
        "\n",
        "pubMedDF.show(truncate=100)"
      ],
      "execution_count": 175,
      "outputs": [
        {
          "output_type": "stream",
          "text": [
            "+----------------------------------------------------------------------------------------------------+\n",
            "|                                                                                                text|\n",
            "+----------------------------------------------------------------------------------------------------+\n",
            "|The human KCNJ9 (Kir 3.3, GIRK3) is a member of the G-protein-activated inwardly rectifying potas...|\n",
            "|BACKGROUND: At present, it is one of the most important issues for the treatment of breast cancer...|\n",
            "|OBJECTIVE: To investigate the relationship between preoperative atrialfibrillation and early and ...|\n",
            "|Combined EEG/fMRI recording has been used to localize the generators of EEGevents and to identify...|\n",
            "|Kohlschutter syndrome is a rare neurodegenerative disorder presenting withintractable seizures, d...|\n",
            "|Statistical analysis of neuroimages is commonly approached with intergroupcomparisons made by rep...|\n",
            "|The synthetic DOX-LNA conjugate was characterized by proton nuclear magneticresonance and mass sp...|\n",
            "|Our objective was to compare three different methods of blood pressuremeasurement through the res...|\n",
            "|We conducted a phase II study to assess the efficacy and tolerability ofirinotecan and cisplatin ...|\n",
            "|\"Monomeric sarcosine oxidase (MSOX) is a flavoenzyme that catalyzes the oxidative demethylation o...|\n",
            "|We presented the tachinid fly Exorista japonica with moving host models: afreeze-dried larva of t...|\n",
            "|The literature dealing with the water conducting properties of sapwood xylem intrees is inconsist...|\n",
            "|A novel approach to synthesize chitosan-O-isopropyl-5'-O-d4T monophosphateconjugate was developed...|\n",
            "|An HPLC-ESI-MS-MS method has been developed for the quantitative determination offour diterpenoid...|\n",
            "|The localizing and lateralizing values of eye and head ictal deviations duringfrontal lobe seizur...|\n",
            "|OBJECTIVE: To evaluate the effectiveness and acceptability of expectantmanagement of induced and ...|\n",
            "|For the construction of new combinatorial libraries, a lead compound was created by replacing the...|\n",
            "|We report the results of a screen for genetic association with urinary arsenicmetabolite levels i...|\n",
            "|Intraparenchymal pericatheter cyst is rarely reported. Obstruction in theventriculoperitoneal shu...|\n",
            "|It is known that patients with Klinefelter's syndrome are inclined to developconcomitant malignan...|\n",
            "+----------------------------------------------------------------------------------------------------+\n",
            "only showing top 20 rows\n",
            "\n"
          ],
          "name": "stdout"
        }
      ]
    },
    {
      "cell_type": "code",
      "metadata": {
        "id": "OheFUk8XPEA1",
        "colab_type": "code",
        "colab": {}
      },
      "source": [
        "# let's create a file which will includes the entities we want to find\n",
        "# it will be stored in content directory\n",
        "# It is used for the EXACT WORD/WORDS we're looking for\n",
        "\n",
        "entities = ['KCNJ9', 'GIRK', 'diabates mellitus', 'nucleotide polymorphisms']\n",
        "\n",
        "with open('clinical_entities.txt', 'w') as f:\n",
        "    for i in entities:\n",
        "        f.write(i+'\\n')"
      ],
      "execution_count": 0,
      "outputs": []
    },
    {
      "cell_type": "code",
      "metadata": {
        "id": "IacDcBWvPD6r",
        "colab_type": "code",
        "colab": {}
      },
      "source": [
        "entity_extractor = TextMatcher()\\\n",
        "                    .setInputCols(['document', 'token'])\\\n",
        "                    .setOutputCol('matched_entities')\\\n",
        "                    .setEntities('clinical_entities.txt')"
      ],
      "execution_count": 0,
      "outputs": []
    },
    {
      "cell_type": "code",
      "metadata": {
        "id": "2x_dkTB2Yp8y",
        "colab_type": "code",
        "colab": {}
      },
      "source": [
        "nlpPipeline = Pipeline(stages=[\n",
        " documentAssembler, \n",
        " tokenizer,\n",
        " entity_extractor\n",
        " ])\n",
        "\n",
        "empty_df = spark.createDataFrame([['']]).toDF(\"text\")\n",
        "\n",
        "pipelineModel = nlpPipeline.fit(empty_df)"
      ],
      "execution_count": 0,
      "outputs": []
    },
    {
      "cell_type": "code",
      "metadata": {
        "id": "QXLExr3gZykQ",
        "colab_type": "code",
        "colab": {
          "base_uri": "https://localhost:8080/",
          "height": 34
        },
        "outputId": "64cf811f-7162-476e-d1cc-66859c89eb59"
      },
      "source": [
        "pubMedDF.count()\n",
        "# it has 7.5K rows"
      ],
      "execution_count": 182,
      "outputs": [
        {
          "output_type": "execute_result",
          "data": {
            "text/plain": [
              "7537"
            ]
          },
          "metadata": {
            "tags": []
          },
          "execution_count": 182
        }
      ]
    },
    {
      "cell_type": "code",
      "metadata": {
        "id": "qmx7F2BFYqE7",
        "colab_type": "code",
        "colab": {}
      },
      "source": [
        "result = pipelineModel.transform(pubMedDF.limit(10))"
      ],
      "execution_count": 0,
      "outputs": []
    },
    {
      "cell_type": "code",
      "metadata": {
        "id": "i8IJVu2vaSNA",
        "colab_type": "code",
        "colab": {
          "base_uri": "https://localhost:8080/",
          "height": 54
        },
        "outputId": "cee016a0-ebdf-4c15-c1e8-e304212b7288"
      },
      "source": [
        "pubMedDF.select('text').take(1)"
      ],
      "execution_count": 183,
      "outputs": [
        {
          "output_type": "execute_result",
          "data": {
            "text/plain": [
              "[Row(text='The human KCNJ9 (Kir 3.3, GIRK3) is a member of the G-protein-activated inwardly rectifying potassium (GIRK) channel family. Here we describe the genomicorganization of the KCNJ9 locus on chromosome 1q21-23 as a candidate gene forType II diabetes mellitus in the Pima Indian population. The gene spansapproximately 7.6 kb and contains one noncoding and two coding exons separated byapproximately 2.2 and approximately 2.6 kb introns, respectively. We identified14 single nucleotide polymorphisms (SNPs), including one that predicts aVal366Ala substitution, and an 8 base-pair (bp) insertion/deletion. Ourexpression studies revealed the presence of the transcript in various humantissues including pancreas, and two major insulin-responsive tissues: fat andskeletal muscle. The characterization of the KCNJ9 gene should facilitate furtherstudies on the function of the KCNJ9 protein and allow evaluation of thepotential role of the locus in Type II diabetes.')]"
            ]
          },
          "metadata": {
            "tags": []
          },
          "execution_count": 183
        }
      ]
    },
    {
      "cell_type": "code",
      "metadata": {
        "id": "vn-KdtXOYqJ3",
        "colab_type": "code",
        "colab": {
          "base_uri": "https://localhost:8080/",
          "height": 34
        },
        "outputId": "8c02b6fd-21d5-4276-be4f-7cfd3175c9f2"
      },
      "source": [
        "result.select('matched_entities.result').take(1)"
      ],
      "execution_count": 181,
      "outputs": [
        {
          "output_type": "execute_result",
          "data": {
            "text/plain": [
              "[Row(result=['KCNJ9', 'GIRK', 'KCNJ9', 'nucleotide polymorphisms', 'KCNJ9', 'KCNJ9'])]"
            ]
          },
          "metadata": {
            "tags": []
          },
          "execution_count": 181
        }
      ]
    },
    {
      "cell_type": "code",
      "metadata": {
        "id": "SkRaa11fYqV5",
        "colab_type": "code",
        "colab": {
          "base_uri": "https://localhost:8080/",
          "height": 235
        },
        "outputId": "1ce77ffe-5842-4d85-91a0-3c5d73766576"
      },
      "source": [
        "result_df = result.select(F.explode(F.arrays_zip('matched_entities.result', 'matched_entities.begin',  'matched_entities.end')).alias(\"cols\")) \\\n",
        ".select(F.expr(\"cols['0']\").alias(\"matched_entities\"),\n",
        "        F.expr(\"cols['1']\").alias(\"begin\"),\n",
        "        F.expr(\"cols['2']\").alias(\"end\")).toPandas()\n",
        "\n",
        "result_df.head(10)"
      ],
      "execution_count": 184,
      "outputs": [
        {
          "output_type": "execute_result",
          "data": {
            "text/html": [
              "<div>\n",
              "<style scoped>\n",
              "    .dataframe tbody tr th:only-of-type {\n",
              "        vertical-align: middle;\n",
              "    }\n",
              "\n",
              "    .dataframe tbody tr th {\n",
              "        vertical-align: top;\n",
              "    }\n",
              "\n",
              "    .dataframe thead th {\n",
              "        text-align: right;\n",
              "    }\n",
              "</style>\n",
              "<table border=\"1\" class=\"dataframe\">\n",
              "  <thead>\n",
              "    <tr style=\"text-align: right;\">\n",
              "      <th></th>\n",
              "      <th>matched_entities</th>\n",
              "      <th>begin</th>\n",
              "      <th>end</th>\n",
              "    </tr>\n",
              "  </thead>\n",
              "  <tbody>\n",
              "    <tr>\n",
              "      <th>0</th>\n",
              "      <td>KCNJ9</td>\n",
              "      <td>10</td>\n",
              "      <td>14</td>\n",
              "    </tr>\n",
              "    <tr>\n",
              "      <th>1</th>\n",
              "      <td>GIRK</td>\n",
              "      <td>103</td>\n",
              "      <td>106</td>\n",
              "    </tr>\n",
              "    <tr>\n",
              "      <th>2</th>\n",
              "      <td>KCNJ9</td>\n",
              "      <td>173</td>\n",
              "      <td>177</td>\n",
              "    </tr>\n",
              "    <tr>\n",
              "      <th>3</th>\n",
              "      <td>nucleotide polymorphisms</td>\n",
              "      <td>471</td>\n",
              "      <td>494</td>\n",
              "    </tr>\n",
              "    <tr>\n",
              "      <th>4</th>\n",
              "      <td>KCNJ9</td>\n",
              "      <td>801</td>\n",
              "      <td>805</td>\n",
              "    </tr>\n",
              "    <tr>\n",
              "      <th>5</th>\n",
              "      <td>KCNJ9</td>\n",
              "      <td>868</td>\n",
              "      <td>872</td>\n",
              "    </tr>\n",
              "  </tbody>\n",
              "</table>\n",
              "</div>"
            ],
            "text/plain": [
              "           matched_entities  begin  end\n",
              "0                     KCNJ9     10   14\n",
              "1                      GIRK    103  106\n",
              "2                     KCNJ9    173  177\n",
              "3  nucleotide polymorphisms    471  494\n",
              "4                     KCNJ9    801  805\n",
              "5                     KCNJ9    868  872"
            ]
          },
          "metadata": {
            "tags": []
          },
          "execution_count": 184
        }
      ]
    },
    {
      "cell_type": "markdown",
      "metadata": {
        "id": "Uem87EYkavpR",
        "colab_type": "text"
      },
      "source": [
        "## RegexMatcher"
      ]
    },
    {
      "cell_type": "code",
      "metadata": {
        "id": "Kc77Q2wHYqaw",
        "colab_type": "code",
        "colab": {}
      },
      "source": [
        "rules = '''\n",
        "renal\\s\\w+, followed by 'renal'\n",
        "cardiac\\s\\w+, followed by 'cardiac'\n",
        "'''\n",
        "\n",
        "with open('regex_rules.txt', 'w') as f:\n",
        "    \n",
        "    f.write(rules)"
      ],
      "execution_count": 0,
      "outputs": []
    },
    {
      "cell_type": "code",
      "metadata": {
        "id": "3Pc_0KeSYqha",
        "colab_type": "code",
        "colab": {
          "base_uri": "https://localhost:8080/",
          "height": 68
        },
        "outputId": "4212d498-ba26-48f5-e89c-df23d777ca2b"
      },
      "source": [
        "documentAssembler = DocumentAssembler()\\\n",
        ".setInputCol(\"text\")\\\n",
        ".setOutputCol(\"document\")\n",
        "\n",
        "regex_matcher = RegexMatcher()\\\n",
        "    .setInputCols('document')\\\n",
        "    .setStrategy(\"MATCH_ALL\")\\\n",
        "    .setOutputCol(\"regex_matches\")\\\n",
        "    .setExternalRules(path='./regex_rules.txt', delimiter=',')\n",
        "    \n",
        "\n",
        "nlpPipeline = Pipeline(stages=[\n",
        " documentAssembler, \n",
        " regex_matcher\n",
        " ])\n",
        "\n",
        "empty_df = spark.createDataFrame([['']]).toDF(\"text\")\n",
        "\n",
        "pipelineModel = nlpPipeline.fit(empty_df)\n",
        "\n",
        "match_df = pipelineModel.transform(pubMedDF)\n",
        "\n",
        "match_df.select('regex_matches.result').take(3)"
      ],
      "execution_count": 186,
      "outputs": [
        {
          "output_type": "execute_result",
          "data": {
            "text/plain": [
              "[Row(result=[]),\n",
              " Row(result=[]),\n",
              " Row(result=['renal failure', 'cardiac surgery', 'cardiac surgery', 'cardiac surgical'])]"
            ]
          },
          "metadata": {
            "tags": []
          },
          "execution_count": 186
        }
      ]
    },
    {
      "cell_type": "code",
      "metadata": {
        "id": "amg37JTvYqez",
        "colab_type": "code",
        "colab": {
          "base_uri": "https://localhost:8080/",
          "height": 459
        },
        "outputId": "7ed6259d-7169-434d-a6cd-8484e52fa9a7"
      },
      "source": [
        "# Sadece regex iceren satirlari gormek istersek\n",
        "\n",
        "match_df.select('text','regex_matches.result')\\\n",
        ".toDF('text','matches').filter(F.size('matches')>1)\\\n",
        ".show(truncate=50)"
      ],
      "execution_count": 187,
      "outputs": [
        {
          "output_type": "stream",
          "text": [
            "+--------------------------------------------------+--------------------------------------------------+\n",
            "|                                              text|                                           matches|\n",
            "+--------------------------------------------------+--------------------------------------------------+\n",
            "|OBJECTIVE: To investigate the relationship betw...|[renal failure, cardiac surgery, cardiac surger...|\n",
            "|Aging is a physiological process that causes st...|                     [renal function, renal aging]|\n",
            "|BACKGROUND: Left-sided inferior vena cava (IVC)...|          [renal surgery, renal mass, renal veins]|\n",
            "|A successful kidney transplantation (Tx) offers...|                         [renal failure, renal Tx]|\n",
            "|The transcription factor scleraxis has been imp...|[cardiac valves, cardiac fibroblasts, cardiac c...|\n",
            "|Historically, the only surgical option for remo...|                        [renal mass, renal masses]|\n",
            "|OBJECTIVES: To examine the clinical effectivene...|   [renal transplantation, renal transplantgroups]|\n",
            "|The cardiac natriuretic peptides (NP) atrial na...|[renal mechanisms, renal function, cardiac natr...|\n",
            "|Patients with chronic congestive heart failure ...|[cardiac remodeling, cardiac receptorswith, car...|\n",
            "|OBJECTIVE: To discuss the long-term results of ...|       [cardiac insufficiency, cardiac infarction]|\n",
            "|Bone loss and osteoporotic fractures are common...|     [cardiac transplant, cardiac transplantation]|\n",
            "|The Clinical Guidelines Committee of the Europe...|[cardiac arrest, cardiac surgery, cardiac surge...|\n",
            "|Superoxide anion contributes to the pathogenesi...|[renal hemodynamics, renal hemodynamics, renal ...|\n",
            "|Macrophage-derived factor (MDF) is a lipophilic...|                    [renal glands, renal cortical]|\n",
            "|Quantification of regional myocardial blood flo...|                 [cardiac disease, cardiac events]|\n",
            "|Higher levels of long-chain n-3 polyunsaturated...|[cardiac arrest, cardiac arrest, cardiac arrest...|\n",
            "|Well-known complications related to drug abuse ...|                [renal infarction, cardiac causes]|\n",
            "|The renal glomerulus, the site of plasma ultraf...|              [renal glomerulus, renal epithelial]|\n",
            "|OBJECTIVE: The rise in the number of implantati...|[cardiac pacemakers, cardiac pacemakers, cardia...|\n",
            "|OBJECTIVES: To examine determinants of use of c...|          [cardiac procedures, cardiac procedures]|\n",
            "+--------------------------------------------------+--------------------------------------------------+\n",
            "only showing top 20 rows\n",
            "\n"
          ],
          "name": "stdout"
        }
      ]
    },
    {
      "cell_type": "code",
      "metadata": {
        "id": "R2MSXsjbYqUO",
        "colab_type": "code",
        "colab": {
          "base_uri": "https://localhost:8080/",
          "height": 442
        },
        "outputId": "5e8b1143-770d-4f59-d714-8486f4a040f0"
      },
      "source": [
        "match_df.printSchema()"
      ],
      "execution_count": 188,
      "outputs": [
        {
          "output_type": "stream",
          "text": [
            "root\n",
            " |-- text: string (nullable = true)\n",
            " |-- document: array (nullable = true)\n",
            " |    |-- element: struct (containsNull = true)\n",
            " |    |    |-- annotatorType: string (nullable = true)\n",
            " |    |    |-- begin: integer (nullable = false)\n",
            " |    |    |-- end: integer (nullable = false)\n",
            " |    |    |-- result: string (nullable = true)\n",
            " |    |    |-- metadata: map (nullable = true)\n",
            " |    |    |    |-- key: string\n",
            " |    |    |    |-- value: string (valueContainsNull = true)\n",
            " |    |    |-- embeddings: array (nullable = true)\n",
            " |    |    |    |-- element: float (containsNull = false)\n",
            " |-- regex_matches: array (nullable = true)\n",
            " |    |-- element: struct (containsNull = true)\n",
            " |    |    |-- annotatorType: string (nullable = true)\n",
            " |    |    |-- begin: integer (nullable = false)\n",
            " |    |    |-- end: integer (nullable = false)\n",
            " |    |    |-- result: string (nullable = true)\n",
            " |    |    |-- metadata: map (nullable = true)\n",
            " |    |    |    |-- key: string\n",
            " |    |    |    |-- value: string (valueContainsNull = true)\n",
            " |    |    |-- embeddings: array (nullable = true)\n",
            " |    |    |    |-- element: float (containsNull = false)\n",
            "\n"
          ],
          "name": "stdout"
        }
      ]
    },
    {
      "cell_type": "markdown",
      "metadata": {
        "id": "VWjMza7cc4O4",
        "colab_type": "text"
      },
      "source": [
        "## Finisher"
      ]
    },
    {
      "cell_type": "code",
      "metadata": {
        "id": "KEq8-TnNYqSZ",
        "colab_type": "code",
        "colab": {}
      },
      "source": [
        "# It removes previous columns which is defined in pipeline and shows only the one which is defined in finisher\n",
        "# Finisher: Once we have our NLP pipeline ready to go, we might want to use our annotation results somewhere else where it is easy to use. \n",
        "# The Finisher outputs annotation(s) values into a string."
      ],
      "execution_count": 0,
      "outputs": []
    },
    {
      "cell_type": "code",
      "metadata": {
        "id": "g1V_kiNOYqP4",
        "colab_type": "code",
        "colab": {}
      },
      "source": [
        "finisher = Finisher()\\\n",
        "        .setInputCols(['regex_matches'])\\\n",
        "        .setIncludeMetadata(False) # set False to remove metadata"
      ],
      "execution_count": 0,
      "outputs": []
    },
    {
      "cell_type": "code",
      "metadata": {
        "id": "V_Ehw0wDYqCt",
        "colab_type": "code",
        "colab": {
          "base_uri": "https://localhost:8080/",
          "height": 459
        },
        "outputId": "c322f2c8-bd6b-42f4-f219-bc74065fc99c"
      },
      "source": [
        "nlpPipeline = Pipeline(stages=[\n",
        " documentAssembler, \n",
        " regex_matcher,\n",
        " finisher\n",
        " ])\n",
        "\n",
        "empty_df = spark.createDataFrame([['']]).toDF(\"text\")\n",
        "\n",
        "pipelineModel = nlpPipeline.fit(empty_df)\n",
        "\n",
        "match_df = pipelineModel.transform(pubMedDF)\n",
        "\n",
        "match_df.show(truncate = 50)"
      ],
      "execution_count": 193,
      "outputs": [
        {
          "output_type": "stream",
          "text": [
            "+--------------------------------------------------+--------------------------------------------------+\n",
            "|                                              text|                            finished_regex_matches|\n",
            "+--------------------------------------------------+--------------------------------------------------+\n",
            "|The human KCNJ9 (Kir 3.3, GIRK3) is a member of...|                                                []|\n",
            "|BACKGROUND: At present, it is one of the most i...|                                                []|\n",
            "|OBJECTIVE: To investigate the relationship betw...|[renal failure, cardiac surgery, cardiac surger...|\n",
            "|Combined EEG/fMRI recording has been used to lo...|                                                []|\n",
            "|Kohlschutter syndrome is a rare neurodegenerati...|                                                []|\n",
            "|Statistical analysis of neuroimages is commonly...|                                                []|\n",
            "|The synthetic DOX-LNA conjugate was characteriz...|                                                []|\n",
            "|Our objective was to compare three different me...|                                                []|\n",
            "|We conducted a phase II study to assess the eff...|                                                []|\n",
            "|\"Monomeric sarcosine oxidase (MSOX) is a flavoe...|                                                []|\n",
            "|We presented the tachinid fly Exorista japonica...|                                                []|\n",
            "|The literature dealing with the water conductin...|                                                []|\n",
            "|A novel approach to synthesize chitosan-O-isopr...|                                                []|\n",
            "|An HPLC-ESI-MS-MS method has been developed for...|                                                []|\n",
            "|The localizing and lateralizing values of eye a...|                                                []|\n",
            "|OBJECTIVE: To evaluate the effectiveness and ac...|                                                []|\n",
            "|For the construction of new combinatorial libra...|                                                []|\n",
            "|We report the results of a screen for genetic a...|                                                []|\n",
            "|Intraparenchymal pericatheter cyst is rarely re...|                                                []|\n",
            "|It is known that patients with Klinefelter's sy...|                                                []|\n",
            "+--------------------------------------------------+--------------------------------------------------+\n",
            "only showing top 20 rows\n",
            "\n"
          ],
          "name": "stdout"
        }
      ]
    },
    {
      "cell_type": "code",
      "metadata": {
        "id": "ME-kQNWwYqAR",
        "colab_type": "code",
        "colab": {
          "base_uri": "https://localhost:8080/",
          "height": 102
        },
        "outputId": "fa100db1-0f8c-4b8a-ef73-a33db0684519"
      },
      "source": [
        "match_df.printSchema()\n",
        "# it is very simple now"
      ],
      "execution_count": 194,
      "outputs": [
        {
          "output_type": "stream",
          "text": [
            "root\n",
            " |-- text: string (nullable = true)\n",
            " |-- finished_regex_matches: array (nullable = true)\n",
            " |    |-- element: string (containsNull = true)\n",
            "\n"
          ],
          "name": "stdout"
        }
      ]
    },
    {
      "cell_type": "code",
      "metadata": {
        "id": "2uku0rGBeKyM",
        "colab_type": "code",
        "colab": {
          "base_uri": "https://localhost:8080/",
          "height": 459
        },
        "outputId": "39117836-3c1f-4686-9daf-422fa39e1e4e"
      },
      "source": [
        "# If we want to filter out the empty matches\n",
        "\n",
        "match_df.filter(F.size('finished_regex_matches')>=1).show(truncate = 50)"
      ],
      "execution_count": 196,
      "outputs": [
        {
          "output_type": "stream",
          "text": [
            "+--------------------------------------------------+--------------------------------------------------+\n",
            "|                                              text|                            finished_regex_matches|\n",
            "+--------------------------------------------------+--------------------------------------------------+\n",
            "|OBJECTIVE: To investigate the relationship betw...|[renal failure, cardiac surgery, cardiac surger...|\n",
            "|Successful renal transplantation is associated ...|                           [renal transplantation]|\n",
            "|Although inhaled and intranasal corticosteroids...|                               [renal suppression]|\n",
            "|Aging is a physiological process that causes st...|                     [renal function, renal aging]|\n",
            "|Tight junctions form the major paracellular bar...|                                     [renal tight]|\n",
            "|BACKGROUND: Left-sided inferior vena cava (IVC)...|          [renal surgery, renal mass, renal veins]|\n",
            "|A successful kidney transplantation (Tx) offers...|                         [renal failure, renal Tx]|\n",
            "|The transcription factor scleraxis has been imp...|[cardiac valves, cardiac fibroblasts, cardiac c...|\n",
            "|OBJECTIVE: Although present treatment programs ...|                                      [renal cell]|\n",
            "|\"The aim of this study was to evaluate and comp...|                                      [renal cell]|\n",
            "|Historically, the only surgical option for remo...|                        [renal mass, renal masses]|\n",
            "|Patients suffering from sleep apnea syndrome ar...|                                     [cardiac and]|\n",
            "|BACKGROUND: Patients with chronic renal failure...|                                   [renal failure]|\n",
            "|The phosphorylation of glucose, a crucial step ...|                                   [renal tumours]|\n",
            "|The effects of glucose, sorbitol and xylitol in...|                                  [renal filtered]|\n",
            "|INTRODUCTION AND OBJECTIVES: Endothelial dysfun...|                                 [cardiac disease]|\n",
            "|OBJECTIVES: To examine the clinical effectivene...|   [renal transplantation, renal transplantgroups]|\n",
            "|Cardiovascular event rates are markedly increas...|                                  [renal function]|\n",
            "|The kidney (11-HSD2 or 11-HSDK) isozyme of 11be...|                                      [renal cell]|\n",
            "|The cardiac natriuretic peptides (NP) atrial na...|[renal mechanisms, renal function, cardiac natr...|\n",
            "+--------------------------------------------------+--------------------------------------------------+\n",
            "only showing top 20 rows\n",
            "\n"
          ],
          "name": "stdout"
        }
      ]
    },
    {
      "cell_type": "markdown",
      "metadata": {
        "id": "TZ8c5jtBfb93",
        "colab_type": "text"
      },
      "source": [
        "## LightPipeline"
      ]
    },
    {
      "cell_type": "markdown",
      "metadata": {
        "id": "e12lGr_7fpPO",
        "colab_type": "text"
      },
      "source": [
        "LightPipelines are Spark NLP specific Pipelines, equivalent to Spark ML Pipeline, but meant to **deal with smaller amounts of data**. They’re useful working with small datasets, debugging results, or when running either training or prediction from an API that serves one-off requests.\n",
        "\n",
        "Spark NLP LightPipelines are Spark ML pipelines converted into a single machine but the multi-threaded task, becoming more than 10x times faster for smaller amounts of data (small is relative, but 50k sentences are roughly a good maximum). To use them, we simply plug in a trained (fitted) pipeline and then annotate a plain text. We don't even need to convert the input text to DataFrame in order to feed it into a pipeline that's accepting DataFrame as an input in the first place. This feature would be quite useful when it comes to getting a prediction for a few lines of text from a trained ML model.\n",
        "\n",
        "It is nearly 20x faster than using Spark ML Pipeline"
      ]
    },
    {
      "cell_type": "code",
      "metadata": {
        "id": "k3_uTFXZg_hH",
        "colab_type": "code",
        "colab": {}
      },
      "source": [
        "# Note we re-run the pipelineModel which inludes 'lemma', 'stem' etc above so the the very last one we're processing which is coming \n",
        "# from regex_matches. Please pya attention that"
      ],
      "execution_count": 0,
      "outputs": []
    },
    {
      "cell_type": "code",
      "metadata": {
        "id": "M_FpV7i2eK56",
        "colab_type": "code",
        "colab": {}
      },
      "source": [
        "from sparknlp.base import LightPipeline\n",
        "\n",
        "light_model = LightPipeline(pipelineModel)\n",
        "\n",
        "light_result = light_model.annotate(\"John and Peter are brothers. However they don't support each other that much\")"
      ],
      "execution_count": 0,
      "outputs": []
    },
    {
      "cell_type": "code",
      "metadata": {
        "id": "4Wt-O7jOeLB3",
        "colab_type": "code",
        "colab": {
          "base_uri": "https://localhost:8080/",
          "height": 34
        },
        "outputId": "651f55a0-43ef-4264-ce4e-cfd08c0c4f01"
      },
      "source": [
        "light_result.keys()"
      ],
      "execution_count": 205,
      "outputs": [
        {
          "output_type": "execute_result",
          "data": {
            "text/plain": [
              "dict_keys(['document', 'token', 'stem', 'lemma'])"
            ]
          },
          "metadata": {
            "tags": []
          },
          "execution_count": 205
        }
      ]
    },
    {
      "cell_type": "code",
      "metadata": {
        "id": "46E_2U7ReK2H",
        "colab_type": "code",
        "colab": {
          "base_uri": "https://localhost:8080/",
          "height": 255
        },
        "outputId": "6856d525-8a19-4a5e-ccf4-7bd3781baba4"
      },
      "source": [
        "list(zip(light_result['token'], light_result['stem'], light_result['lemma']))"
      ],
      "execution_count": 208,
      "outputs": [
        {
          "output_type": "execute_result",
          "data": {
            "text/plain": [
              "[('John', 'john', 'John'),\n",
              " ('and', 'and', 'and'),\n",
              " ('Peter', 'peter', 'Peter'),\n",
              " ('are', 'ar', 'be'),\n",
              " ('brothers', 'brother', 'brother'),\n",
              " ('.', '.', '.'),\n",
              " ('However', 'howev', 'However'),\n",
              " ('they', 'thei', 'they'),\n",
              " (\"don't\", \"don't\", \"don't\"),\n",
              " ('support', 'support', 'support'),\n",
              " ('each', 'each', 'each'),\n",
              " ('other', 'other', 'other'),\n",
              " ('that', 'that', 'that'),\n",
              " ('much', 'much', 'much')]"
            ]
          },
          "metadata": {
            "tags": []
          },
          "execution_count": 208
        }
      ]
    },
    {
      "cell_type": "code",
      "metadata": {
        "id": "1MXiLCu3eKvq",
        "colab_type": "code",
        "colab": {
          "base_uri": "https://localhost:8080/",
          "height": 748
        },
        "outputId": "3488326b-c2a7-4a3d-9757-12dad377279a"
      },
      "source": [
        "light_result = light_model.fullAnnotate(\"John and Peter are brothers. However they don't support each other that much\")\n",
        "light_result"
      ],
      "execution_count": 210,
      "outputs": [
        {
          "output_type": "execute_result",
          "data": {
            "text/plain": [
              "[{'document': [Annotation(document, 0, 75, John and Peter are brothers. However they don't support each other that much, {})],\n",
              "  'lemma': [Annotation(token, 0, 3, John, {'sentence': '0'}),\n",
              "   Annotation(token, 5, 7, and, {'sentence': '0'}),\n",
              "   Annotation(token, 9, 13, Peter, {'sentence': '0'}),\n",
              "   Annotation(token, 15, 17, be, {'sentence': '0'}),\n",
              "   Annotation(token, 19, 26, brother, {'sentence': '0'}),\n",
              "   Annotation(token, 27, 27, ., {'sentence': '0'}),\n",
              "   Annotation(token, 29, 35, However, {'sentence': '0'}),\n",
              "   Annotation(token, 37, 40, they, {'sentence': '0'}),\n",
              "   Annotation(token, 42, 46, don't, {'sentence': '0'}),\n",
              "   Annotation(token, 48, 54, support, {'sentence': '0'}),\n",
              "   Annotation(token, 56, 59, each, {'sentence': '0'}),\n",
              "   Annotation(token, 61, 65, other, {'sentence': '0'}),\n",
              "   Annotation(token, 67, 70, that, {'sentence': '0'}),\n",
              "   Annotation(token, 72, 75, much, {'sentence': '0'})],\n",
              "  'stem': [Annotation(token, 0, 3, john, {'sentence': '0'}),\n",
              "   Annotation(token, 5, 7, and, {'sentence': '0'}),\n",
              "   Annotation(token, 9, 13, peter, {'sentence': '0'}),\n",
              "   Annotation(token, 15, 17, ar, {'sentence': '0'}),\n",
              "   Annotation(token, 19, 26, brother, {'sentence': '0'}),\n",
              "   Annotation(token, 27, 27, ., {'sentence': '0'}),\n",
              "   Annotation(token, 29, 35, howev, {'sentence': '0'}),\n",
              "   Annotation(token, 37, 40, thei, {'sentence': '0'}),\n",
              "   Annotation(token, 42, 46, don't, {'sentence': '0'}),\n",
              "   Annotation(token, 48, 54, support, {'sentence': '0'}),\n",
              "   Annotation(token, 56, 59, each, {'sentence': '0'}),\n",
              "   Annotation(token, 61, 65, other, {'sentence': '0'}),\n",
              "   Annotation(token, 67, 70, that, {'sentence': '0'}),\n",
              "   Annotation(token, 72, 75, much, {'sentence': '0'})],\n",
              "  'token': [Annotation(token, 0, 3, John, {'sentence': '0'}),\n",
              "   Annotation(token, 5, 7, and, {'sentence': '0'}),\n",
              "   Annotation(token, 9, 13, Peter, {'sentence': '0'}),\n",
              "   Annotation(token, 15, 17, are, {'sentence': '0'}),\n",
              "   Annotation(token, 19, 26, brothers, {'sentence': '0'}),\n",
              "   Annotation(token, 27, 27, ., {'sentence': '0'}),\n",
              "   Annotation(token, 29, 35, However, {'sentence': '0'}),\n",
              "   Annotation(token, 37, 40, they, {'sentence': '0'}),\n",
              "   Annotation(token, 42, 46, don't, {'sentence': '0'}),\n",
              "   Annotation(token, 48, 54, support, {'sentence': '0'}),\n",
              "   Annotation(token, 56, 59, each, {'sentence': '0'}),\n",
              "   Annotation(token, 61, 65, other, {'sentence': '0'}),\n",
              "   Annotation(token, 67, 70, that, {'sentence': '0'}),\n",
              "   Annotation(token, 72, 75, much, {'sentence': '0'})]}]"
            ]
          },
          "metadata": {
            "tags": []
          },
          "execution_count": 210
        }
      ]
    },
    {
      "cell_type": "code",
      "metadata": {
        "id": "QTt5xvL9eKs6",
        "colab_type": "code",
        "colab": {}
      },
      "source": [
        "### First NoteBook Can Be Seen From Here to Below"
      ],
      "execution_count": 0,
      "outputs": []
    },
    {
      "cell_type": "markdown",
      "metadata": {
        "id": "k_8WNsDjxibK",
        "colab_type": "text"
      },
      "source": [
        "## Using Pretrained Pipelines"
      ]
    },
    {
      "cell_type": "markdown",
      "metadata": {
        "id": "OKx2DGFPxtbJ",
        "colab_type": "text"
      },
      "source": [
        "https://github.com/JohnSnowLabs/spark-nlp-models"
      ]
    },
    {
      "cell_type": "code",
      "metadata": {
        "id": "alFZ1XjCxtSa",
        "colab_type": "code",
        "colab": {}
      },
      "source": [
        "from sparknlp.pretrained import PretrainedPipeline"
      ],
      "execution_count": 0,
      "outputs": []
    },
    {
      "cell_type": "code",
      "metadata": {
        "id": "ZjNHvZUpwxNA",
        "colab_type": "code",
        "outputId": "16f969b8-95d1-4809-d7df-2eb2d6456b44",
        "colab": {
          "base_uri": "https://localhost:8080/",
          "height": 164
        }
      },
      "source": [
        "pipeline = PretrainedPipeline('explain_document_ml', lang='en')"
      ],
      "execution_count": 2,
      "outputs": [
        {
          "output_type": "error",
          "ename": "NameError",
          "evalue": "ignored",
          "traceback": [
            "\u001b[0;31m---------------------------------------------------------------------------\u001b[0m",
            "\u001b[0;31mNameError\u001b[0m                                 Traceback (most recent call last)",
            "\u001b[0;32m<ipython-input-2-0896d6b45bb3>\u001b[0m in \u001b[0;36m<module>\u001b[0;34m()\u001b[0m\n\u001b[0;32m----> 1\u001b[0;31m \u001b[0mpipeline\u001b[0m \u001b[0;34m=\u001b[0m \u001b[0mPretrainedPipeline\u001b[0m\u001b[0;34m(\u001b[0m\u001b[0;34m'explain_document_ml'\u001b[0m\u001b[0;34m,\u001b[0m \u001b[0mlang\u001b[0m\u001b[0;34m=\u001b[0m\u001b[0;34m'en'\u001b[0m\u001b[0;34m)\u001b[0m\u001b[0;34m\u001b[0m\u001b[0;34m\u001b[0m\u001b[0m\n\u001b[0m",
            "\u001b[0;31mNameError\u001b[0m: name 'PretrainedPipeline' is not defined"
          ]
        }
      ]
    },
    {
      "cell_type": "code",
      "metadata": {
        "id": "BIKWJt0Fy8gh",
        "colab_type": "code",
        "colab": {}
      },
      "source": [
        "testDoc = \"\"\"French author who helped pioner the science-fiction genre. \\\n",
        "Verne wrate about space, air, and underwater travel before navigable aircrast and \\\n",
        "practical submarines were invented, and before any means of space travel had been devised.\"\"\""
      ],
      "execution_count": 0,
      "outputs": []
    },
    {
      "cell_type": "code",
      "metadata": {
        "id": "XXvUosLUz3i5",
        "colab_type": "code",
        "outputId": "9d1bf0ea-e340-4a20-df8e-ba52a9ed05cd",
        "colab": {
          "base_uri": "https://localhost:8080/",
          "height": 54
        }
      },
      "source": [
        "testDoc"
      ],
      "execution_count": 0,
      "outputs": [
        {
          "output_type": "execute_result",
          "data": {
            "text/plain": [
              "'French author who helped pioner the science-fiction genre. Verne wrate about space, air, and underwater travel before navigable aircrast and practical submarines were invented, and before any means of space travel had been devised.'"
            ]
          },
          "metadata": {
            "tags": []
          },
          "execution_count": 7
        }
      ]
    },
    {
      "cell_type": "code",
      "metadata": {
        "id": "1m5nUlVSz7iU",
        "colab_type": "code",
        "outputId": "9d2428c9-c11b-4ba3-e429-1e1d21c1cfad",
        "colab": {
          "base_uri": "https://localhost:8080/",
          "height": 51
        }
      },
      "source": [
        "%%time\n",
        "\n",
        "result = pipeline.annotate(testDoc)"
      ],
      "execution_count": 0,
      "outputs": [
        {
          "output_type": "stream",
          "text": [
            "CPU times: user 34.9 ms, sys: 9.77 ms, total: 44.6 ms\n",
            "Wall time: 2.26 s\n"
          ],
          "name": "stdout"
        }
      ]
    },
    {
      "cell_type": "code",
      "metadata": {
        "id": "Z6gqwXHZ0HuR",
        "colab_type": "code",
        "outputId": "87c31ceb-b74f-4c12-aa4c-dc03116c3243",
        "colab": {
          "base_uri": "https://localhost:8080/",
          "height": 34
        }
      },
      "source": [
        "result.keys()"
      ],
      "execution_count": 0,
      "outputs": [
        {
          "output_type": "execute_result",
          "data": {
            "text/plain": [
              "dict_keys(['document', 'spell', 'pos', 'lemmas', 'token', 'stems', 'sentence'])"
            ]
          },
          "metadata": {
            "tags": []
          },
          "execution_count": 9
        }
      ]
    },
    {
      "cell_type": "code",
      "metadata": {
        "id": "QBtaJpxm0n84",
        "colab_type": "code",
        "outputId": "2a403ac4-58a2-4ee5-c046-edaad9f84a11",
        "colab": {
          "base_uri": "https://localhost:8080/",
          "height": 71
        }
      },
      "source": [
        "result['sentence']"
      ],
      "execution_count": 0,
      "outputs": [
        {
          "output_type": "execute_result",
          "data": {
            "text/plain": [
              "['French author who helped pioner the science-fiction genre.',\n",
              " 'Verne wrate about space, air, and underwater travel before navigable aircrast and practical submarines were invented, and before any means of space travel had been devised.']"
            ]
          },
          "metadata": {
            "tags": []
          },
          "execution_count": 10
        }
      ]
    },
    {
      "cell_type": "code",
      "metadata": {
        "id": "RxGKhrNe0yIt",
        "colab_type": "code",
        "outputId": "6fbaae98-daaa-4036-9f22-6bdc853791f6",
        "colab": {
          "base_uri": "https://localhost:8080/",
          "height": 680
        }
      },
      "source": [
        "result['token']"
      ],
      "execution_count": 0,
      "outputs": [
        {
          "output_type": "execute_result",
          "data": {
            "text/plain": [
              "['French',\n",
              " 'author',\n",
              " 'who',\n",
              " 'helped',\n",
              " 'pioner',\n",
              " 'the',\n",
              " 'science-fiction',\n",
              " 'genre',\n",
              " '.',\n",
              " 'Verne',\n",
              " 'wrate',\n",
              " 'about',\n",
              " 'space',\n",
              " ',',\n",
              " 'air',\n",
              " ',',\n",
              " 'and',\n",
              " 'underwater',\n",
              " 'travel',\n",
              " 'before',\n",
              " 'navigable',\n",
              " 'aircrast',\n",
              " 'and',\n",
              " 'practical',\n",
              " 'submarines',\n",
              " 'were',\n",
              " 'invented',\n",
              " ',',\n",
              " 'and',\n",
              " 'before',\n",
              " 'any',\n",
              " 'means',\n",
              " 'of',\n",
              " 'space',\n",
              " 'travel',\n",
              " 'had',\n",
              " 'been',\n",
              " 'devised',\n",
              " '.']"
            ]
          },
          "metadata": {
            "tags": []
          },
          "execution_count": 11
        }
      ]
    },
    {
      "cell_type": "code",
      "metadata": {
        "id": "XPBB1A1J0z1g",
        "colab_type": "code",
        "outputId": "f69e9ae3-93e3-4a7d-907d-ad2a2d610b3a",
        "colab": {
          "base_uri": "https://localhost:8080/",
          "height": 680
        }
      },
      "source": [
        "list(zip(result['token'], result['pos']))"
      ],
      "execution_count": 0,
      "outputs": [
        {
          "output_type": "execute_result",
          "data": {
            "text/plain": [
              "[('French', 'JJ'),\n",
              " ('author', 'NN'),\n",
              " ('who', 'WP'),\n",
              " ('helped', 'VBD'),\n",
              " ('pioner', 'NN'),\n",
              " ('the', 'DT'),\n",
              " ('science-fiction', 'NN'),\n",
              " ('genre', 'NN'),\n",
              " ('.', '.'),\n",
              " ('Verne', 'NNP'),\n",
              " ('wrate', 'VBD'),\n",
              " ('about', 'IN'),\n",
              " ('space', 'NN'),\n",
              " (',', ','),\n",
              " ('air', 'NN'),\n",
              " (',', ','),\n",
              " ('and', 'CC'),\n",
              " ('underwater', 'JJ'),\n",
              " ('travel', 'NN'),\n",
              " ('before', 'IN'),\n",
              " ('navigable', 'JJ'),\n",
              " ('aircrast', 'NN'),\n",
              " ('and', 'CC'),\n",
              " ('practical', 'JJ'),\n",
              " ('submarines', 'NNS'),\n",
              " ('were', 'VBD'),\n",
              " ('invented', 'VBN'),\n",
              " (',', ','),\n",
              " ('and', 'CC'),\n",
              " ('before', 'IN'),\n",
              " ('any', 'DT'),\n",
              " ('means', 'NNS'),\n",
              " ('of', 'IN'),\n",
              " ('space', 'NN'),\n",
              " ('travel', 'NN'),\n",
              " ('had', 'VBD'),\n",
              " ('been', 'VBN'),\n",
              " ('devised', 'VBN'),\n",
              " ('.', '.')]"
            ]
          },
          "metadata": {
            "tags": []
          },
          "execution_count": 12
        }
      ]
    },
    {
      "cell_type": "code",
      "metadata": {
        "id": "-fL_GxQ71Rat",
        "colab_type": "code",
        "outputId": "9c3a6097-fec6-4fc2-ae3f-4724d8692401",
        "colab": {
          "base_uri": "https://localhost:8080/",
          "height": 680
        }
      },
      "source": [
        "list(zip(result['token'], result['lemmas'], result['stems'], result['spell']))"
      ],
      "execution_count": 0,
      "outputs": [
        {
          "output_type": "execute_result",
          "data": {
            "text/plain": [
              "[('French', 'French', 'french', 'French'),\n",
              " ('author', 'author', 'author', 'author'),\n",
              " ('who', 'who', 'who', 'who'),\n",
              " ('helped', 'help', 'help', 'helped'),\n",
              " ('pioner', 'pioneer', 'pioneer', 'pioneer'),\n",
              " ('the', 'the', 'the', 'the'),\n",
              " ('science-fiction', 'sciencefiction', 'sciencefict', 'sciencefiction'),\n",
              " ('genre', 'genre', 'genr', 'genre'),\n",
              " ('.', '.', '.', '.'),\n",
              " ('Verne', 'Verne', 'vern', 'Verne'),\n",
              " ('wrate', 'write', 'wrote', 'wrote'),\n",
              " ('about', 'about', 'about', 'about'),\n",
              " ('space', 'space', 'space', 'space'),\n",
              " (',', ',', ',', ','),\n",
              " ('air', 'air', 'air', 'air'),\n",
              " (',', ',', ',', ','),\n",
              " ('and', 'and', 'and', 'and'),\n",
              " ('underwater', 'underwater', 'underwat', 'underwater'),\n",
              " ('travel', 'travel', 'travel', 'travel'),\n",
              " ('before', 'before', 'befor', 'before'),\n",
              " ('navigable', 'navigable', 'navig', 'navigable'),\n",
              " ('aircrast', 'aircraft', 'aircraft', 'aircraft'),\n",
              " ('and', 'and', 'and', 'and'),\n",
              " ('practical', 'practical', 'practic', 'practical'),\n",
              " ('submarines', 'submarine', 'submarin', 'submarines'),\n",
              " ('were', 'be', 'were', 'were'),\n",
              " ('invented', 'invent', 'invent', 'invented'),\n",
              " (',', ',', ',', ','),\n",
              " ('and', 'and', 'and', 'and'),\n",
              " ('before', 'before', 'befor', 'before'),\n",
              " ('any', 'any', 'ani', 'any'),\n",
              " ('means', 'mean', 'mean', 'means'),\n",
              " ('of', 'of', 'of', 'of'),\n",
              " ('space', 'space', 'space', 'space'),\n",
              " ('travel', 'travel', 'travel', 'travel'),\n",
              " ('had', 'have', 'had', 'had'),\n",
              " ('been', 'be', 'been', 'been'),\n",
              " ('devised', 'devise', 'devis', 'devised'),\n",
              " ('.', '.', '.', '.')]"
            ]
          },
          "metadata": {
            "tags": []
          },
          "execution_count": 13
        }
      ]
    },
    {
      "cell_type": "code",
      "metadata": {
        "id": "1LUM2iOp1jiR",
        "colab_type": "code",
        "outputId": "929af8dc-b595-4803-bfcc-95d843fc39bf",
        "colab": {
          "base_uri": "https://localhost:8080/",
          "height": 1000
        }
      },
      "source": [
        "df = pd.DataFrame({\"token\":result['token'],\n",
        "                   \"corrected\":result['spell'],\n",
        "                   'POS':result['pos'],\n",
        "                   'lemmas':result['lemmas'],\n",
        "                   'stems':result['stems']}) \n",
        "df"
      ],
      "execution_count": 0,
      "outputs": [
        {
          "output_type": "execute_result",
          "data": {
            "text/html": [
              "<div>\n",
              "<style scoped>\n",
              "    .dataframe tbody tr th:only-of-type {\n",
              "        vertical-align: middle;\n",
              "    }\n",
              "\n",
              "    .dataframe tbody tr th {\n",
              "        vertical-align: top;\n",
              "    }\n",
              "\n",
              "    .dataframe thead th {\n",
              "        text-align: right;\n",
              "    }\n",
              "</style>\n",
              "<table border=\"1\" class=\"dataframe\">\n",
              "  <thead>\n",
              "    <tr style=\"text-align: right;\">\n",
              "      <th></th>\n",
              "      <th>token</th>\n",
              "      <th>corrected</th>\n",
              "      <th>POS</th>\n",
              "      <th>lemmas</th>\n",
              "      <th>stems</th>\n",
              "    </tr>\n",
              "  </thead>\n",
              "  <tbody>\n",
              "    <tr>\n",
              "      <th>0</th>\n",
              "      <td>French</td>\n",
              "      <td>French</td>\n",
              "      <td>JJ</td>\n",
              "      <td>French</td>\n",
              "      <td>french</td>\n",
              "    </tr>\n",
              "    <tr>\n",
              "      <th>1</th>\n",
              "      <td>author</td>\n",
              "      <td>author</td>\n",
              "      <td>NN</td>\n",
              "      <td>author</td>\n",
              "      <td>author</td>\n",
              "    </tr>\n",
              "    <tr>\n",
              "      <th>2</th>\n",
              "      <td>who</td>\n",
              "      <td>who</td>\n",
              "      <td>WP</td>\n",
              "      <td>who</td>\n",
              "      <td>who</td>\n",
              "    </tr>\n",
              "    <tr>\n",
              "      <th>3</th>\n",
              "      <td>helped</td>\n",
              "      <td>helped</td>\n",
              "      <td>VBD</td>\n",
              "      <td>help</td>\n",
              "      <td>help</td>\n",
              "    </tr>\n",
              "    <tr>\n",
              "      <th>4</th>\n",
              "      <td>pioner</td>\n",
              "      <td>pioneer</td>\n",
              "      <td>NN</td>\n",
              "      <td>pioneer</td>\n",
              "      <td>pioneer</td>\n",
              "    </tr>\n",
              "    <tr>\n",
              "      <th>5</th>\n",
              "      <td>the</td>\n",
              "      <td>the</td>\n",
              "      <td>DT</td>\n",
              "      <td>the</td>\n",
              "      <td>the</td>\n",
              "    </tr>\n",
              "    <tr>\n",
              "      <th>6</th>\n",
              "      <td>science-fiction</td>\n",
              "      <td>sciencefiction</td>\n",
              "      <td>NN</td>\n",
              "      <td>sciencefiction</td>\n",
              "      <td>sciencefict</td>\n",
              "    </tr>\n",
              "    <tr>\n",
              "      <th>7</th>\n",
              "      <td>genre</td>\n",
              "      <td>genre</td>\n",
              "      <td>NN</td>\n",
              "      <td>genre</td>\n",
              "      <td>genr</td>\n",
              "    </tr>\n",
              "    <tr>\n",
              "      <th>8</th>\n",
              "      <td>.</td>\n",
              "      <td>.</td>\n",
              "      <td>.</td>\n",
              "      <td>.</td>\n",
              "      <td>.</td>\n",
              "    </tr>\n",
              "    <tr>\n",
              "      <th>9</th>\n",
              "      <td>Verne</td>\n",
              "      <td>Verne</td>\n",
              "      <td>NNP</td>\n",
              "      <td>Verne</td>\n",
              "      <td>vern</td>\n",
              "    </tr>\n",
              "    <tr>\n",
              "      <th>10</th>\n",
              "      <td>wrate</td>\n",
              "      <td>wrote</td>\n",
              "      <td>VBD</td>\n",
              "      <td>write</td>\n",
              "      <td>wrote</td>\n",
              "    </tr>\n",
              "    <tr>\n",
              "      <th>11</th>\n",
              "      <td>about</td>\n",
              "      <td>about</td>\n",
              "      <td>IN</td>\n",
              "      <td>about</td>\n",
              "      <td>about</td>\n",
              "    </tr>\n",
              "    <tr>\n",
              "      <th>12</th>\n",
              "      <td>space</td>\n",
              "      <td>space</td>\n",
              "      <td>NN</td>\n",
              "      <td>space</td>\n",
              "      <td>space</td>\n",
              "    </tr>\n",
              "    <tr>\n",
              "      <th>13</th>\n",
              "      <td>,</td>\n",
              "      <td>,</td>\n",
              "      <td>,</td>\n",
              "      <td>,</td>\n",
              "      <td>,</td>\n",
              "    </tr>\n",
              "    <tr>\n",
              "      <th>14</th>\n",
              "      <td>air</td>\n",
              "      <td>air</td>\n",
              "      <td>NN</td>\n",
              "      <td>air</td>\n",
              "      <td>air</td>\n",
              "    </tr>\n",
              "    <tr>\n",
              "      <th>15</th>\n",
              "      <td>,</td>\n",
              "      <td>,</td>\n",
              "      <td>,</td>\n",
              "      <td>,</td>\n",
              "      <td>,</td>\n",
              "    </tr>\n",
              "    <tr>\n",
              "      <th>16</th>\n",
              "      <td>and</td>\n",
              "      <td>and</td>\n",
              "      <td>CC</td>\n",
              "      <td>and</td>\n",
              "      <td>and</td>\n",
              "    </tr>\n",
              "    <tr>\n",
              "      <th>17</th>\n",
              "      <td>underwater</td>\n",
              "      <td>underwater</td>\n",
              "      <td>JJ</td>\n",
              "      <td>underwater</td>\n",
              "      <td>underwat</td>\n",
              "    </tr>\n",
              "    <tr>\n",
              "      <th>18</th>\n",
              "      <td>travel</td>\n",
              "      <td>travel</td>\n",
              "      <td>NN</td>\n",
              "      <td>travel</td>\n",
              "      <td>travel</td>\n",
              "    </tr>\n",
              "    <tr>\n",
              "      <th>19</th>\n",
              "      <td>before</td>\n",
              "      <td>before</td>\n",
              "      <td>IN</td>\n",
              "      <td>before</td>\n",
              "      <td>befor</td>\n",
              "    </tr>\n",
              "    <tr>\n",
              "      <th>20</th>\n",
              "      <td>navigable</td>\n",
              "      <td>navigable</td>\n",
              "      <td>JJ</td>\n",
              "      <td>navigable</td>\n",
              "      <td>navig</td>\n",
              "    </tr>\n",
              "    <tr>\n",
              "      <th>21</th>\n",
              "      <td>aircrast</td>\n",
              "      <td>aircraft</td>\n",
              "      <td>NN</td>\n",
              "      <td>aircraft</td>\n",
              "      <td>aircraft</td>\n",
              "    </tr>\n",
              "    <tr>\n",
              "      <th>22</th>\n",
              "      <td>and</td>\n",
              "      <td>and</td>\n",
              "      <td>CC</td>\n",
              "      <td>and</td>\n",
              "      <td>and</td>\n",
              "    </tr>\n",
              "    <tr>\n",
              "      <th>23</th>\n",
              "      <td>practical</td>\n",
              "      <td>practical</td>\n",
              "      <td>JJ</td>\n",
              "      <td>practical</td>\n",
              "      <td>practic</td>\n",
              "    </tr>\n",
              "    <tr>\n",
              "      <th>24</th>\n",
              "      <td>submarines</td>\n",
              "      <td>submarines</td>\n",
              "      <td>NNS</td>\n",
              "      <td>submarine</td>\n",
              "      <td>submarin</td>\n",
              "    </tr>\n",
              "    <tr>\n",
              "      <th>25</th>\n",
              "      <td>were</td>\n",
              "      <td>were</td>\n",
              "      <td>VBD</td>\n",
              "      <td>be</td>\n",
              "      <td>were</td>\n",
              "    </tr>\n",
              "    <tr>\n",
              "      <th>26</th>\n",
              "      <td>invented</td>\n",
              "      <td>invented</td>\n",
              "      <td>VBN</td>\n",
              "      <td>invent</td>\n",
              "      <td>invent</td>\n",
              "    </tr>\n",
              "    <tr>\n",
              "      <th>27</th>\n",
              "      <td>,</td>\n",
              "      <td>,</td>\n",
              "      <td>,</td>\n",
              "      <td>,</td>\n",
              "      <td>,</td>\n",
              "    </tr>\n",
              "    <tr>\n",
              "      <th>28</th>\n",
              "      <td>and</td>\n",
              "      <td>and</td>\n",
              "      <td>CC</td>\n",
              "      <td>and</td>\n",
              "      <td>and</td>\n",
              "    </tr>\n",
              "    <tr>\n",
              "      <th>29</th>\n",
              "      <td>before</td>\n",
              "      <td>before</td>\n",
              "      <td>IN</td>\n",
              "      <td>before</td>\n",
              "      <td>befor</td>\n",
              "    </tr>\n",
              "    <tr>\n",
              "      <th>30</th>\n",
              "      <td>any</td>\n",
              "      <td>any</td>\n",
              "      <td>DT</td>\n",
              "      <td>any</td>\n",
              "      <td>ani</td>\n",
              "    </tr>\n",
              "    <tr>\n",
              "      <th>31</th>\n",
              "      <td>means</td>\n",
              "      <td>means</td>\n",
              "      <td>NNS</td>\n",
              "      <td>mean</td>\n",
              "      <td>mean</td>\n",
              "    </tr>\n",
              "    <tr>\n",
              "      <th>32</th>\n",
              "      <td>of</td>\n",
              "      <td>of</td>\n",
              "      <td>IN</td>\n",
              "      <td>of</td>\n",
              "      <td>of</td>\n",
              "    </tr>\n",
              "    <tr>\n",
              "      <th>33</th>\n",
              "      <td>space</td>\n",
              "      <td>space</td>\n",
              "      <td>NN</td>\n",
              "      <td>space</td>\n",
              "      <td>space</td>\n",
              "    </tr>\n",
              "    <tr>\n",
              "      <th>34</th>\n",
              "      <td>travel</td>\n",
              "      <td>travel</td>\n",
              "      <td>NN</td>\n",
              "      <td>travel</td>\n",
              "      <td>travel</td>\n",
              "    </tr>\n",
              "    <tr>\n",
              "      <th>35</th>\n",
              "      <td>had</td>\n",
              "      <td>had</td>\n",
              "      <td>VBD</td>\n",
              "      <td>have</td>\n",
              "      <td>had</td>\n",
              "    </tr>\n",
              "    <tr>\n",
              "      <th>36</th>\n",
              "      <td>been</td>\n",
              "      <td>been</td>\n",
              "      <td>VBN</td>\n",
              "      <td>be</td>\n",
              "      <td>been</td>\n",
              "    </tr>\n",
              "    <tr>\n",
              "      <th>37</th>\n",
              "      <td>devised</td>\n",
              "      <td>devised</td>\n",
              "      <td>VBN</td>\n",
              "      <td>devise</td>\n",
              "      <td>devis</td>\n",
              "    </tr>\n",
              "    <tr>\n",
              "      <th>38</th>\n",
              "      <td>.</td>\n",
              "      <td>.</td>\n",
              "      <td>.</td>\n",
              "      <td>.</td>\n",
              "      <td>.</td>\n",
              "    </tr>\n",
              "  </tbody>\n",
              "</table>\n",
              "</div>"
            ],
            "text/plain": [
              "              token       corrected  POS          lemmas        stems\n",
              "0            French          French   JJ          French       french\n",
              "1            author          author   NN          author       author\n",
              "2               who             who   WP             who          who\n",
              "3            helped          helped  VBD            help         help\n",
              "4            pioner         pioneer   NN         pioneer      pioneer\n",
              "5               the             the   DT             the          the\n",
              "6   science-fiction  sciencefiction   NN  sciencefiction  sciencefict\n",
              "7             genre           genre   NN           genre         genr\n",
              "8                 .               .    .               .            .\n",
              "9             Verne           Verne  NNP           Verne         vern\n",
              "10            wrate           wrote  VBD           write        wrote\n",
              "11            about           about   IN           about        about\n",
              "12            space           space   NN           space        space\n",
              "13                ,               ,    ,               ,            ,\n",
              "14              air             air   NN             air          air\n",
              "15                ,               ,    ,               ,            ,\n",
              "16              and             and   CC             and          and\n",
              "17       underwater      underwater   JJ      underwater     underwat\n",
              "18           travel          travel   NN          travel       travel\n",
              "19           before          before   IN          before        befor\n",
              "20        navigable       navigable   JJ       navigable        navig\n",
              "21         aircrast        aircraft   NN        aircraft     aircraft\n",
              "22              and             and   CC             and          and\n",
              "23        practical       practical   JJ       practical      practic\n",
              "24       submarines      submarines  NNS       submarine     submarin\n",
              "25             were            were  VBD              be         were\n",
              "26         invented        invented  VBN          invent       invent\n",
              "27                ,               ,    ,               ,            ,\n",
              "28              and             and   CC             and          and\n",
              "29           before          before   IN          before        befor\n",
              "30              any             any   DT             any          ani\n",
              "31            means           means  NNS            mean         mean\n",
              "32               of              of   IN              of           of\n",
              "33            space           space   NN           space        space\n",
              "34           travel          travel   NN          travel       travel\n",
              "35              had             had  VBD            have          had\n",
              "36             been            been  VBN              be         been\n",
              "37          devised         devised  VBN          devise        devis\n",
              "38                .               .    .               .            ."
            ]
          },
          "metadata": {
            "tags": []
          },
          "execution_count": 14
        }
      ]
    },
    {
      "cell_type": "markdown",
      "metadata": {
        "id": "0zBKH09W3D7u",
        "colab_type": "text"
      },
      "source": [
        "## Explain Document DL"
      ]
    },
    {
      "cell_type": "code",
      "metadata": {
        "id": "VMbgcFPr2ss7",
        "colab_type": "code",
        "outputId": "3463e592-2319-44cf-8abd-428f97977343",
        "colab": {
          "base_uri": "https://localhost:8080/",
          "height": 68
        }
      },
      "source": [
        "pipeline_dl = PretrainedPipeline('explain_document_dl', 'en')"
      ],
      "execution_count": 0,
      "outputs": [
        {
          "output_type": "stream",
          "text": [
            "explain_document_dl download started this may take some time.\n",
            "Approx size to download 168.4 MB\n",
            "[OK!]\n"
          ],
          "name": "stdout"
        }
      ]
    },
    {
      "cell_type": "code",
      "metadata": {
        "id": "5HN9R4jS3PyU",
        "colab_type": "code",
        "outputId": "c2969da0-c1a4-43e8-df5c-b03ffae45299",
        "colab": {
          "base_uri": "https://localhost:8080/",
          "height": 51
        }
      },
      "source": [
        "%%time\n",
        "result = pipeline_dl.annotate(testDoc)"
      ],
      "execution_count": 0,
      "outputs": [
        {
          "output_type": "stream",
          "text": [
            "CPU times: user 33.1 ms, sys: 12.7 ms, total: 45.8 ms\n",
            "Wall time: 724 ms\n"
          ],
          "name": "stdout"
        }
      ]
    },
    {
      "cell_type": "code",
      "metadata": {
        "id": "RqRgbLR1G_TR",
        "colab_type": "code",
        "outputId": "9cf0b559-d6d3-4ff5-fe76-48bb1bd36ad6",
        "colab": {
          "base_uri": "https://localhost:8080/",
          "height": 34
        }
      },
      "source": [
        "result.keys()"
      ],
      "execution_count": 0,
      "outputs": [
        {
          "output_type": "execute_result",
          "data": {
            "text/plain": [
              "dict_keys(['entities', 'stem', 'checked', 'lemma', 'document', 'pos', 'token', 'ner', 'embeddings', 'sentence'])"
            ]
          },
          "metadata": {
            "tags": []
          },
          "execution_count": 17
        }
      ]
    },
    {
      "cell_type": "code",
      "metadata": {
        "id": "L_qxIJRrIJLH",
        "colab_type": "code",
        "outputId": "208e1136-a725-4382-9faa-a4cab1b7048e",
        "colab": {
          "base_uri": "https://localhost:8080/",
          "height": 34
        }
      },
      "source": [
        "result['entities']"
      ],
      "execution_count": 0,
      "outputs": [
        {
          "output_type": "execute_result",
          "data": {
            "text/plain": [
              "['French', 'Verne']"
            ]
          },
          "metadata": {
            "tags": []
          },
          "execution_count": 18
        }
      ]
    },
    {
      "cell_type": "code",
      "metadata": {
        "id": "Cv88V9rTIcq8",
        "colab_type": "code",
        "outputId": "374ada7e-5781-4ceb-c0f9-8cf5f856aeb5",
        "colab": {
          "base_uri": "https://localhost:8080/",
          "height": 1000
        }
      },
      "source": [
        "df = pd.DataFrame({\"token\":result['token'],\n",
        "                   \"ner_label\":result['ner'],\n",
        "                   \"spell_corrected\":result['checked'],\n",
        "                   'POS':result['pos'],\n",
        "                   'lemma':result['lemma'],\n",
        "                   'stem':result['stem']}) \n",
        "df"
      ],
      "execution_count": 0,
      "outputs": [
        {
          "output_type": "execute_result",
          "data": {
            "text/html": [
              "<div>\n",
              "<style scoped>\n",
              "    .dataframe tbody tr th:only-of-type {\n",
              "        vertical-align: middle;\n",
              "    }\n",
              "\n",
              "    .dataframe tbody tr th {\n",
              "        vertical-align: top;\n",
              "    }\n",
              "\n",
              "    .dataframe thead th {\n",
              "        text-align: right;\n",
              "    }\n",
              "</style>\n",
              "<table border=\"1\" class=\"dataframe\">\n",
              "  <thead>\n",
              "    <tr style=\"text-align: right;\">\n",
              "      <th></th>\n",
              "      <th>token</th>\n",
              "      <th>ner_label</th>\n",
              "      <th>spell_corrected</th>\n",
              "      <th>POS</th>\n",
              "      <th>lemma</th>\n",
              "      <th>stem</th>\n",
              "    </tr>\n",
              "  </thead>\n",
              "  <tbody>\n",
              "    <tr>\n",
              "      <th>0</th>\n",
              "      <td>French</td>\n",
              "      <td>B-MISC</td>\n",
              "      <td>French</td>\n",
              "      <td>JJ</td>\n",
              "      <td>French</td>\n",
              "      <td>french</td>\n",
              "    </tr>\n",
              "    <tr>\n",
              "      <th>1</th>\n",
              "      <td>author</td>\n",
              "      <td>O</td>\n",
              "      <td>author</td>\n",
              "      <td>NN</td>\n",
              "      <td>author</td>\n",
              "      <td>author</td>\n",
              "    </tr>\n",
              "    <tr>\n",
              "      <th>2</th>\n",
              "      <td>who</td>\n",
              "      <td>O</td>\n",
              "      <td>who</td>\n",
              "      <td>WP</td>\n",
              "      <td>who</td>\n",
              "      <td>who</td>\n",
              "    </tr>\n",
              "    <tr>\n",
              "      <th>3</th>\n",
              "      <td>helped</td>\n",
              "      <td>O</td>\n",
              "      <td>helped</td>\n",
              "      <td>VBD</td>\n",
              "      <td>help</td>\n",
              "      <td>help</td>\n",
              "    </tr>\n",
              "    <tr>\n",
              "      <th>4</th>\n",
              "      <td>pioner</td>\n",
              "      <td>O</td>\n",
              "      <td>pioneer</td>\n",
              "      <td>NN</td>\n",
              "      <td>pioneer</td>\n",
              "      <td>pioneer</td>\n",
              "    </tr>\n",
              "    <tr>\n",
              "      <th>5</th>\n",
              "      <td>the</td>\n",
              "      <td>O</td>\n",
              "      <td>the</td>\n",
              "      <td>DT</td>\n",
              "      <td>the</td>\n",
              "      <td>the</td>\n",
              "    </tr>\n",
              "    <tr>\n",
              "      <th>6</th>\n",
              "      <td>science-fiction</td>\n",
              "      <td>O</td>\n",
              "      <td>sciencefiction</td>\n",
              "      <td>NN</td>\n",
              "      <td>sciencefiction</td>\n",
              "      <td>sciencefict</td>\n",
              "    </tr>\n",
              "    <tr>\n",
              "      <th>7</th>\n",
              "      <td>genre</td>\n",
              "      <td>O</td>\n",
              "      <td>genre</td>\n",
              "      <td>NN</td>\n",
              "      <td>genre</td>\n",
              "      <td>genr</td>\n",
              "    </tr>\n",
              "    <tr>\n",
              "      <th>8</th>\n",
              "      <td>.</td>\n",
              "      <td>O</td>\n",
              "      <td>.</td>\n",
              "      <td>.</td>\n",
              "      <td>.</td>\n",
              "      <td>.</td>\n",
              "    </tr>\n",
              "    <tr>\n",
              "      <th>9</th>\n",
              "      <td>Verne</td>\n",
              "      <td>B-PER</td>\n",
              "      <td>Verne</td>\n",
              "      <td>NNP</td>\n",
              "      <td>Verne</td>\n",
              "      <td>vern</td>\n",
              "    </tr>\n",
              "    <tr>\n",
              "      <th>10</th>\n",
              "      <td>wrate</td>\n",
              "      <td>O</td>\n",
              "      <td>wrote</td>\n",
              "      <td>VBD</td>\n",
              "      <td>write</td>\n",
              "      <td>wrote</td>\n",
              "    </tr>\n",
              "    <tr>\n",
              "      <th>11</th>\n",
              "      <td>about</td>\n",
              "      <td>O</td>\n",
              "      <td>about</td>\n",
              "      <td>IN</td>\n",
              "      <td>about</td>\n",
              "      <td>about</td>\n",
              "    </tr>\n",
              "    <tr>\n",
              "      <th>12</th>\n",
              "      <td>space</td>\n",
              "      <td>O</td>\n",
              "      <td>space</td>\n",
              "      <td>NN</td>\n",
              "      <td>space</td>\n",
              "      <td>space</td>\n",
              "    </tr>\n",
              "    <tr>\n",
              "      <th>13</th>\n",
              "      <td>,</td>\n",
              "      <td>O</td>\n",
              "      <td>,</td>\n",
              "      <td>,</td>\n",
              "      <td>,</td>\n",
              "      <td>,</td>\n",
              "    </tr>\n",
              "    <tr>\n",
              "      <th>14</th>\n",
              "      <td>air</td>\n",
              "      <td>O</td>\n",
              "      <td>air</td>\n",
              "      <td>NN</td>\n",
              "      <td>air</td>\n",
              "      <td>air</td>\n",
              "    </tr>\n",
              "    <tr>\n",
              "      <th>15</th>\n",
              "      <td>,</td>\n",
              "      <td>O</td>\n",
              "      <td>,</td>\n",
              "      <td>,</td>\n",
              "      <td>,</td>\n",
              "      <td>,</td>\n",
              "    </tr>\n",
              "    <tr>\n",
              "      <th>16</th>\n",
              "      <td>and</td>\n",
              "      <td>O</td>\n",
              "      <td>and</td>\n",
              "      <td>CC</td>\n",
              "      <td>and</td>\n",
              "      <td>and</td>\n",
              "    </tr>\n",
              "    <tr>\n",
              "      <th>17</th>\n",
              "      <td>underwater</td>\n",
              "      <td>O</td>\n",
              "      <td>underwater</td>\n",
              "      <td>JJ</td>\n",
              "      <td>underwater</td>\n",
              "      <td>underwat</td>\n",
              "    </tr>\n",
              "    <tr>\n",
              "      <th>18</th>\n",
              "      <td>travel</td>\n",
              "      <td>O</td>\n",
              "      <td>travel</td>\n",
              "      <td>NN</td>\n",
              "      <td>travel</td>\n",
              "      <td>travel</td>\n",
              "    </tr>\n",
              "    <tr>\n",
              "      <th>19</th>\n",
              "      <td>before</td>\n",
              "      <td>O</td>\n",
              "      <td>before</td>\n",
              "      <td>IN</td>\n",
              "      <td>before</td>\n",
              "      <td>befor</td>\n",
              "    </tr>\n",
              "    <tr>\n",
              "      <th>20</th>\n",
              "      <td>navigable</td>\n",
              "      <td>O</td>\n",
              "      <td>navigable</td>\n",
              "      <td>JJ</td>\n",
              "      <td>navigable</td>\n",
              "      <td>navig</td>\n",
              "    </tr>\n",
              "    <tr>\n",
              "      <th>21</th>\n",
              "      <td>aircrast</td>\n",
              "      <td>O</td>\n",
              "      <td>aircraft</td>\n",
              "      <td>NN</td>\n",
              "      <td>aircraft</td>\n",
              "      <td>aircraft</td>\n",
              "    </tr>\n",
              "    <tr>\n",
              "      <th>22</th>\n",
              "      <td>and</td>\n",
              "      <td>O</td>\n",
              "      <td>and</td>\n",
              "      <td>CC</td>\n",
              "      <td>and</td>\n",
              "      <td>and</td>\n",
              "    </tr>\n",
              "    <tr>\n",
              "      <th>23</th>\n",
              "      <td>practical</td>\n",
              "      <td>O</td>\n",
              "      <td>practical</td>\n",
              "      <td>JJ</td>\n",
              "      <td>practical</td>\n",
              "      <td>practic</td>\n",
              "    </tr>\n",
              "    <tr>\n",
              "      <th>24</th>\n",
              "      <td>submarines</td>\n",
              "      <td>O</td>\n",
              "      <td>submarines</td>\n",
              "      <td>NNS</td>\n",
              "      <td>submarine</td>\n",
              "      <td>submarin</td>\n",
              "    </tr>\n",
              "    <tr>\n",
              "      <th>25</th>\n",
              "      <td>were</td>\n",
              "      <td>O</td>\n",
              "      <td>were</td>\n",
              "      <td>VBD</td>\n",
              "      <td>be</td>\n",
              "      <td>were</td>\n",
              "    </tr>\n",
              "    <tr>\n",
              "      <th>26</th>\n",
              "      <td>invented</td>\n",
              "      <td>O</td>\n",
              "      <td>invented</td>\n",
              "      <td>VBN</td>\n",
              "      <td>invent</td>\n",
              "      <td>invent</td>\n",
              "    </tr>\n",
              "    <tr>\n",
              "      <th>27</th>\n",
              "      <td>,</td>\n",
              "      <td>O</td>\n",
              "      <td>,</td>\n",
              "      <td>,</td>\n",
              "      <td>,</td>\n",
              "      <td>,</td>\n",
              "    </tr>\n",
              "    <tr>\n",
              "      <th>28</th>\n",
              "      <td>and</td>\n",
              "      <td>O</td>\n",
              "      <td>and</td>\n",
              "      <td>CC</td>\n",
              "      <td>and</td>\n",
              "      <td>and</td>\n",
              "    </tr>\n",
              "    <tr>\n",
              "      <th>29</th>\n",
              "      <td>before</td>\n",
              "      <td>O</td>\n",
              "      <td>before</td>\n",
              "      <td>IN</td>\n",
              "      <td>before</td>\n",
              "      <td>befor</td>\n",
              "    </tr>\n",
              "    <tr>\n",
              "      <th>30</th>\n",
              "      <td>any</td>\n",
              "      <td>O</td>\n",
              "      <td>any</td>\n",
              "      <td>DT</td>\n",
              "      <td>any</td>\n",
              "      <td>ani</td>\n",
              "    </tr>\n",
              "    <tr>\n",
              "      <th>31</th>\n",
              "      <td>means</td>\n",
              "      <td>O</td>\n",
              "      <td>means</td>\n",
              "      <td>NNS</td>\n",
              "      <td>mean</td>\n",
              "      <td>mean</td>\n",
              "    </tr>\n",
              "    <tr>\n",
              "      <th>32</th>\n",
              "      <td>of</td>\n",
              "      <td>O</td>\n",
              "      <td>of</td>\n",
              "      <td>IN</td>\n",
              "      <td>of</td>\n",
              "      <td>of</td>\n",
              "    </tr>\n",
              "    <tr>\n",
              "      <th>33</th>\n",
              "      <td>space</td>\n",
              "      <td>O</td>\n",
              "      <td>space</td>\n",
              "      <td>NN</td>\n",
              "      <td>space</td>\n",
              "      <td>space</td>\n",
              "    </tr>\n",
              "    <tr>\n",
              "      <th>34</th>\n",
              "      <td>travel</td>\n",
              "      <td>O</td>\n",
              "      <td>travel</td>\n",
              "      <td>NN</td>\n",
              "      <td>travel</td>\n",
              "      <td>travel</td>\n",
              "    </tr>\n",
              "    <tr>\n",
              "      <th>35</th>\n",
              "      <td>had</td>\n",
              "      <td>O</td>\n",
              "      <td>had</td>\n",
              "      <td>VBD</td>\n",
              "      <td>have</td>\n",
              "      <td>had</td>\n",
              "    </tr>\n",
              "    <tr>\n",
              "      <th>36</th>\n",
              "      <td>been</td>\n",
              "      <td>O</td>\n",
              "      <td>been</td>\n",
              "      <td>VBN</td>\n",
              "      <td>be</td>\n",
              "      <td>been</td>\n",
              "    </tr>\n",
              "    <tr>\n",
              "      <th>37</th>\n",
              "      <td>devised</td>\n",
              "      <td>O</td>\n",
              "      <td>devised</td>\n",
              "      <td>VBN</td>\n",
              "      <td>devise</td>\n",
              "      <td>devis</td>\n",
              "    </tr>\n",
              "    <tr>\n",
              "      <th>38</th>\n",
              "      <td>.</td>\n",
              "      <td>O</td>\n",
              "      <td>.</td>\n",
              "      <td>.</td>\n",
              "      <td>.</td>\n",
              "      <td>.</td>\n",
              "    </tr>\n",
              "  </tbody>\n",
              "</table>\n",
              "</div>"
            ],
            "text/plain": [
              "              token ner_label spell_corrected  POS           lemma         stem\n",
              "0            French    B-MISC          French   JJ          French       french\n",
              "1            author         O          author   NN          author       author\n",
              "2               who         O             who   WP             who          who\n",
              "3            helped         O          helped  VBD            help         help\n",
              "4            pioner         O         pioneer   NN         pioneer      pioneer\n",
              "5               the         O             the   DT             the          the\n",
              "6   science-fiction         O  sciencefiction   NN  sciencefiction  sciencefict\n",
              "7             genre         O           genre   NN           genre         genr\n",
              "8                 .         O               .    .               .            .\n",
              "9             Verne     B-PER           Verne  NNP           Verne         vern\n",
              "10            wrate         O           wrote  VBD           write        wrote\n",
              "11            about         O           about   IN           about        about\n",
              "12            space         O           space   NN           space        space\n",
              "13                ,         O               ,    ,               ,            ,\n",
              "14              air         O             air   NN             air          air\n",
              "15                ,         O               ,    ,               ,            ,\n",
              "16              and         O             and   CC             and          and\n",
              "17       underwater         O      underwater   JJ      underwater     underwat\n",
              "18           travel         O          travel   NN          travel       travel\n",
              "19           before         O          before   IN          before        befor\n",
              "20        navigable         O       navigable   JJ       navigable        navig\n",
              "21         aircrast         O        aircraft   NN        aircraft     aircraft\n",
              "22              and         O             and   CC             and          and\n",
              "23        practical         O       practical   JJ       practical      practic\n",
              "24       submarines         O      submarines  NNS       submarine     submarin\n",
              "25             were         O            were  VBD              be         were\n",
              "26         invented         O        invented  VBN          invent       invent\n",
              "27                ,         O               ,    ,               ,            ,\n",
              "28              and         O             and   CC             and          and\n",
              "29           before         O          before   IN          before        befor\n",
              "30              any         O             any   DT             any          ani\n",
              "31            means         O           means  NNS            mean         mean\n",
              "32               of         O              of   IN              of           of\n",
              "33            space         O           space   NN           space        space\n",
              "34           travel         O          travel   NN          travel       travel\n",
              "35              had         O             had  VBD            have          had\n",
              "36             been         O            been  VBN              be         been\n",
              "37          devised         O         devised  VBN          devise        devis\n",
              "38                .         O               .    .               .            ."
            ]
          },
          "metadata": {
            "tags": []
          },
          "execution_count": 19
        }
      ]
    },
    {
      "cell_type": "markdown",
      "metadata": {
        "id": "S7wmMZPXJhoJ",
        "colab_type": "text"
      },
      "source": [
        "## Spell Checking"
      ]
    },
    {
      "cell_type": "code",
      "metadata": {
        "id": "gZ69y26MIw09",
        "colab_type": "code",
        "outputId": "39382813-0997-41f3-b9ab-d447a62f79ae",
        "colab": {
          "base_uri": "https://localhost:8080/",
          "height": 68
        }
      },
      "source": [
        "spell_checker = PretrainedPipeline('check_spelling', 'en')"
      ],
      "execution_count": 0,
      "outputs": [
        {
          "output_type": "stream",
          "text": [
            "check_spelling download started this may take some time.\n",
            "Approx size to download 892.6 KB\n",
            "[OK!]\n"
          ],
          "name": "stdout"
        }
      ]
    },
    {
      "cell_type": "code",
      "metadata": {
        "id": "pO9RziOtJzEr",
        "colab_type": "code",
        "colab": {}
      },
      "source": [
        "result = spell_checker.annotate(testDoc)"
      ],
      "execution_count": 0,
      "outputs": []
    },
    {
      "cell_type": "code",
      "metadata": {
        "id": "GK-ElyC1J72H",
        "colab_type": "code",
        "outputId": "ca0ddc50-6d3b-40bd-b59c-b5350c88819b",
        "colab": {
          "base_uri": "https://localhost:8080/",
          "height": 34
        }
      },
      "source": [
        "result.keys()"
      ],
      "execution_count": 0,
      "outputs": [
        {
          "output_type": "execute_result",
          "data": {
            "text/plain": [
              "dict_keys(['document', 'sentence', 'token', 'checked'])"
            ]
          },
          "metadata": {
            "tags": []
          },
          "execution_count": 22
        }
      ]
    },
    {
      "cell_type": "code",
      "metadata": {
        "id": "iCQwRbO_J-Cx",
        "colab_type": "code",
        "outputId": "0d751ad2-c082-4223-e899-4ef722e45ed7",
        "colab": {
          "base_uri": "https://localhost:8080/",
          "height": 680
        }
      },
      "source": [
        "list(zip(result['token'], result['checked']))"
      ],
      "execution_count": 0,
      "outputs": [
        {
          "output_type": "execute_result",
          "data": {
            "text/plain": [
              "[('French', 'French'),\n",
              " ('author', 'author'),\n",
              " ('who', 'who'),\n",
              " ('helped', 'helped'),\n",
              " ('pioner', 'pioneer'),\n",
              " ('the', 'the'),\n",
              " ('science-fiction', 'science-fiction'),\n",
              " ('genre', 'genre'),\n",
              " ('.', '.'),\n",
              " ('Verne', 'Vern'),\n",
              " ('wrate', 'wrote'),\n",
              " ('about', 'about'),\n",
              " ('space', 'space'),\n",
              " (',', ','),\n",
              " ('air', 'air'),\n",
              " (',', ','),\n",
              " ('and', 'and'),\n",
              " ('underwater', 'underwater'),\n",
              " ('travel', 'travel'),\n",
              " ('before', 'before'),\n",
              " ('navigable', 'navigable'),\n",
              " ('aircrast', 'aircraft'),\n",
              " ('and', 'and'),\n",
              " ('practical', 'practical'),\n",
              " ('submarines', 'submarines'),\n",
              " ('were', 'were'),\n",
              " ('invented', 'invented'),\n",
              " (',', ','),\n",
              " ('and', 'and'),\n",
              " ('before', 'before'),\n",
              " ('any', 'any'),\n",
              " ('means', 'means'),\n",
              " ('of', 'of'),\n",
              " ('space', 'space'),\n",
              " ('travel', 'travel'),\n",
              " ('had', 'had'),\n",
              " ('been', 'been'),\n",
              " ('devised', 'devised'),\n",
              " ('.', '.')]"
            ]
          },
          "metadata": {
            "tags": []
          },
          "execution_count": 23
        }
      ]
    },
    {
      "cell_type": "markdown",
      "metadata": {
        "id": "7dSzsA1NLxuA",
        "colab_type": "text"
      },
      "source": [
        "## Parsing a list of texts"
      ]
    },
    {
      "cell_type": "code",
      "metadata": {
        "id": "llB04f6sKJgJ",
        "colab_type": "code",
        "colab": {}
      },
      "source": [
        "testDoc_list = [ 'French author who helped pioner the science-fiction genre.',\n",
        "'Verne wrate about space, air, and underwater travel before navigable aircrast',\n",
        "'Practical submarines were invented, and before any means of space travel had been devised.']"
      ],
      "execution_count": 0,
      "outputs": []
    },
    {
      "cell_type": "code",
      "metadata": {
        "id": "_elc3a2IMBUo",
        "colab_type": "code",
        "colab": {}
      },
      "source": [
        "result_list = pipeline.annotate(testDoc_list)"
      ],
      "execution_count": 0,
      "outputs": []
    },
    {
      "cell_type": "code",
      "metadata": {
        "id": "MOOf0cpCMH2O",
        "colab_type": "code",
        "outputId": "7862939d-876d-40f2-d80a-e2a89c267bcb",
        "colab": {
          "base_uri": "https://localhost:8080/",
          "height": 34
        }
      },
      "source": [
        "len(result_list)"
      ],
      "execution_count": 0,
      "outputs": [
        {
          "output_type": "execute_result",
          "data": {
            "text/plain": [
              "3"
            ]
          },
          "metadata": {
            "tags": []
          },
          "execution_count": 26
        }
      ]
    },
    {
      "cell_type": "code",
      "metadata": {
        "id": "xIzqwkmNMJgY",
        "colab_type": "code",
        "outputId": "61cac004-8dcc-4298-b1ec-f21c24c2f45e",
        "colab": {
          "base_uri": "https://localhost:8080/",
          "height": 680
        }
      },
      "source": [
        "result_list[0]"
      ],
      "execution_count": 0,
      "outputs": [
        {
          "output_type": "execute_result",
          "data": {
            "text/plain": [
              "{'document': ['French author who helped pioner the science-fiction genre.'],\n",
              " 'lemmas': ['French',\n",
              "  'author',\n",
              "  'who',\n",
              "  'help',\n",
              "  'pioneer',\n",
              "  'the',\n",
              "  'sciencefiction',\n",
              "  'genre',\n",
              "  '.'],\n",
              " 'pos': ['JJ', 'NN', 'WP', 'VBD', 'NN', 'DT', 'NN', 'NN', '.'],\n",
              " 'sentence': ['French author who helped pioner the science-fiction genre.'],\n",
              " 'spell': ['French',\n",
              "  'author',\n",
              "  'who',\n",
              "  'helped',\n",
              "  'pioneer',\n",
              "  'the',\n",
              "  'sciencefiction',\n",
              "  'genre',\n",
              "  '.'],\n",
              " 'stems': ['french',\n",
              "  'author',\n",
              "  'who',\n",
              "  'help',\n",
              "  'pioneer',\n",
              "  'the',\n",
              "  'sciencefict',\n",
              "  'genr',\n",
              "  '.'],\n",
              " 'token': ['French',\n",
              "  'author',\n",
              "  'who',\n",
              "  'helped',\n",
              "  'pioner',\n",
              "  'the',\n",
              "  'science-fiction',\n",
              "  'genre',\n",
              "  '.']}"
            ]
          },
          "metadata": {
            "tags": []
          },
          "execution_count": 27
        }
      ]
    },
    {
      "cell_type": "markdown",
      "metadata": {
        "id": "ebIt_w6FNJ7N",
        "colab_type": "text"
      },
      "source": [
        "## Using fullAnnotate to get more details"
      ]
    },
    {
      "cell_type": "code",
      "metadata": {
        "id": "Uhx4qjKxMoH9",
        "colab_type": "code",
        "colab": {}
      },
      "source": [
        "text = 'Peter Parker is a nice guy and lives in New York'"
      ],
      "execution_count": 0,
      "outputs": []
    },
    {
      "cell_type": "code",
      "metadata": {
        "id": "AoC3XG-0NX0s",
        "colab_type": "code",
        "colab": {}
      },
      "source": [
        "detailed_result = pipeline_dl.fullAnnotate(text)"
      ],
      "execution_count": 0,
      "outputs": []
    },
    {
      "cell_type": "code",
      "metadata": {
        "id": "EcYv6-3wNdwK",
        "colab_type": "code",
        "outputId": "9e03986d-33c2-487f-f95e-0868f642d976",
        "colab": {
          "base_uri": "https://localhost:8080/",
          "height": 1000
        }
      },
      "source": [
        "detailed_result"
      ],
      "execution_count": 0,
      "outputs": [
        {
          "output_type": "execute_result",
          "data": {
            "text/plain": [
              "[{'checked': [Annotation(token, 0, 4, Peter, {'confidence': '1.0', 'sentence': '0'}),\n",
              "   Annotation(token, 6, 11, Parker, {'confidence': '1.0', 'sentence': '0'}),\n",
              "   Annotation(token, 13, 14, is, {'confidence': '1.0', 'sentence': '0'}),\n",
              "   Annotation(token, 16, 16, a, {'confidence': '1.0', 'sentence': '0'}),\n",
              "   Annotation(token, 18, 21, nice, {'confidence': '1.0', 'sentence': '0'}),\n",
              "   Annotation(token, 23, 25, guy, {'confidence': '1.0', 'sentence': '0'}),\n",
              "   Annotation(token, 27, 29, and, {'confidence': '1.0', 'sentence': '0'}),\n",
              "   Annotation(token, 31, 35, lives, {'confidence': '1.0', 'sentence': '0'}),\n",
              "   Annotation(token, 37, 38, in, {'confidence': '1.0', 'sentence': '0'}),\n",
              "   Annotation(token, 40, 42, New, {'confidence': '1.0', 'sentence': '0'}),\n",
              "   Annotation(token, 44, 47, York, {'confidence': '1.0', 'sentence': '0'})],\n",
              "  'document': [Annotation(document, 0, 47, Peter Parker is a nice guy and lives in New York, {})],\n",
              "  'embeddings': [Annotation(word_embeddings, 0, 4, Peter, {'isOOV': 'false', 'pieceId': '-1', 'isWordStart': 'true', 'token': 'Peter', 'sentence': '0'}),\n",
              "   Annotation(word_embeddings, 6, 11, Parker, {'isOOV': 'false', 'pieceId': '-1', 'isWordStart': 'true', 'token': 'Parker', 'sentence': '0'}),\n",
              "   Annotation(word_embeddings, 13, 14, is, {'isOOV': 'false', 'pieceId': '-1', 'isWordStart': 'true', 'token': 'is', 'sentence': '0'}),\n",
              "   Annotation(word_embeddings, 16, 16, a, {'isOOV': 'false', 'pieceId': '-1', 'isWordStart': 'true', 'token': 'a', 'sentence': '0'}),\n",
              "   Annotation(word_embeddings, 18, 21, nice, {'isOOV': 'false', 'pieceId': '-1', 'isWordStart': 'true', 'token': 'nice', 'sentence': '0'}),\n",
              "   Annotation(word_embeddings, 23, 25, guy, {'isOOV': 'false', 'pieceId': '-1', 'isWordStart': 'true', 'token': 'guy', 'sentence': '0'}),\n",
              "   Annotation(word_embeddings, 27, 29, and, {'isOOV': 'false', 'pieceId': '-1', 'isWordStart': 'true', 'token': 'and', 'sentence': '0'}),\n",
              "   Annotation(word_embeddings, 31, 35, lives, {'isOOV': 'false', 'pieceId': '-1', 'isWordStart': 'true', 'token': 'lives', 'sentence': '0'}),\n",
              "   Annotation(word_embeddings, 37, 38, in, {'isOOV': 'false', 'pieceId': '-1', 'isWordStart': 'true', 'token': 'in', 'sentence': '0'}),\n",
              "   Annotation(word_embeddings, 40, 42, New, {'isOOV': 'false', 'pieceId': '-1', 'isWordStart': 'true', 'token': 'New', 'sentence': '0'}),\n",
              "   Annotation(word_embeddings, 44, 47, York, {'isOOV': 'false', 'pieceId': '-1', 'isWordStart': 'true', 'token': 'York', 'sentence': '0'})],\n",
              "  'entities': [Annotation(chunk, 0, 11, Peter Parker, {'entity': 'PER', 'sentence': '0', 'chunk': '0'}),\n",
              "   Annotation(chunk, 40, 47, New York, {'entity': 'LOC', 'sentence': '0', 'chunk': '1'})],\n",
              "  'lemma': [Annotation(token, 0, 4, Peter, {'confidence': '1.0', 'sentence': '0'}),\n",
              "   Annotation(token, 6, 11, Parker, {'confidence': '1.0', 'sentence': '0'}),\n",
              "   Annotation(token, 13, 14, be, {'confidence': '1.0', 'sentence': '0'}),\n",
              "   Annotation(token, 16, 16, a, {'confidence': '1.0', 'sentence': '0'}),\n",
              "   Annotation(token, 18, 21, nice, {'confidence': '1.0', 'sentence': '0'}),\n",
              "   Annotation(token, 23, 25, guy, {'confidence': '1.0', 'sentence': '0'}),\n",
              "   Annotation(token, 27, 29, and, {'confidence': '1.0', 'sentence': '0'}),\n",
              "   Annotation(token, 31, 35, life, {'confidence': '1.0', 'sentence': '0'}),\n",
              "   Annotation(token, 37, 38, in, {'confidence': '1.0', 'sentence': '0'}),\n",
              "   Annotation(token, 40, 42, New, {'confidence': '1.0', 'sentence': '0'}),\n",
              "   Annotation(token, 44, 47, York, {'confidence': '1.0', 'sentence': '0'})],\n",
              "  'ner': [Annotation(named_entity, 0, 4, B-PER, {'word': 'Peter'}),\n",
              "   Annotation(named_entity, 6, 11, I-PER, {'word': 'Parker'}),\n",
              "   Annotation(named_entity, 13, 14, O, {'word': 'is'}),\n",
              "   Annotation(named_entity, 16, 16, O, {'word': 'a'}),\n",
              "   Annotation(named_entity, 18, 21, O, {'word': 'nice'}),\n",
              "   Annotation(named_entity, 23, 25, O, {'word': 'guy'}),\n",
              "   Annotation(named_entity, 27, 29, O, {'word': 'and'}),\n",
              "   Annotation(named_entity, 31, 35, O, {'word': 'lives'}),\n",
              "   Annotation(named_entity, 37, 38, O, {'word': 'in'}),\n",
              "   Annotation(named_entity, 40, 42, B-LOC, {'word': 'New'}),\n",
              "   Annotation(named_entity, 44, 47, I-LOC, {'word': 'York'})],\n",
              "  'pos': [Annotation(pos, 0, 4, NNP, {'word': 'Peter'}),\n",
              "   Annotation(pos, 6, 11, NNP, {'word': 'Parker'}),\n",
              "   Annotation(pos, 13, 14, VBZ, {'word': 'is'}),\n",
              "   Annotation(pos, 16, 16, DT, {'word': 'a'}),\n",
              "   Annotation(pos, 18, 21, JJ, {'word': 'nice'}),\n",
              "   Annotation(pos, 23, 25, NN, {'word': 'guy'}),\n",
              "   Annotation(pos, 27, 29, CC, {'word': 'and'}),\n",
              "   Annotation(pos, 31, 35, NNS, {'word': 'lives'}),\n",
              "   Annotation(pos, 37, 38, IN, {'word': 'in'}),\n",
              "   Annotation(pos, 40, 42, NNP, {'word': 'New'}),\n",
              "   Annotation(pos, 44, 47, NNP, {'word': 'York'})],\n",
              "  'sentence': [Annotation(document, 0, 47, Peter Parker is a nice guy and lives in New York, {'sentence': '0'})],\n",
              "  'stem': [Annotation(token, 0, 4, peter, {'confidence': '1.0', 'sentence': '0'}),\n",
              "   Annotation(token, 6, 11, parker, {'confidence': '1.0', 'sentence': '0'}),\n",
              "   Annotation(token, 13, 14, i, {'confidence': '1.0', 'sentence': '0'}),\n",
              "   Annotation(token, 16, 16, a, {'confidence': '1.0', 'sentence': '0'}),\n",
              "   Annotation(token, 18, 21, nice, {'confidence': '1.0', 'sentence': '0'}),\n",
              "   Annotation(token, 23, 25, gui, {'confidence': '1.0', 'sentence': '0'}),\n",
              "   Annotation(token, 27, 29, and, {'confidence': '1.0', 'sentence': '0'}),\n",
              "   Annotation(token, 31, 35, live, {'confidence': '1.0', 'sentence': '0'}),\n",
              "   Annotation(token, 37, 38, in, {'confidence': '1.0', 'sentence': '0'}),\n",
              "   Annotation(token, 40, 42, new, {'confidence': '1.0', 'sentence': '0'}),\n",
              "   Annotation(token, 44, 47, york, {'confidence': '1.0', 'sentence': '0'})],\n",
              "  'token': [Annotation(token, 0, 4, Peter, {'sentence': '0'}),\n",
              "   Annotation(token, 6, 11, Parker, {'sentence': '0'}),\n",
              "   Annotation(token, 13, 14, is, {'sentence': '0'}),\n",
              "   Annotation(token, 16, 16, a, {'sentence': '0'}),\n",
              "   Annotation(token, 18, 21, nice, {'sentence': '0'}),\n",
              "   Annotation(token, 23, 25, guy, {'sentence': '0'}),\n",
              "   Annotation(token, 27, 29, and, {'sentence': '0'}),\n",
              "   Annotation(token, 31, 35, lives, {'sentence': '0'}),\n",
              "   Annotation(token, 37, 38, in, {'sentence': '0'}),\n",
              "   Annotation(token, 40, 42, New, {'sentence': '0'}),\n",
              "   Annotation(token, 44, 47, York, {'sentence': '0'})]}]"
            ]
          },
          "metadata": {
            "tags": []
          },
          "execution_count": 30
        }
      ]
    },
    {
      "cell_type": "code",
      "metadata": {
        "id": "SMFP_3y4NfJS",
        "colab_type": "code",
        "outputId": "d544b1d4-0677-4da3-a65d-4b6c414c3528",
        "colab": {
          "base_uri": "https://localhost:8080/",
          "height": 51
        }
      },
      "source": [
        "detailed_result[0]['entities']"
      ],
      "execution_count": 0,
      "outputs": [
        {
          "output_type": "execute_result",
          "data": {
            "text/plain": [
              "[Annotation(chunk, 0, 11, Peter Parker, {'entity': 'PER', 'sentence': '0', 'chunk': '0'}),\n",
              " Annotation(chunk, 40, 47, New York, {'entity': 'LOC', 'sentence': '0', 'chunk': '1'})]"
            ]
          },
          "metadata": {
            "tags": []
          },
          "execution_count": 31
        }
      ]
    },
    {
      "cell_type": "code",
      "metadata": {
        "id": "cQZu_E43VRPS",
        "colab_type": "code",
        "outputId": "40b5b843-651e-48f9-d5ed-5e6e7b949e60",
        "colab": {
          "base_uri": "https://localhost:8080/",
          "height": 34
        }
      },
      "source": [
        "detailed_result[0]['entities'][0]"
      ],
      "execution_count": 0,
      "outputs": [
        {
          "output_type": "execute_result",
          "data": {
            "text/plain": [
              "Annotation(chunk, 0, 11, Peter Parker, {'entity': 'PER', 'sentence': '0', 'chunk': '0'})"
            ]
          },
          "metadata": {
            "tags": []
          },
          "execution_count": 32
        }
      ]
    },
    {
      "cell_type": "code",
      "metadata": {
        "id": "IvtsAdOdVS-u",
        "colab_type": "code",
        "outputId": "8d073426-0078-4120-e362-6e5029d8a2cd",
        "colab": {
          "base_uri": "https://localhost:8080/",
          "height": 34
        }
      },
      "source": [
        "# To reach the value we use .result method\n",
        "detailed_result[0]['entities'][0].result"
      ],
      "execution_count": 0,
      "outputs": [
        {
          "output_type": "execute_result",
          "data": {
            "text/plain": [
              "'Peter Parker'"
            ]
          },
          "metadata": {
            "tags": []
          },
          "execution_count": 33
        }
      ]
    },
    {
      "cell_type": "code",
      "metadata": {
        "id": "v4K2R0WHVVOc",
        "colab_type": "code",
        "outputId": "6720dbdb-30cb-42f0-828a-8312c8e04e8e",
        "colab": {
          "base_uri": "https://localhost:8080/",
          "height": 34
        }
      },
      "source": [
        "detailed_result[0]['entities'][0].metadata['entity']"
      ],
      "execution_count": 0,
      "outputs": [
        {
          "output_type": "execute_result",
          "data": {
            "text/plain": [
              "'PER'"
            ]
          },
          "metadata": {
            "tags": []
          },
          "execution_count": 34
        }
      ]
    },
    {
      "cell_type": "code",
      "metadata": {
        "id": "sx5X3YybN9UW",
        "colab_type": "code",
        "colab": {}
      },
      "source": [
        "chunks = []\n",
        "entities = []\n",
        "\n",
        "for n in detailed_result[0]['entities']:\n",
        "    chunks.append(n.result)\n",
        "    entities.append(n.metadata['entity'])\n",
        "\n",
        "df = pd.DataFrame({'chunks':chunks, 'entities':entities})"
      ],
      "execution_count": 0,
      "outputs": []
    },
    {
      "cell_type": "code",
      "metadata": {
        "id": "1jPvNZkpRnph",
        "colab_type": "code",
        "outputId": "ecf06e49-9239-4da4-a02b-01b4b05f001f",
        "colab": {
          "base_uri": "https://localhost:8080/",
          "height": 390
        }
      },
      "source": [
        "df"
      ],
      "execution_count": 0,
      "outputs": [
        {
          "output_type": "execute_result",
          "data": {
            "text/html": [
              "<div>\n",
              "<style scoped>\n",
              "    .dataframe tbody tr th:only-of-type {\n",
              "        vertical-align: middle;\n",
              "    }\n",
              "\n",
              "    .dataframe tbody tr th {\n",
              "        vertical-align: top;\n",
              "    }\n",
              "\n",
              "    .dataframe thead th {\n",
              "        text-align: right;\n",
              "    }\n",
              "</style>\n",
              "<table border=\"1\" class=\"dataframe\">\n",
              "  <thead>\n",
              "    <tr style=\"text-align: right;\">\n",
              "      <th></th>\n",
              "      <th>sent_id</th>\n",
              "      <th>token</th>\n",
              "      <th>start</th>\n",
              "      <th>end</th>\n",
              "      <th>pos</th>\n",
              "      <th>ner</th>\n",
              "    </tr>\n",
              "  </thead>\n",
              "  <tbody>\n",
              "    <tr>\n",
              "      <th>0</th>\n",
              "      <td>0</td>\n",
              "      <td>Peter</td>\n",
              "      <td>0</td>\n",
              "      <td>4</td>\n",
              "      <td>NNP</td>\n",
              "      <td>B-PER</td>\n",
              "    </tr>\n",
              "    <tr>\n",
              "      <th>1</th>\n",
              "      <td>0</td>\n",
              "      <td>Parker</td>\n",
              "      <td>6</td>\n",
              "      <td>11</td>\n",
              "      <td>NNP</td>\n",
              "      <td>I-PER</td>\n",
              "    </tr>\n",
              "    <tr>\n",
              "      <th>2</th>\n",
              "      <td>0</td>\n",
              "      <td>is</td>\n",
              "      <td>13</td>\n",
              "      <td>14</td>\n",
              "      <td>VBZ</td>\n",
              "      <td>O</td>\n",
              "    </tr>\n",
              "    <tr>\n",
              "      <th>3</th>\n",
              "      <td>0</td>\n",
              "      <td>a</td>\n",
              "      <td>16</td>\n",
              "      <td>16</td>\n",
              "      <td>DT</td>\n",
              "      <td>O</td>\n",
              "    </tr>\n",
              "    <tr>\n",
              "      <th>4</th>\n",
              "      <td>0</td>\n",
              "      <td>nice</td>\n",
              "      <td>18</td>\n",
              "      <td>21</td>\n",
              "      <td>JJ</td>\n",
              "      <td>O</td>\n",
              "    </tr>\n",
              "    <tr>\n",
              "      <th>5</th>\n",
              "      <td>0</td>\n",
              "      <td>guy</td>\n",
              "      <td>23</td>\n",
              "      <td>25</td>\n",
              "      <td>NN</td>\n",
              "      <td>O</td>\n",
              "    </tr>\n",
              "    <tr>\n",
              "      <th>6</th>\n",
              "      <td>0</td>\n",
              "      <td>and</td>\n",
              "      <td>27</td>\n",
              "      <td>29</td>\n",
              "      <td>CC</td>\n",
              "      <td>O</td>\n",
              "    </tr>\n",
              "    <tr>\n",
              "      <th>7</th>\n",
              "      <td>0</td>\n",
              "      <td>lives</td>\n",
              "      <td>31</td>\n",
              "      <td>35</td>\n",
              "      <td>NNS</td>\n",
              "      <td>O</td>\n",
              "    </tr>\n",
              "    <tr>\n",
              "      <th>8</th>\n",
              "      <td>0</td>\n",
              "      <td>in</td>\n",
              "      <td>37</td>\n",
              "      <td>38</td>\n",
              "      <td>IN</td>\n",
              "      <td>O</td>\n",
              "    </tr>\n",
              "    <tr>\n",
              "      <th>9</th>\n",
              "      <td>0</td>\n",
              "      <td>New</td>\n",
              "      <td>40</td>\n",
              "      <td>42</td>\n",
              "      <td>NNP</td>\n",
              "      <td>B-LOC</td>\n",
              "    </tr>\n",
              "    <tr>\n",
              "      <th>10</th>\n",
              "      <td>0</td>\n",
              "      <td>York</td>\n",
              "      <td>44</td>\n",
              "      <td>47</td>\n",
              "      <td>NNP</td>\n",
              "      <td>I-LOC</td>\n",
              "    </tr>\n",
              "  </tbody>\n",
              "</table>\n",
              "</div>"
            ],
            "text/plain": [
              "    sent_id   token  start  end  pos    ner\n",
              "0         0   Peter      0    4  NNP  B-PER\n",
              "1         0  Parker      6   11  NNP  I-PER\n",
              "2         0      is     13   14  VBZ      O\n",
              "3         0       a     16   16   DT      O\n",
              "4         0    nice     18   21   JJ      O\n",
              "5         0     guy     23   25   NN      O\n",
              "6         0     and     27   29   CC      O\n",
              "7         0   lives     31   35  NNS      O\n",
              "8         0      in     37   38   IN      O\n",
              "9         0     New     40   42  NNP  B-LOC\n",
              "10        0    York     44   47  NNP  I-LOC"
            ]
          },
          "metadata": {
            "tags": []
          },
          "execution_count": 37
        }
      ]
    },
    {
      "cell_type": "code",
      "metadata": {
        "id": "EG6IEJr6Ulno",
        "colab_type": "code",
        "outputId": "05b43dcc-5246-43b5-896c-1e3cdb4aeb8a",
        "colab": {
          "base_uri": "https://localhost:8080/",
          "height": 390
        }
      },
      "source": [
        "tuples = []\n",
        "\n",
        "for x, y, z in zip(detailed_result[0][\"token\"], detailed_result[0]['pos'], detailed_result[0]['ner']):\n",
        "    tuples.append((int(x.metadata['sentence']), x.result, x.begin, x.end, y.result, z.result))\n",
        "\n",
        "df = pd.DataFrame(tuples, columns=['sent_id', 'token', 'start', 'end', 'pos', 'ner'])\n",
        "df"
      ],
      "execution_count": 0,
      "outputs": [
        {
          "output_type": "execute_result",
          "data": {
            "text/html": [
              "<div>\n",
              "<style scoped>\n",
              "    .dataframe tbody tr th:only-of-type {\n",
              "        vertical-align: middle;\n",
              "    }\n",
              "\n",
              "    .dataframe tbody tr th {\n",
              "        vertical-align: top;\n",
              "    }\n",
              "\n",
              "    .dataframe thead th {\n",
              "        text-align: right;\n",
              "    }\n",
              "</style>\n",
              "<table border=\"1\" class=\"dataframe\">\n",
              "  <thead>\n",
              "    <tr style=\"text-align: right;\">\n",
              "      <th></th>\n",
              "      <th>sent_id</th>\n",
              "      <th>token</th>\n",
              "      <th>start</th>\n",
              "      <th>end</th>\n",
              "      <th>pos</th>\n",
              "      <th>ner</th>\n",
              "    </tr>\n",
              "  </thead>\n",
              "  <tbody>\n",
              "    <tr>\n",
              "      <th>0</th>\n",
              "      <td>0</td>\n",
              "      <td>Peter</td>\n",
              "      <td>0</td>\n",
              "      <td>4</td>\n",
              "      <td>NNP</td>\n",
              "      <td>B-PER</td>\n",
              "    </tr>\n",
              "    <tr>\n",
              "      <th>1</th>\n",
              "      <td>0</td>\n",
              "      <td>Parker</td>\n",
              "      <td>6</td>\n",
              "      <td>11</td>\n",
              "      <td>NNP</td>\n",
              "      <td>I-PER</td>\n",
              "    </tr>\n",
              "    <tr>\n",
              "      <th>2</th>\n",
              "      <td>0</td>\n",
              "      <td>is</td>\n",
              "      <td>13</td>\n",
              "      <td>14</td>\n",
              "      <td>VBZ</td>\n",
              "      <td>O</td>\n",
              "    </tr>\n",
              "    <tr>\n",
              "      <th>3</th>\n",
              "      <td>0</td>\n",
              "      <td>a</td>\n",
              "      <td>16</td>\n",
              "      <td>16</td>\n",
              "      <td>DT</td>\n",
              "      <td>O</td>\n",
              "    </tr>\n",
              "    <tr>\n",
              "      <th>4</th>\n",
              "      <td>0</td>\n",
              "      <td>nice</td>\n",
              "      <td>18</td>\n",
              "      <td>21</td>\n",
              "      <td>JJ</td>\n",
              "      <td>O</td>\n",
              "    </tr>\n",
              "    <tr>\n",
              "      <th>5</th>\n",
              "      <td>0</td>\n",
              "      <td>guy</td>\n",
              "      <td>23</td>\n",
              "      <td>25</td>\n",
              "      <td>NN</td>\n",
              "      <td>O</td>\n",
              "    </tr>\n",
              "    <tr>\n",
              "      <th>6</th>\n",
              "      <td>0</td>\n",
              "      <td>and</td>\n",
              "      <td>27</td>\n",
              "      <td>29</td>\n",
              "      <td>CC</td>\n",
              "      <td>O</td>\n",
              "    </tr>\n",
              "    <tr>\n",
              "      <th>7</th>\n",
              "      <td>0</td>\n",
              "      <td>lives</td>\n",
              "      <td>31</td>\n",
              "      <td>35</td>\n",
              "      <td>NNS</td>\n",
              "      <td>O</td>\n",
              "    </tr>\n",
              "    <tr>\n",
              "      <th>8</th>\n",
              "      <td>0</td>\n",
              "      <td>in</td>\n",
              "      <td>37</td>\n",
              "      <td>38</td>\n",
              "      <td>IN</td>\n",
              "      <td>O</td>\n",
              "    </tr>\n",
              "    <tr>\n",
              "      <th>9</th>\n",
              "      <td>0</td>\n",
              "      <td>New</td>\n",
              "      <td>40</td>\n",
              "      <td>42</td>\n",
              "      <td>NNP</td>\n",
              "      <td>B-LOC</td>\n",
              "    </tr>\n",
              "    <tr>\n",
              "      <th>10</th>\n",
              "      <td>0</td>\n",
              "      <td>York</td>\n",
              "      <td>44</td>\n",
              "      <td>47</td>\n",
              "      <td>NNP</td>\n",
              "      <td>I-LOC</td>\n",
              "    </tr>\n",
              "  </tbody>\n",
              "</table>\n",
              "</div>"
            ],
            "text/plain": [
              "    sent_id   token  start  end  pos    ner\n",
              "0         0   Peter      0    4  NNP  B-PER\n",
              "1         0  Parker      6   11  NNP  I-PER\n",
              "2         0      is     13   14  VBZ      O\n",
              "3         0       a     16   16   DT      O\n",
              "4         0    nice     18   21   JJ      O\n",
              "5         0     guy     23   25   NN      O\n",
              "6         0     and     27   29   CC      O\n",
              "7         0   lives     31   35  NNS      O\n",
              "8         0      in     37   38   IN      O\n",
              "9         0     New     40   42  NNP  B-LOC\n",
              "10        0    York     44   47  NNP  I-LOC"
            ]
          },
          "metadata": {
            "tags": []
          },
          "execution_count": 36
        }
      ]
    },
    {
      "cell_type": "markdown",
      "metadata": {
        "id": "Oc-Bo9r5XGLt",
        "colab_type": "text"
      },
      "source": [
        "## Use Pretrained **match_chunk** Pipeline for individual Noun Phrase"
      ]
    },
    {
      "cell_type": "markdown",
      "metadata": {
        "id": "8Szw_bvlX-5-",
        "colab_type": "text"
      },
      "source": [
        "pipeline uses the regex pattern of `<DT>?<JJ>*<NN>+` (yani determinat (DT) etiher the or a might occur, one or more adjective (JJ) and noun (NN) "
      ]
    },
    {
      "cell_type": "code",
      "metadata": {
        "id": "yGlYgC-cV0jq",
        "colab_type": "code",
        "outputId": "03677f0b-c744-4c99-bb54-7dd1ec29661f",
        "colab": {
          "base_uri": "https://localhost:8080/",
          "height": 68
        }
      },
      "source": [
        "pipeline = PretrainedPipeline('match_chunks', 'en')\n"
      ],
      "execution_count": 0,
      "outputs": [
        {
          "output_type": "stream",
          "text": [
            "match_chunks download started this may take some time.\n",
            "Approx size to download 4.3 MB\n",
            "[OK!]\n"
          ],
          "name": "stdout"
        }
      ]
    },
    {
      "cell_type": "code",
      "metadata": {
        "id": "ppFrKptDYder",
        "colab_type": "code",
        "colab": {}
      },
      "source": [
        "result = pipeline.annotate('The book has many chapters. The red car seems awesome')"
      ],
      "execution_count": 0,
      "outputs": []
    },
    {
      "cell_type": "code",
      "metadata": {
        "id": "n0JhdIe4Ypy4",
        "colab_type": "code",
        "outputId": "61e1b374-2fa9-4258-c78c-9f4ba920759c",
        "colab": {
          "base_uri": "https://localhost:8080/",
          "height": 272
        }
      },
      "source": [
        "result"
      ],
      "execution_count": 0,
      "outputs": [
        {
          "output_type": "execute_result",
          "data": {
            "text/plain": [
              "{'chunk': ['The book', 'The red car'],\n",
              " 'document': ['The book has many chapters. The red car seems awesome'],\n",
              " 'pos': ['DT', 'NN', 'VBZ', 'JJ', 'NNS', '.', 'DT', 'JJ', 'NN', 'VBZ', 'JJ'],\n",
              " 'sentence': ['The book has many chapters.', 'The red car seems awesome'],\n",
              " 'token': ['The',\n",
              "  'book',\n",
              "  'has',\n",
              "  'many',\n",
              "  'chapters',\n",
              "  '.',\n",
              "  'The',\n",
              "  'red',\n",
              "  'car',\n",
              "  'seems',\n",
              "  'awesome']}"
            ]
          },
          "metadata": {
            "tags": []
          },
          "execution_count": 56
        }
      ]
    },
    {
      "cell_type": "code",
      "metadata": {
        "id": "Lh2dsVQCYrLs",
        "colab_type": "code",
        "colab": {}
      },
      "source": [
        "result = pipeline.annotate('the little brown pitty bird was trying to fly and the green dog was barking at it')"
      ],
      "execution_count": 0,
      "outputs": []
    },
    {
      "cell_type": "code",
      "metadata": {
        "id": "L4DtJiEkZHI0",
        "colab_type": "code",
        "outputId": "b216a7cb-2e53-481a-dc51-d2df86d3ad3a",
        "colab": {
          "base_uri": "https://localhost:8080/",
          "height": 646
        }
      },
      "source": [
        "result"
      ],
      "execution_count": 0,
      "outputs": [
        {
          "output_type": "execute_result",
          "data": {
            "text/plain": [
              "{'chunk': ['the little brown pitty bird', 'the green dog'],\n",
              " 'document': ['the little brown pitty bird was trying to fly and the green dog was barking at it'],\n",
              " 'pos': ['DT',\n",
              "  'JJ',\n",
              "  'JJ',\n",
              "  'NN',\n",
              "  'NN',\n",
              "  'VBD',\n",
              "  'VBG',\n",
              "  'TO',\n",
              "  'VB',\n",
              "  'CC',\n",
              "  'DT',\n",
              "  'JJ',\n",
              "  'NN',\n",
              "  'VBD',\n",
              "  'VBG',\n",
              "  'IN',\n",
              "  'PRP'],\n",
              " 'sentence': ['the little brown pitty bird was trying to fly and the green dog was barking at it'],\n",
              " 'token': ['the',\n",
              "  'little',\n",
              "  'brown',\n",
              "  'pitty',\n",
              "  'bird',\n",
              "  'was',\n",
              "  'trying',\n",
              "  'to',\n",
              "  'fly',\n",
              "  'and',\n",
              "  'the',\n",
              "  'green',\n",
              "  'dog',\n",
              "  'was',\n",
              "  'barking',\n",
              "  'at',\n",
              "  'it']}"
            ]
          },
          "metadata": {
            "tags": []
          },
          "execution_count": 58
        }
      ]
    },
    {
      "cell_type": "code",
      "metadata": {
        "id": "Fig-Ge0IZIC0",
        "colab_type": "code",
        "outputId": "d3e0c31d-02f0-4b7d-da2c-45dcd1a4e672",
        "colab": {
          "base_uri": "https://localhost:8080/",
          "height": 34
        }
      },
      "source": [
        "result['chunk']"
      ],
      "execution_count": 0,
      "outputs": [
        {
          "output_type": "execute_result",
          "data": {
            "text/plain": [
              "['the little brown pitty bird']"
            ]
          },
          "metadata": {
            "tags": []
          },
          "execution_count": 43
        }
      ]
    },
    {
      "cell_type": "markdown",
      "metadata": {
        "id": "jR7t6vtxllzV",
        "colab_type": "text"
      },
      "source": [
        "## Extract Exact Dates afrom Referential Date Phrahes"
      ]
    },
    {
      "cell_type": "code",
      "metadata": {
        "id": "yiYerG35ZPkk",
        "colab_type": "code",
        "outputId": "614b28e2-61c2-4b8b-a077-9c1ef0a23278",
        "colab": {
          "base_uri": "https://localhost:8080/",
          "height": 68
        }
      },
      "source": [
        "pipeline = PretrainedPipeline('match_datetime', 'en')"
      ],
      "execution_count": 0,
      "outputs": [
        {
          "output_type": "stream",
          "text": [
            "match_datetime download started this may take some time.\n",
            "Approx size to download 12.9 KB\n",
            "[OK!]\n"
          ],
          "name": "stdout"
        }
      ]
    },
    {
      "cell_type": "code",
      "metadata": {
        "id": "HjxHYCjAmBID",
        "colab_type": "code",
        "colab": {}
      },
      "source": [
        "result = pipeline.annotate('I saw him yesterday and he told me that he would visit us next week.')"
      ],
      "execution_count": 0,
      "outputs": []
    },
    {
      "cell_type": "code",
      "metadata": {
        "id": "oToHwIikmNeX",
        "colab_type": "code",
        "outputId": "f7f587c3-3f7d-4f23-81fe-6071be479679",
        "colab": {
          "base_uri": "https://localhost:8080/",
          "height": 340
        }
      },
      "source": [
        "result"
      ],
      "execution_count": 0,
      "outputs": [
        {
          "output_type": "execute_result",
          "data": {
            "text/plain": [
              "{'date': ['2020/04/27', '2020/04/19'],\n",
              " 'document': ['I saw him yesterday and he told me that he would visit us next week.'],\n",
              " 'sentence': ['I saw him yesterday and he told me that he would visit us next week.'],\n",
              " 'token': ['I',\n",
              "  'saw',\n",
              "  'him',\n",
              "  'yesterday',\n",
              "  'and',\n",
              "  'he',\n",
              "  'told',\n",
              "  'me',\n",
              "  'that',\n",
              "  'he',\n",
              "  'would',\n",
              "  'visit',\n",
              "  'us',\n",
              "  'next',\n",
              "  'week',\n",
              "  '.']}"
            ]
          },
          "metadata": {
            "tags": []
          },
          "execution_count": 61
        }
      ]
    },
    {
      "cell_type": "code",
      "metadata": {
        "id": "A89g6O8imRiF",
        "colab_type": "code",
        "colab": {}
      },
      "source": [
        "result = pipeline.fullAnnotate('I saw him yesterday and he told me that he would visit us next week.')"
      ],
      "execution_count": 0,
      "outputs": []
    },
    {
      "cell_type": "code",
      "metadata": {
        "id": "Lv5Tqx-SnyLv",
        "colab_type": "code",
        "outputId": "5a446a3e-d50d-420d-dbcb-50e1f286c80d",
        "colab": {
          "base_uri": "https://localhost:8080/",
          "height": 357
        }
      },
      "source": [
        "result"
      ],
      "execution_count": 0,
      "outputs": [
        {
          "output_type": "execute_result",
          "data": {
            "text/plain": [
              "[{'date': [Annotation(date, 58, 66, 2020/04/27, {'sentence': '0'}),\n",
              "   Annotation(date, 10, 18, 2020/04/19, {'sentence': '0'})],\n",
              "  'document': [Annotation(document, 0, 67, I saw him yesterday and he told me that he would visit us next week., {})],\n",
              "  'sentence': [Annotation(document, 0, 67, I saw him yesterday and he told me that he would visit us next week., {'sentence': '0'})],\n",
              "  'token': [Annotation(token, 0, 0, I, {'sentence': '0'}),\n",
              "   Annotation(token, 2, 4, saw, {'sentence': '0'}),\n",
              "   Annotation(token, 6, 8, him, {'sentence': '0'}),\n",
              "   Annotation(token, 10, 18, yesterday, {'sentence': '0'}),\n",
              "   Annotation(token, 20, 22, and, {'sentence': '0'}),\n",
              "   Annotation(token, 24, 25, he, {'sentence': '0'}),\n",
              "   Annotation(token, 27, 30, told, {'sentence': '0'}),\n",
              "   Annotation(token, 32, 33, me, {'sentence': '0'}),\n",
              "   Annotation(token, 35, 38, that, {'sentence': '0'}),\n",
              "   Annotation(token, 40, 41, he, {'sentence': '0'}),\n",
              "   Annotation(token, 43, 47, would, {'sentence': '0'}),\n",
              "   Annotation(token, 49, 53, visit, {'sentence': '0'}),\n",
              "   Annotation(token, 55, 56, us, {'sentence': '0'}),\n",
              "   Annotation(token, 58, 61, next, {'sentence': '0'}),\n",
              "   Annotation(token, 63, 66, week, {'sentence': '0'}),\n",
              "   Annotation(token, 67, 67, ., {'sentence': '0'})]}]"
            ]
          },
          "metadata": {
            "tags": []
          },
          "execution_count": 63
        }
      ]
    },
    {
      "cell_type": "markdown",
      "metadata": {
        "id": "6vymPiVyoFG2",
        "colab_type": "text"
      },
      "source": [
        "## Sentiment Analysis"
      ]
    },
    {
      "cell_type": "code",
      "metadata": {
        "id": "7Mqnp33bnzFQ",
        "colab_type": "code",
        "outputId": "8a3bed44-22a6-4050-94b4-38a7fe7f9eec",
        "colab": {
          "base_uri": "https://localhost:8080/",
          "height": 68
        }
      },
      "source": [
        "pipeline =PretrainedPipeline('analyze_sentiment', 'en')"
      ],
      "execution_count": 0,
      "outputs": [
        {
          "output_type": "stream",
          "text": [
            "analyze_sentiment download started this may take some time.\n",
            "Approx size to download 4.9 MB\n",
            "[OK!]\n"
          ],
          "name": "stdout"
        }
      ]
    },
    {
      "cell_type": "code",
      "metadata": {
        "id": "G2Vqv7v2ofjm",
        "colab_type": "code",
        "colab": {}
      },
      "source": [
        "result = pipeline.annotate('The movie I watched was not a good one')"
      ],
      "execution_count": 0,
      "outputs": []
    },
    {
      "cell_type": "code",
      "metadata": {
        "id": "yMSOT4jXpeKC",
        "colab_type": "code",
        "outputId": "81702475-95bd-401d-c438-b116405d9cf4",
        "colab": {
          "base_uri": "https://localhost:8080/",
          "height": 102
        }
      },
      "source": [
        "result"
      ],
      "execution_count": 0,
      "outputs": [
        {
          "output_type": "execute_result",
          "data": {
            "text/plain": [
              "{'checked': ['The', 'movie', 'I', 'watched', 'was', 'not', 'a', 'good', 'one'],\n",
              " 'document': ['The movie I watched was not a good one'],\n",
              " 'sentence': ['The movie I watched was not a good one'],\n",
              " 'sentiment': ['negative'],\n",
              " 'token': ['The', 'movie', 'I', 'watched', 'was', 'not', 'a', 'good', 'one']}"
            ]
          },
          "metadata": {
            "tags": []
          },
          "execution_count": 66
        }
      ]
    },
    {
      "cell_type": "code",
      "metadata": {
        "id": "0uV-mK5zpe8G",
        "colab_type": "code",
        "outputId": "d5e2d93f-7e6f-4f98-cf24-70a6068c22bf",
        "colab": {
          "base_uri": "https://localhost:8080/",
          "height": 34
        }
      },
      "source": [
        "result['sentiment']"
      ],
      "execution_count": 0,
      "outputs": [
        {
          "output_type": "execute_result",
          "data": {
            "text/plain": [
              "['negative']"
            ]
          },
          "metadata": {
            "tags": []
          },
          "execution_count": 67
        }
      ]
    },
    {
      "cell_type": "code",
      "metadata": {
        "id": "7Nb7cDSGprhf",
        "colab_type": "code",
        "colab": {}
      },
      "source": [
        ""
      ],
      "execution_count": 0,
      "outputs": []
    }
  ]
}